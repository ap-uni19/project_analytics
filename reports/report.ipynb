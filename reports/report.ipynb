{
 "cells": [
  {
   "cell_type": "markdown",
   "metadata": {},
   "source": [
    "# Report"
   ]
  },
  {
   "cell_type": "markdown",
   "metadata": {},
   "source": [
    "## Introduction and data"
   ]
  },
  {
   "cell_type": "markdown",
   "metadata": {},
   "source": [
    "Der Profifußball ist nicht nur eine der weltweit populärsten Sportarten, sondern auch ein komplexes globales Wirtschaftsphänomen. Spielertransfers und die damit verbundenen Marktwerte von Profifußballern stellen zentrale Elemente dar, die sowohl für Vereine als auch für Investoren von entscheidender Bedeutung sind. Die Frage, wie der Marktwert eines Spielers bestimmt wird und welche Faktoren darauf einwirken, ist sowohl für die Sportökonomie als auch für datenwissenschaftliche Forschungen von großem Interesse.\n",
    "Die Bewertung von Spielerleistungen und das Ermitteln ihrer finanziellen Wertigkeit ist jedoch keine triviale Aufgabe. Sie umfasst zahlreiche Variablen, darunter individuelle Leistungsdaten, Alter, Position, Verletzungshistorie, internationale Erfahrung sowie die Dynamik des Transfermarktes. \n",
    "Das Ziel dieses Projekts ist es, die zentralen Faktoren zu identifizieren, die den Marktwert eines Spielers beeinflussen, und ein Modell zu entwickeln, das auf Basis dieser Erkenntnisse Marktwerte mit hoher Genauigkeit vorhersagen kann. Hierbei kommen historische Daten, statistische Analysen und moderne Verfahren des maschinellen Lernens zum Einsatz\n",
    "\n",
    "**Wissenschaftliche Relevanz**\n",
    "\n",
    "Die Erforschung von Marktwertvorhersagen im Profifußball verbindet wissenschaftliche Disziplinen wie Statistik, Ökonomie, Informatik und Sportwissenschaft. Neben der Verbesserung von Entscheidungsprozessen für Vereine und Scouts bietet diese Arbeit auch wertvolle Erkenntnisse über die Mechanismen und Dynamiken eines der lukrativsten Sportmärkte der Welt.\n",
    "\n",
    "**Hypothese**: Der Marktwert eines Profifußballspielers kann mithilfe eines Baumdiagramm approximiert werden, wenn Variablen wie individuelle Leistungsdaten, physische Eigenschaften, Alter, Markttrends und Transferhistorien systematisch analysiert und in ein maschinelles Lernmodell integriert werden.\n"
   ]
  },
  {
   "cell_type": "markdown",
   "metadata": {},
   "source": [
    "**Daten**: Diese Daten stammen aus kaggle die wiederum die Daten aus der bekannten Seite Transfermarkt.com abfragt. Die Datensätze werden aus kaggle heruntergeladen. \n",
    "Der Datensatz beinhaltet 10 .csv Dateien, die alle miteinander verknüpt sind.\n",
    "Der Ersteller baute durch eine API eine Pipeline somit die Daten wöchentlich aktualisiert werden. Dadurch beinhalten die Datensätze immer die neuesten Daten und wird bei jeder neuen kompletten Ausführung des Notebooks auch aktualisiert. \n",
    "Quelle: https://www.kaggle.com/datasets/davidcariboo/player-scores\n",
    "\n",
    "Die relevanten Datensätze werden im Notebook data/data-load.ipynb geladen und als parquet in data/raw gespeichert."
   ]
  },
  {
   "cell_type": "markdown",
   "metadata": {},
   "source": [
    "### Setup"
   ]
  },
  {
   "cell_type": "code",
   "execution_count": 46,
   "metadata": {},
   "outputs": [],
   "source": [
    "import re\n",
    "import pandas as pd\n",
    "from datetime import datetime\n",
    "import matplotlib.pyplot as plt\n",
    "import seaborn as sns\n",
    "import numpy as np\n",
    "import matplotlib.pyplot as plt\n",
    "import seaborn as sns\n",
    "import altair as alt\n",
    "import plotly.express as px\n",
    "import plotly.io as pio\n",
    "\n",
    "from sklearn.model_selection import train_test_split\n",
    "from sklearn.linear_model import LinearRegression\n",
    "from sklearn.ensemble import RandomForestRegressor\n",
    "from sklearn.ensemble import GradientBoostingRegressor, HistGradientBoostingRegressor\n",
    "from sklearn.metrics import mean_squared_error, r2_score, mean_absolute_percentage_error\n",
    "import joblib\n",
    "#import vegafusion as vf"
   ]
  },
  {
   "cell_type": "code",
   "execution_count": 47,
   "metadata": {},
   "outputs": [],
   "source": [
    "pd.set_option('display.max_columns', None) "
   ]
  },
  {
   "cell_type": "markdown",
   "metadata": {},
   "source": [
    "### Import data"
   ]
  },
  {
   "cell_type": "code",
   "execution_count": 48,
   "metadata": {},
   "outputs": [],
   "source": [
    "appearances = pd.read_parquet(\"../data/raw/appearances.parquet\")\n",
    "player_valuations = pd.read_parquet(\"../data/raw/player_valuations.parquet\")\n",
    "transfers = pd.read_parquet(\"../data/raw/transfers.parquet\")\n",
    "players = pd.read_parquet(\"../data/raw/players.parquet\")"
   ]
  },
  {
   "cell_type": "markdown",
   "metadata": {},
   "source": [
    "### Data structure"
   ]
  },
  {
   "cell_type": "code",
   "execution_count": null,
   "metadata": {},
   "outputs": [],
   "source": [
    "print(\"Appearances columns: \\n\", appearances.columns)\n",
    "print(\"\\n Player Valuations columns: \\n\", player_valuations.columns)\n",
    "print(\"\\n Transfers columns: \\n\", transfers.columns)\n",
    "print(\"\\n Players columns: \\n\", players.columns)"
   ]
  },
  {
   "cell_type": "markdown",
   "metadata": {},
   "source": [
    "#### Appearances DataFrame\n",
    " **Beschreibung:** Diese Tabelle enthält historische Daten über die Leistungen eines Spielers in einzelnen Spielen.\n",
    " **Wichtige Spalten:**\n",
    " - `player_id`: Eindeutige Spieler-ID.\n",
    " - `date`: Datum des Spiels.\n",
    " - `player_name`: Name des Spielers.\n",
    " - `competition_id`: ID des Wettbewerbs.\n",
    " - `yellow_cards`, `red_cards`: Anzahl gelber und roter Karten.\n",
    " - `goals`, `assists`: Tore und Vorlagen im Spiel.\n",
    " - `minutes_played`: Anzahl der gespielten Minuten."
   ]
  },
  {
   "cell_type": "code",
   "execution_count": null,
   "metadata": {},
   "outputs": [],
   "source": [
    "appearances.head(2)"
   ]
  },
  {
   "cell_type": "markdown",
   "metadata": {},
   "source": [
    "#### Player Valuations DataFrame\n",
    " **Beschreibung:** Diese Tabelle zeigt die Marktwertentwicklungen der Spieler über die Zeit.\n",
    " **Wichtige Spalten:**\n",
    " - `player_id`: Eindeutige Spieler-ID.\n",
    " - `date`: Datum der Marktwertermittlung.\n",
    " - `market_value_in_eur`: Erster Marktwert in Euro.\n",
    " - `current_club_id`: ID des aktuellen Clubs.\n",
    " - `player_club_domestic_competition_id`: ID des nationalen Wettbewerbs des aktuellen Clubs.\n"
   ]
  },
  {
   "cell_type": "code",
   "execution_count": null,
   "metadata": {},
   "outputs": [],
   "source": [
    "player_valuations.head(2)"
   ]
  },
  {
   "cell_type": "markdown",
   "metadata": {},
   "source": [
    "#### Transfers DataFrame\n",
    " **Beschreibung:** Diese Tabelle enthält Informationen zu Spielertransfers zwischen Clubs.\n",
    " **Wichtige Spalten:**\n",
    " - `player_id`: Eindeutige Spieler-ID.\n",
    " - `transfer_date`: Datum des Transfers.\n",
    " - `transfer_season`: Saison des Transfers.\n",
    " - `from_club_id`, `to_club_id`: IDs des abgebenden und aufnehmenden Clubs.\n",
    " - `from_club_name`, `to_club_name`: Namen der Clubs.\n",
    " - `transfer_fee`: Transfergebühr in Euro.\n",
    " - `market_value_in_eur`: Marktwert des Spielers zum Zeitpunkt des Transfers."
   ]
  },
  {
   "cell_type": "code",
   "execution_count": null,
   "metadata": {},
   "outputs": [],
   "source": [
    "transfers.head(2)"
   ]
  },
  {
   "cell_type": "markdown",
   "metadata": {},
   "source": [
    "#### Players DataFrame\n",
    " **Beschreibung:** Diese Tabelle enthält Basisinformationen zu Spielern.\n",
    " **Wichtige Spalten:**\n",
    " - `player_id`: Eindeutige Spieler-ID.\n",
    " - `name`, `first_name`, `last_name`: Name des Spielers.\n",
    " - `country_of_birth`, `country_of_citizenship`: Geburtsland und Staatsangehörigkeit.\n",
    " - `foot`: Bevorzugter Fuß (rechts/links).\n",
    " - `height_in_cm`: Körpergröße in cm.\n",
    " - `contract_expiration_date`: Vertragslaufzeitende.\n",
    " - `current_club_name`: Name des aktuellen Clubs.\n",
    " - `market_value_in_eur`: Aktueller Marktwert in Euro.\n",
    " - `highest_market_value_in_eur`: Höchster Marktwert in Euro."
   ]
  },
  {
   "cell_type": "code",
   "execution_count": null,
   "metadata": {},
   "outputs": [],
   "source": [
    "players.head(2)"
   ]
  },
  {
   "cell_type": "markdown",
   "metadata": {},
   "source": [
    "### Data corrections"
   ]
  },
  {
   "cell_type": "markdown",
   "metadata": {},
   "source": [
    "#### Aggregierte Appearances DataFrame\n",
    "- **Beschreibung:** Diese Tabelle fasst die Leistungen eines Spielers über alle Spiele zusammen.\n",
    "- **Aggregierte Spalten:**\n",
    "  - `total_minutes_played`: Gesamte Spielminuten.\n",
    "  - `total_goals`, `total_assists`: Gesamte Tore und Vorlagen.\n",
    "  - `total_yellow_cards`, `total_red_cards`: Summe der gelben und roten Karten.\n",
    "  - `total_golas_per_game`: Totaler Durchschnitt der Tore pro Spiel \n"
   ]
  },
  {
   "cell_type": "code",
   "execution_count": null,
   "metadata": {},
   "outputs": [],
   "source": [
    "appearances_agg = appearances.groupby('player_id').agg({\n",
    "    'minutes_played': 'sum',  # Gesamtminuten\n",
    "    'goals': 'sum',           # Gesamttore\n",
    "    'assists': 'sum',         # Gesamtvorlagen\n",
    "    'yellow_cards': 'sum',    # Gelbe Karten\n",
    "    'red_cards': 'sum',       # Rote Karten\n",
    "    'game_id': 'count'        # Anzahl der Spiele\n",
    "}).reset_index()\n",
    "\n",
    "appearances_agg.rename(columns={\n",
    "    'minutes_played': 'total_minutes_played',\n",
    "    'goals': 'total_goals',\n",
    "    'assists': 'total_assists',\n",
    "    'yellow_cards': 'total_yellow_cards',\n",
    "    'red_cards': 'total_red_cards',\n",
    "    'game_id': 'total_matches'\n",
    "}, inplace=True)\n",
    "\n",
    "\n",
    "appearances_agg.head()"
   ]
  },
  {
   "cell_type": "markdown",
   "metadata": {},
   "source": [
    "#### Aggregierte Appearancespro Jahr (historisiert)\n",
    "- **Beschreibung:** Diese Tabelle fasst die Leistung jährlich eines Spielers über alle Spiele zusammen.\n",
    "- **Aggregierte Spalten:**\n",
    "  - `minutes_played_per_game`: Gesamte Spielminuten.\n",
    "  - `assists_per_game`: Gesamte Vorlagen.\n",
    "  - `yellow_cards_per_game`, `red_cards_per_game`: Summe der gelben und roten Karten.\n",
    "  - `golas_per_game`: Totaler Durchschnitt der Tore pro Spiel \n"
   ]
  },
  {
   "cell_type": "code",
   "execution_count": null,
   "metadata": {},
   "outputs": [],
   "source": [
    "appearances['date'] = pd.to_datetime(appearances['date'])\n",
    "appearances['year'] = appearances['date'].dt.year\n",
    "\n",
    "appearances_hist = appearances.groupby(['player_id', 'year']).agg({\n",
    "    'minutes_played': 'sum',\n",
    "    'goals': 'sum',         \n",
    "    'assists': 'sum',       \n",
    "    'yellow_cards': 'sum',  \n",
    "    'red_cards': 'sum',     \n",
    "    'game_id': 'count' \n",
    "}).reset_index()\n",
    "\n",
    "appearances_hist['goals_per_game'] = appearances_hist['goals'] / appearances_hist['game_id']\n",
    "appearances_hist['assists_per_game'] = appearances_hist['assists'] / appearances_hist['game_id']\n",
    "appearances_hist['yellow_cards_per_game'] = appearances_hist['yellow_cards'] / appearances_hist['game_id']\n",
    "appearances_hist['red_cards_per_game'] = appearances_hist['red_cards'] / appearances_hist['game_id']\n",
    "appearances_hist['minutes_played_per_game'] = appearances_hist['minutes_played'] / appearances_hist['game_id']\n",
    "\n",
    "appearances_hist.drop([\"minutes_played\", \"goals\", \"assists\", \"yellow_cards\", \"red_cards\", \"game_id\"], axis=1, inplace =True)\n",
    "\n",
    "appearances_hist.head()"
   ]
  },
  {
   "cell_type": "markdown",
   "metadata": {},
   "source": [
    "In diesem Schritt werden die Leistungsdaten der Spieler, wie Tore, Assists und Karten, auf Spielebene normalisiert, um Metriken wie `goals_per_game` oder `assists_per_game` zu berechnen. Dadurch wird die Leistung unabhängig von der Anzahl absolvierter Spiele dargestellt, was eine objektivere Analyse ermöglicht und zeitliche Entwicklungen präziser abbildet. Dies erlaubt eine differenziertere Analyse, die weniger von der Anzahl der absolvierten Spiele beeinflusst ist."
   ]
  },
  {
   "cell_type": "code",
   "execution_count": 56,
   "metadata": {},
   "outputs": [],
   "source": [
    "player_data = appearances_hist[appearances_hist['player_id'] == 342229]\n",
    "fig = px.line(\n",
    "    player_data,\n",
    "    x='year',\n",
    "    y='goals_per_game',\n",
    "    title='Tore pro Spiel im Zeitverlauf',\n",
    "    labels={'goals_per_game': 'Tore pro Spiel', 'year': 'Jahr'}\n",
    ")\n",
    "fig.update_layout(\n",
    "    xaxis=dict(\n",
    "        tickmode='linear',\n",
    "        tick0=min(player_data['year']),\n",
    "        dtick=1  # Schritte von 1 Jahr\n",
    "    )\n",
    ")\n",
    "#speichern\n",
    "plot_title = fig.layout.title.text\n",
    "safe_title = re.sub(r'[^\\w\\s-]', '', plot_title).replace(' ', '_')\n",
    "fig.write_html(f\"../references/plotly/{safe_title}.html\")"
   ]
  },
  {
   "cell_type": "code",
   "execution_count": null,
   "metadata": {},
   "outputs": [],
   "source": [
    "sns.set_style(\"whitegrid\")\n",
    "sns.set_palette(\"deep\")\n",
    "\n",
    "player_data = appearances_hist[appearances_hist['player_id'] == 342229]\n",
    "\n",
    "plt.figure(figsize=(12, 7))\n",
    "\n",
    "sns.lineplot(data=player_data, x='year', y='goals_per_game', linewidth=2.5, marker='o')\n",
    "plt.scatter(player_data['year'], player_data['goals_per_game'], s=60, color='red', zorder=5)\n",
    "\n",
    "plt.title('Tore pro Spiel im Zeitverlauf', fontsize=20, fontweight='bold', pad=20)\n",
    "plt.xlabel('Jahr', fontsize=14, labelpad=10)\n",
    "plt.ylabel('Tore pro Spiel', fontsize=14, labelpad=10)\n",
    "\n",
    "plt.xticks(range(min(player_data['year']), max(player_data['year'])+1, 1), rotation=45)\n",
    "plt.ylim(0, max(player_data['goals_per_game']) * 1.1)\n",
    "plt.grid(True, linestyle='--', alpha=0.7)\n",
    "sns.despine()\n",
    "plt.legend(['Tore pro Spiel'], loc='upper left', fontsize=12)\n",
    "\n",
    "plt.tight_layout()\n",
    "plt.show()\n",
    "\n"
   ]
  },
  {
   "cell_type": "markdown",
   "metadata": {},
   "source": [
    "Die Grafik zeigt der Verlauf von Toren pro Spiel des Topspielers Kylian Mbappe."
   ]
  },
  {
   "cell_type": "markdown",
   "metadata": {},
   "source": [
    "#### Fehldende Werte raussuchen und Daten Engineering"
   ]
  },
  {
   "cell_type": "code",
   "execution_count": null,
   "metadata": {},
   "outputs": [],
   "source": [
    "print(\"Fehlende Werte in appearances:\")\n",
    "print(appearances.isnull().sum())"
   ]
  },
  {
   "cell_type": "code",
   "execution_count": null,
   "metadata": {},
   "outputs": [],
   "source": [
    "print(\"Fehlende Werte in player_valuations:\")\n",
    "player_valuations['date'] = pd.to_datetime(player_valuations['date'])\n",
    "player_valuations['year'] = player_valuations['date'].dt.year\n",
    "\n",
    "#player_valuations.drop(\"date\", axis=1, inplace=True) # date wird gelöscht um auf Jahreseben den Marktwert zu untersuchen\n",
    "player_valuations = player_valuations.drop_duplicates(subset=['player_id','year'], keep='last') # damit wird gewährleistet, dass pro Jahr auf nur ein Marktwert pro Spieler limitiert wird\n",
    "print(player_valuations.isnull().sum())"
   ]
  },
  {
   "cell_type": "markdown",
   "metadata": {},
   "source": [
    "Durch `drop_duplicates(subset=['player_id','year'], keep='last')` wird gewährleistet, dass es auf nur ein Marktwert pro Spieler im Jahr limitiert wird. Da es Spieler gibt deren Marktwert mehrmals im Jahr abgefragt wird."
   ]
  },
  {
   "cell_type": "code",
   "execution_count": null,
   "metadata": {},
   "outputs": [],
   "source": [
    "print(\"Fehlende Werte in transfers:\")\n",
    "transfers['transfer_date'] = pd.to_datetime(transfers['transfer_date'])\n",
    "transfers['year'] = transfers['transfer_date'].dt.year\n",
    "# wichtig für das Mergen später\n",
    "print(transfers.isnull().sum())"
   ]
  },
  {
   "cell_type": "code",
   "execution_count": null,
   "metadata": {},
   "outputs": [],
   "source": [
    "print(\"Fehlende Werte in players:\")\n",
    "\n",
    "print(players.isnull().sum())"
   ]
  },
  {
   "cell_type": "code",
   "execution_count": 62,
   "metadata": {},
   "outputs": [],
   "source": [
    "players.dropna(subset=['market_value_in_eur'], inplace=True)"
   ]
  },
  {
   "cell_type": "code",
   "execution_count": null,
   "metadata": {},
   "outputs": [],
   "source": [
    "print(\"Fehlende Werte in appearances_hist:\")\n",
    "print(appearances_hist.isnull().sum())"
   ]
  },
  {
   "cell_type": "markdown",
   "metadata": {},
   "source": [
    "#### Merging Datasets"
   ]
  },
  {
   "cell_type": "markdown",
   "metadata": {},
   "source": [
    "`combined_data_agg` enthält die aggregierte Version (`appearances_agg`) der Spieler. Keine Historie enthalten durch `drop_duplicates(subset='player_id', keep='last')` wird der aktuellste Marktewert genommen."
   ]
  },
  {
   "cell_type": "code",
   "execution_count": null,
   "metadata": {},
   "outputs": [],
   "source": [
    "combined_data_agg = players.merge(appearances_agg, on='player_id', how='inner')\n",
    "\n",
    "#combined_data_agg = combined_data_agg.merge(transfers[['player_id', 'transfer_fee', 'market_value_in_eur','year']].drop_duplicates(subset='player_id', keep='first'), \n",
    "#                                    on=['player_id'], how='left')\n",
    "\n",
    "combined_data_agg.head()"
   ]
  },
  {
   "cell_type": "code",
   "execution_count": null,
   "metadata": {},
   "outputs": [],
   "source": [
    "combined_data_agg[combined_data_agg[\"name\"]==\"Kylian Mbappé\"]"
   ]
  },
  {
   "cell_type": "markdown",
   "metadata": {},
   "source": [
    "`combined_data_hist` enthält die historisierte Version (`appearances_hist`) der Aggregationen "
   ]
  },
  {
   "cell_type": "code",
   "execution_count": null,
   "metadata": {},
   "outputs": [],
   "source": [
    "combined_data_hist = player_valuations.merge(players, on='player_id', how='inner')\n",
    "combined_data_hist = combined_data_hist.merge(appearances_hist, on=['player_id', 'year'], how='inner')\n",
    "\n",
    "combined_data_hist = combined_data_hist.merge(transfers[['player_id', 'transfer_fee', 'market_value_in_eur', 'year', 'transfer_season']], \n",
    "                                    on=['player_id', 'year'] , how='left')\n",
    "\n",
    "combined_data_hist.head()"
   ]
  },
  {
   "cell_type": "markdown",
   "metadata": {},
   "source": [
    "#### Feature Engineering"
   ]
  },
  {
   "cell_type": "code",
   "execution_count": 67,
   "metadata": {},
   "outputs": [],
   "source": [
    "combined_data_hist.rename(columns={\n",
    "    'market_value_in_eur_x': 'historical_to_date__market_value',\n",
    "    'market_value_in_eur_y': 'current_market_value',\n",
    "    'market_value_in_eur': 'transfer_market_value',\n",
    "    'player_club_domestic_competition_id': 'league_id'\n",
    "}, inplace=True)\n",
    "\n",
    "combined_data_agg.rename(columns={\n",
    "    'market_value_in_eur': 'current_market_value',\n",
    "    'current_club_domestic_competition_id': 'league_id'\n",
    "}, inplace=True)"
   ]
  },
  {
   "cell_type": "code",
   "execution_count": 68,
   "metadata": {},
   "outputs": [],
   "source": [
    "## Feautre Engineering: transfer gap\n",
    "combined_data_hist['transfer_fee_gap'] = combined_data_hist['transfer_fee'] - combined_data_hist['transfer_market_value']\n",
    "combined_data_hist.drop(columns=['current_club_id_x', 'current_club_id_y', 'image_url', 'url', 'agent_name', 'player_code', 'first_name', 'last_name', 'current_club_domestic_competition_id'], inplace=True)"
   ]
  },
  {
   "cell_type": "code",
   "execution_count": 69,
   "metadata": {},
   "outputs": [],
   "source": [
    "combined_data_agg.drop(columns=['image_url', 'url', 'agent_name', 'player_code', 'first_name', 'last_name'], inplace=True)"
   ]
  },
  {
   "cell_type": "markdown",
   "metadata": {},
   "source": [
    "`transfer_fee_gap` enthält die Differenz zwischen der Transfer Gebühr und den jeweiligen Marktwert im Jahr des Transfers. Da die Transfers jährlich vorliegen, werden der `transfer_fee_gap` nur bei der historischen Version hinzugefügt "
   ]
  },
  {
   "cell_type": "markdown",
   "metadata": {},
   "source": [
    "##### Alter ergänzen und evaluieren"
   ]
  },
  {
   "cell_type": "code",
   "execution_count": 70,
   "metadata": {},
   "outputs": [],
   "source": [
    "## Feautre Engineering: Alter\n",
    "combined_data_hist['age'] = (pd.to_datetime(combined_data_hist['date']).dt.year - \n",
    "                         pd.to_datetime(combined_data_hist['date_of_birth']).dt.year)\n",
    "\n",
    "current_year = datetime.now().year\n",
    "combined_data_agg['age'] = current_year - pd.to_datetime(combined_data_agg['date_of_birth']).dt.year\n"
   ]
  },
  {
   "cell_type": "code",
   "execution_count": null,
   "metadata": {},
   "outputs": [],
   "source": [
    "combined_data_hist[['date_of_birth', 'age']].head()"
   ]
  },
  {
   "cell_type": "code",
   "execution_count": null,
   "metadata": {},
   "outputs": [],
   "source": [
    "combined_data_agg.head(2)"
   ]
  },
  {
   "cell_type": "code",
   "execution_count": null,
   "metadata": {},
   "outputs": [],
   "source": [
    "combined_data_hist.head(2)"
   ]
  },
  {
   "cell_type": "code",
   "execution_count": null,
   "metadata": {},
   "outputs": [],
   "source": [
    "combined_data_hist = combined_data_hist[combined_data_hist['age'] > 15]\n",
    "combined_data_agg = combined_data_agg[combined_data_agg['age'] > 15]\n",
    "\n",
    "combined_data_hist.shape"
   ]
  },
  {
   "cell_type": "markdown",
   "metadata": {},
   "source": [
    "In diesem Schritt wird das Alter der Spieler zum Zeitpunkt der Marktwertbewertung berechnet, indem das Datum der Bewertung (`date`) und das Geburtsdatum des Spielers (`date_of_birth`) herangezogen werden. Anschließend wird der Datensatz gefiltert, sodass nur Spieler berücksichtigt werden, die zum Zeitpunkt der Bewertung ein Mindestalter von 15 Jahren erreicht haben.\n",
    "\n",
    "Das Mindestalter von 15 Jahren wird als Untergrenze definiert, da Marktwertbewertungen für Spieler, die jünger als 15 Jahre alt sind, in der Regel unplausibel und fehlerhaft erscheinen. Solche Datensätze können als Ausreißer betrachtet werden und die statistische Analyse sowie die Vorhersagemodelle erheblich verfälschen."
   ]
  },
  {
   "cell_type": "markdown",
   "metadata": {},
   "source": [
    "##### Aktive oder in Rente "
   ]
  },
  {
   "cell_type": "code",
   "execution_count": 75,
   "metadata": {},
   "outputs": [],
   "source": [
    "current_year = 2025\n",
    "\n",
    "combined_data_hist['is_retired'] = combined_data_hist['last_season'] <= (current_year - 5)\n",
    "\n",
    "combined_data_agg['is_retired'] = combined_data_agg['last_season'] <= (current_year - 5)"
   ]
  },
  {
   "cell_type": "markdown",
   "metadata": {},
   "source": [
    "Die neue  Variable `is_retired` erlaubt es, aktive und inaktive Spieler getrennt zu betrachten, was Verzerrungen in den Modellen reduzieren kann."
   ]
  },
  {
   "cell_type": "markdown",
   "metadata": {},
   "source": [
    "#### Change Datatypes"
   ]
  },
  {
   "cell_type": "code",
   "execution_count": null,
   "metadata": {},
   "outputs": [],
   "source": [
    "combined_data_hist.info()"
   ]
  },
  {
   "cell_type": "code",
   "execution_count": null,
   "metadata": {},
   "outputs": [],
   "source": [
    "# IDs zu Strings umwandeln\n",
    "id_columns = [\n",
    "    \"player_id\", \"league_id\"\n",
    "]\n",
    "combined_data_hist[id_columns] = combined_data_hist[id_columns].astype(str)\n",
    "\n",
    "# Datumsangaben umwandeln\n",
    "date_columns = [\"date\", \"date_of_birth\", \"contract_expiration_date\"]\n",
    "for col in date_columns:\n",
    "    combined_data_hist[col] = pd.to_datetime(combined_data_hist[col], errors='coerce')\n",
    "\n",
    "\n",
    "print(combined_data_hist.info())\n"
   ]
  },
  {
   "cell_type": "code",
   "execution_count": null,
   "metadata": {},
   "outputs": [],
   "source": [
    "combined_data_agg.info()"
   ]
  },
  {
   "cell_type": "code",
   "execution_count": null,
   "metadata": {},
   "outputs": [],
   "source": [
    "# IDs zu Strings umwandeln\n",
    "id_columns = [\n",
    "    \"player_id\", \"current_club_id\", \"league_id\"\n",
    "]\n",
    "combined_data_agg[id_columns] = combined_data_agg[id_columns].astype(str)\n",
    "\n",
    "# Datumsangaben umwandeln\n",
    "date_columns = [ \"date_of_birth\", \"contract_expiration_date\"]\n",
    "for col in date_columns:\n",
    "    combined_data_agg[col] = pd.to_datetime(combined_data_agg[col], errors='coerce')\n",
    "\n",
    "\n",
    "print(combined_data_agg.info())"
   ]
  },
  {
   "cell_type": "code",
   "execution_count": 80,
   "metadata": {},
   "outputs": [],
   "source": [
    "\n",
    "# abspeichern in data/processed\n",
    "combined_data_hist.to_parquet('../data/processed/combined_data_hist.parquet')\n",
    "combined_data_agg.to_parquet('../data/processed/combined_data_agg.parquet')"
   ]
  },
  {
   "cell_type": "markdown",
   "metadata": {},
   "source": [
    "### Analysis"
   ]
  },
  {
   "cell_type": "markdown",
   "metadata": {},
   "source": [
    "Für die Analysen wird die aggregierte Version der Dataframes `combined_data_agg` genutzt, um das mehrfache Vorkommen von Spielern zu verhindern. "
   ]
  },
  {
   "cell_type": "code",
   "execution_count": 81,
   "metadata": {},
   "outputs": [],
   "source": [
    "fig = px.box(\n",
    "    combined_data_agg, \n",
    "    y=\"current_market_value\", \n",
    "    color=combined_data_agg['is_retired'].map({True: 'Retired', False: 'Active'}),\n",
    "    title=\"02_Boxplot des aktuellen Marktwerts, aufgeteilt nach aktiven oder zurückgetretenen Spielern (2020)\",\n",
    "    labels={\"current_market_value\": \"Marktwert (in M€)\"},\n",
    "    hover_data=[\"name\", \"age\"] \n",
    ")\n",
    "\n",
    "fig.update_layout(\n",
    "    yaxis=dict(title=\"Marktwert (in M€)\", showgrid=True),\n",
    "    xaxis=dict(showticklabels=False),\n",
    "    title=dict(x=0.5)  # Titel zentrieren\n",
    ")\n",
    "\n",
    "#fig.show()\n",
    "#speichern\n",
    "plot_title = fig.layout.title.text\n",
    "safe_title = re.sub(r'[^\\w\\s-]', '', plot_title).replace(' ', '_')\n",
    "fig.write_html(f\"../references/plotly/{safe_title}.html\")"
   ]
  },
  {
   "cell_type": "code",
   "execution_count": null,
   "metadata": {},
   "outputs": [],
   "source": [
    "plt.figure(figsize=(10, 6))\n",
    "sns.boxplot(\n",
    "    data=combined_data_agg,\n",
    "    y=\"current_market_value\",\n",
    "    x=combined_data_agg['is_retired'].map({True: 'Retired', False: 'Active'}),\n",
    "    palette={\"Active\": \"#1f77b4\", \"Retired\": \"#d62728\"},  # Blau für Active, Rot für Retired\n",
    "    linewidth=2,\n",
    "    width=0.6,\n",
    "    notch=True\n",
    ")\n",
    "\n",
    "plt.title(\"Boxplot des aktuellen Marktwerts, aufgeteilt nach aktiven oder zurückgetretenen Spielern (2020)\", fontsize=16, weight='bold', pad=20)\n",
    "plt.ylabel(\"Current Market Value (in M€)\", fontsize=14)\n",
    "plt.xlabel(\"\")\n",
    "plt.xticks(fontsize=12)\n",
    "plt.yticks(fontsize=12)\n",
    "plt.grid(axis='y', linestyle='--', alpha=0.6)\n",
    "sns.despine(left=True)\n",
    "\n",
    "plt.tight_layout()\n",
    "plt.show()"
   ]
  },
  {
   "cell_type": "markdown",
   "metadata": {},
   "source": [
    "Die Boxplots zeigen die Verteilung der aktuellen Marktwerte von Fußballspielern, getrennt nach aktiven und pensionierten Spielern. Die Marktwerte konzentrieren sich überwiegend im unteren Bereich, wobei einige wenige aktive Spieler als Ausreißer deutlich höhere Werte aufweisen. Pensionierte Spieler haben insgesamt niedrigere Marktwerte und kaum Ausreißer, was auf eine homogenere Verteilung hinweist. Der Plot verdeutlicht die starke Schiefe der Marktwerte und die größere Streuung bei aktiven Spielern im Vergleich zu pensionierten."
   ]
  },
  {
   "cell_type": "markdown",
   "metadata": {},
   "source": [
    "#### Ohne Ausreißer"
   ]
  },
  {
   "cell_type": "code",
   "execution_count": 83,
   "metadata": {},
   "outputs": [],
   "source": [
    "q1 = combined_data_agg[\"current_market_value\"].quantile(0.25)\n",
    "q3 = combined_data_agg[\"current_market_value\"].quantile(0.75)\n",
    "iqr = q3 - q1\n",
    "lower_bound = q1 - 1.5 * iqr\n",
    "upper_bound = q3 + 1.5 * iqr\n",
    "\n",
    "# Filtern der Daten ohne Ausreißer\n",
    "combined_data_agg_no_outliers = combined_data_agg[\n",
    "    (combined_data_agg[\"current_market_value\"] >= lower_bound) & \n",
    "    (combined_data_agg[\"current_market_value\"] <= upper_bound)\n",
    "]"
   ]
  },
  {
   "cell_type": "code",
   "execution_count": null,
   "metadata": {},
   "outputs": [],
   "source": [
    "combined_data_agg_no_outliers.shape"
   ]
  },
  {
   "cell_type": "code",
   "execution_count": 85,
   "metadata": {},
   "outputs": [],
   "source": [
    "fig = px.box(\n",
    "    combined_data_agg_no_outliers, \n",
    "    y=\"current_market_value\", \n",
    "    title=\"03_Boxplot des aktuellen Marktwerts, aufgeteilt nach aktiven oder zurückgetretenen Spielern (2020), ohne Ausreißer\",\n",
    "    labels={\"current_market_value\": \"Marktwert (in M€)\"},\n",
    "    hover_data=[\"name\", \"age\"]\n",
    ")\n",
    "\n",
    "#fig.show()\n",
    "plot_title = fig.layout.title.text\n",
    "safe_title = re.sub(r'[^\\w\\s-]', '', plot_title).replace(' ', '_')\n",
    "fig.write_html(f\"../references/plotly/{safe_title}.html\")"
   ]
  },
  {
   "cell_type": "code",
   "execution_count": null,
   "metadata": {},
   "outputs": [],
   "source": [
    "plt.figure(figsize=(8, 6))\n",
    "sns.boxplot(\n",
    "    data=combined_data_agg_no_outliers,\n",
    "    y=\"current_market_value\",\n",
    "    linewidth=2,\n",
    "    width=0.6,\n",
    "    color=\"#1f77b4\",\n",
    "    notch=True\n",
    ")\n",
    "\n",
    "plt.title(\"Boxplot des Marktwerts (in €) ohne Ausreißer\", fontsize=16, weight='bold', pad=20)\n",
    "plt.ylabel(\"Marktwert (in M€)\", fontsize=14)\n",
    "plt.xlabel(\"\")\n",
    "plt.yticks(fontsize=12)\n",
    "plt.grid(axis='y', linestyle='--', alpha=0.6)\n",
    "sns.despine(left=True)\n",
    "\n",
    "plt.tight_layout()\n",
    "plt.show()"
   ]
  },
  {
   "cell_type": "markdown",
   "metadata": {},
   "source": [
    "Nach dem Filtern der Außreiser sieht der Boyplot so aus. Dieser weißt einen Median von 0.25 Mil mit einem Upper Fence von einer Mil."
   ]
  },
  {
   "cell_type": "code",
   "execution_count": 87,
   "metadata": {},
   "outputs": [],
   "source": [
    "fig = px.box(\n",
    "    combined_data_agg_no_outliers, \n",
    "    y=\"current_market_value\", \n",
    "    color=combined_data_agg_no_outliers['is_retired'].map({True: 'Retired', False: 'Active'}),\n",
    "    title=\"04_Boxplot des aktuellen Marktwerts, aufgeteilt nach aktiven oder zurückgetretenen Spielern (2020)\",\n",
    "    labels={\"current_market_value\": \"Marktwert (in M€)\"},\n",
    "    hover_data=[\"name\", \"age\"],\n",
    ")\n",
    "\n",
    "#fig.show()\n",
    "plot_title = fig.layout.title.text\n",
    "safe_title = re.sub(r'[^\\w\\s-]', '', plot_title).replace(' ', '_')\n",
    "fig.write_html(f\"../references/plotly/{safe_title}.html\")"
   ]
  },
  {
   "cell_type": "code",
   "execution_count": null,
   "metadata": {},
   "outputs": [],
   "source": [
    "import matplotlib.pyplot as plt\n",
    "import seaborn as sns\n",
    "\n",
    "plt.figure(figsize=(10, 6))\n",
    "sns.boxplot(\n",
    "    data=combined_data_agg_no_outliers,\n",
    "    y=\"current_market_value\",\n",
    "    x=combined_data_agg_no_outliers['is_retired'].map({True: 'Retired', False: 'Active'}),\n",
    "    palette={\"Active\": \"#d62728\", \"Retired\": \"#1f77b4\"},\n",
    "    linewidth=2,\n",
    "    width=0.6,\n",
    "    notch=True\n",
    ")\n",
    "\n",
    "plt.title(\"Boxplot des Marktwerts (in €), aufgeteilt nach Aktiven und Zurückgetretenen Spielern (2020), ohne Ausreißer\", fontsize=16, weight='bold', pad=20)\n",
    "plt.ylabel(\"Marktwert (in €)\", fontsize=14)\n",
    "plt.xlabel(\"\")\n",
    "plt.xticks(fontsize=12)\n",
    "plt.yticks(fontsize=12)\n",
    "plt.grid(axis='y', linestyle='--', alpha=0.6)\n",
    "sns.despine(left=True)\n",
    "\n",
    "plt.tight_layout()\n",
    "plt.show()"
   ]
  },
  {
   "cell_type": "markdown",
   "metadata": {},
   "source": [
    "Die obere Grafik hier nochmals unterteilt nach Aktiven und zurückgetretnen Spielern."
   ]
  },
  {
   "cell_type": "markdown",
   "metadata": {},
   "source": [
    "#### Descriptive statistics"
   ]
  },
  {
   "cell_type": "code",
   "execution_count": null,
   "metadata": {},
   "outputs": [],
   "source": [
    "#combined_data.describe().T\n",
    "\n",
    "numeric_combined_data_agg = combined_data_agg.select_dtypes(include=[\"number\"])\n",
    "numeric_combined_data_agg.describe().T"
   ]
  },
  {
   "cell_type": "markdown",
   "metadata": {},
   "source": [
    "Die deskriptive Analyse zeigt eine große Vielfalt unter den Fußballspielern, sowohl in Bezug auf ihre Leistung als auch auf ihren Marktwert. Der durchschnittliche aktuelle Marktwert (`current_market_value`) liegt bei etwa 1,95 Millionen Euro, wobei die Werte von nur 10.000 Euro bis hin zu beeindruckenden 200 Millionen Euro reichen. Spieler haben im Durchschnitt 6,33 Tore (`total_goals`) und 4,99 Assists (`total_assists`) erzielt, mit maximalen Werten von 490 Toren und 224 Assists, was die Präsenz einiger außergewöhnlicher Akteure unterstreicht. Die durchschnittliche Anzahl absolvierter Spiele (`total_matches`) liegt bei rund 66, wobei einige Spieler bis zu 589 Spiele bestritten haben. Die durchschnittliche Spielzeit (`total_minutes_played`) beläuft sich auf 4.565 Minuten, mit einem Maximum von nahezu 50.000 Minuten. Disziplinarisch erhalten Spieler im Schnitt etwa 9,76 gelbe Karten (`total_yellow_cards`) und 0,25 rote Karten (`total_red_cards`) im Verlauf ihrer Karriere. Das durchschnittliche Alter der Spieler (`age`) beträgt 31 Jahre, mit einer Spannweite von 17 bis 55 Jahren, was sowohl die jungen Talente als auch erfahrene Veteranen repräsentiert."
   ]
  },
  {
   "cell_type": "markdown",
   "metadata": {},
   "source": [
    "#### Exploratory data analysis"
   ]
  },
  {
   "cell_type": "markdown",
   "metadata": {},
   "source": [
    "Für EDA lieber historisierte Daten nutzen? Spieler kommen öfters vor durch historisierung"
   ]
  },
  {
   "cell_type": "code",
   "execution_count": null,
   "metadata": {},
   "outputs": [],
   "source": [
    "sns.histplot(combined_data_agg['current_market_value'], bins=50, kde=True)\n",
    "plt.title(\"Distribution of Current Market Values\")\n",
    "plt.show()"
   ]
  },
  {
   "cell_type": "markdown",
   "metadata": {},
   "source": [
    "Diese Verteilungsgrafik zeigt, dass die Menge der Spieler mit einem niedrigen Marktwert deutlich präsenter im Datensatz sind."
   ]
  },
  {
   "cell_type": "code",
   "execution_count": 91,
   "metadata": {},
   "outputs": [],
   "source": [
    "lineplot_data = combined_data_hist[combined_data_hist['player_id'].isin([\"418560\", \"371998\", \"342229\"])]\n",
    "\n",
    "fig = px.line(\n",
    "    lineplot_data,\n",
    "    x='year',\n",
    "    y='historical_to_date__market_value',\n",
    "    color='name',  \n",
    "    line_group='player_id',\n",
    "    hover_data={\n",
    "        'name': True,\n",
    "        'goals_per_game': True,  \n",
    "        'assists_per_game': True,  \n",
    "        'year': True,   \n",
    "    },\n",
    "    title=\"05_Vergleich der Marktwertentwicklung mehrerer Spieler\",\n",
    "    labels={\n",
    "        'name': \"Name\",\n",
    "        'year': 'Jahr',\n",
    "        'goals_per_game': 'Tore pro Spiel',\n",
    "        'assists_per_game':'Assist pro Spiel',\n",
    "        'historical_to_date__market_value': 'Marktwert (in €)'\n",
    "    }\n",
    ")\n",
    "\n",
    "fig.update_layout(\n",
    "    xaxis_title=\"Jahr\",\n",
    "    yaxis_title=\"Marktwert (in €)\",\n",
    "    legend_title=\"Spieler\",\n",
    "    hovermode=\"x unified\"\n",
    ")\n",
    "\n",
    "#fig.show()\n",
    "plot_title = fig.layout.title.text\n",
    "safe_title = re.sub(r'[^\\w\\s-]', '', plot_title).replace(' ', '_')\n",
    "fig.write_html(f\"../references/plotly/{safe_title}.html\")"
   ]
  },
  {
   "cell_type": "code",
   "execution_count": null,
   "metadata": {},
   "outputs": [],
   "source": [
    "lineplot_data = combined_data_hist[combined_data_hist['player_id'].isin([\"418560\", \"371998\", \"342229\"])]\n",
    "\n",
    "plt.figure(figsize=(10, 6))\n",
    "\n",
    "sns.lineplot(\n",
    "    data=lineplot_data,\n",
    "    x='year',\n",
    "    y='historical_to_date__market_value',\n",
    "    hue='name',\n",
    "    marker=\"o\",\n",
    "    palette=\"tab10\"\n",
    ")\n",
    "\n",
    "plt.title(\"Vergleich der Marktwertentwicklung mehrerer Spieler\", fontsize=16, weight='bold')\n",
    "plt.xlabel(\"Jahr\", fontsize=14)\n",
    "plt.ylabel(\"Marktwert (in €)\", fontsize=14)\n",
    "plt.legend(title=\"Spieler\", fontsize=12, title_fontsize=14)\n",
    "plt.grid(axis='y', linestyle='--', alpha=0.7)\n",
    "plt.tight_layout()\n",
    "\n",
    "plt.show()\n"
   ]
  },
  {
   "cell_type": "markdown",
   "metadata": {},
   "source": [
    "Das Diagramm zeigt die Marktwertentwicklung dreier Spieler – Kylian Mbappé, Erling Haaland und Vinícius Júnior – über die Jahre. Alle Spieler zeigen ein konstantes Wachstum ihres Marktwerts, was ihre steigende Leistung und Attraktivität auf dem Transfermarkt widerspiegelt. Besonders Kylian Mbappé sticht hervor: Ab 2017 steigt sein Marktwert rapide an und stabilisiert sich bei ca. 200 Millionen Euro, was seine Stellung als einer der teuersten Spieler der Welt unterstreicht. Im Gegensatz dazu zeigt Erling Haaland erst ab 2019 einen signifikanten Anstieg seines Marktwerts, der mit seinem internationalen Durchbruch korreliert. Vinícius Júnior weist eine stetige, aber weniger drastische Entwicklung auf, was auf eine kontinuierliche Leistungssteigerung hindeutet. Insgesamt spiegelt das Diagramm unterschiedliche Karriereverläufe wider, wobei bei Mbappé eine Stabilisierung und bei Haaland ein starkes Wachstum erkennbar ist."
   ]
  },
  {
   "cell_type": "code",
   "execution_count": 93,
   "metadata": {},
   "outputs": [],
   "source": [
    "fig = px.scatter(\n",
    "    lineplot_data,\n",
    "    x='year',\n",
    "    y='historical_to_date__market_value',\n",
    "    color='name',\n",
    "    size='goals_per_game',  \n",
    "    hover_data={\n",
    "        'name': True,\n",
    "        'goals_per_game': True,\n",
    "        'assists_per_game': True,\n",
    "        'height_in_cm': True,\n",
    "        'year': True,\n",
    "        'age': True,\n",
    "    },\n",
    "    title=\"06_Vergleich der Marktwertentwicklung mit Toren\",\n",
    "    labels={\n",
    "        'name': \"Name\",\n",
    "        'year': 'Jahr',\n",
    "        'historical_to_date__market_value': 'Marktwert (in €)',\n",
    "        'goals_per_game': 'Tore pro Spiel',\n",
    "        'assists_per_game':'Assist pro Spiel',\n",
    "        'age': \"Alter\",\n",
    "        'height_in_cm': \"Größe in cm\"\n",
    "    }\n",
    ")\n",
    "\n",
    "fig.update_traces(mode='lines+markers')  \n",
    "fig.update_layout(\n",
    "    legend_title=\"Spieler\",\n",
    "    hovermode=\"x unified\",\n",
    ")\n",
    "\n",
    "#fig.show()\n",
    "plot_title = fig.layout.title.text\n",
    "safe_title = re.sub(r'[^\\w\\s-]', '', plot_title).replace(' ', '_')\n",
    "fig.write_html(f\"../references/plotly/{safe_title}.html\")\n"
   ]
  },
  {
   "cell_type": "code",
   "execution_count": null,
   "metadata": {},
   "outputs": [],
   "source": [
    "import matplotlib.pyplot as plt\n",
    "import seaborn as sns\n",
    "\n",
    "plt.figure(figsize=(10, 6))\n",
    "\n",
    "lineplot_data_players = lineplot_data['name'].unique()\n",
    "colors = sns.color_palette(\"tab10\", len(lineplot_data_players))\n",
    "\n",
    "for i, player in enumerate(lineplot_data_players):\n",
    "    player_data = lineplot_data[lineplot_data['name'] == player]\n",
    "    plt.scatter(\n",
    "        player_data['year'], \n",
    "        player_data['historical_to_date__market_value'], \n",
    "        s=player_data['goals_per_game'] * 100,  \n",
    "        color=colors[i], \n",
    "        label=player,\n",
    "        alpha=0.7\n",
    "    )\n",
    "    plt.plot(\n",
    "        player_data['year'], \n",
    "        player_data['historical_to_date__market_value'], \n",
    "        color=colors[i], \n",
    "        alpha=0.7\n",
    "    )\n",
    "\n",
    "plt.title(\"Vergleich der Marktwertentwicklung mit Toren\", weight='bold')\n",
    "plt.xlabel(\"Jahr\")\n",
    "plt.ylabel(\"Marktwert (in €)\")\n",
    "plt.legend(title=\"Spieler\", loc=\"upper left\", fontsize=\"small\")\n",
    "plt.grid(visible=True, linestyle=\"--\", alpha=0.6)\n",
    "plt.tight_layout()\n",
    "plt.show()\n"
   ]
  },
  {
   "cell_type": "markdown",
   "metadata": {},
   "source": [
    "Diese Diagramm erweitert die Analyse, indem es den Marktwert mit der Anzahl der Tore pro Spiel (dargestellt durch die Kreisgrößen) verknüpft. Hier zeigt sich ein klarer Zusammenhang: Spieler mit höheren Torzahlen, wie Erling Haaland ab 2020, tendieren zu einem stark ansteigenden Marktwert. Kylian Mbappé hingegen bleibt unabhängig von seiner Torleistung auf konstant hohem Marktwert, was zeigt, dass sein Status als Starspieler und sein Werbewert eine zentrale Rolle spielen. Vinícius Júnior hat kleinere Kreise (weniger Tore pro Spiel), bleibt aber dennoch stabil im Marktwert. Besonders auffällig ist die Entwicklung Haalands: Seine Leistungssteigerung in Form vieler Tore führt zu einer entsprechenden Steigerung seines Marktwerts. Dieses Diagramm unterstreicht, wie sportliche Leistungen, insbesondere Tore, bei aufstrebenden Spielern den Marktwert beeinflussen, während bei etablierten Stars wie Mbappé andere Faktoren dominieren."
   ]
  },
  {
   "cell_type": "markdown",
   "metadata": {},
   "source": [
    "##### Analyse nach Postition"
   ]
  },
  {
   "cell_type": "markdown",
   "metadata": {},
   "source": [
    "Im folgenden werden nach Postion der Spieler analysiert."
   ]
  },
  {
   "cell_type": "code",
   "execution_count": 95,
   "metadata": {},
   "outputs": [],
   "source": [
    "avg_value = combined_data_agg.groupby(\"position\")[\"current_market_value\"].mean().reset_index()\n",
    "avg_value = avg_value.sort_values(\"current_market_value\", ascending=False)\n",
    "fig = px.bar(avg_value, x=\"position\", y=\"current_market_value\",\n",
    "             title=\"07_Durchschnittlicher Marktwert pro Position\",\n",
    "             labels={'position': 'Position', 'current_market_value': 'Marktwert (€)'},\n",
    "             color=\"current_market_value\",  \n",
    "             color_continuous_scale=\"magma\" )\n",
    "fig.update_coloraxes(colorbar_title=\"Marktwert (€)\")\n",
    "#fig.show()\n",
    "plot_title = fig.layout.title.text\n",
    "safe_title = re.sub(r'[^\\w\\s-]', '', plot_title).replace(' ', '_')\n",
    "fig.write_html(f\"../references/plotly/{safe_title}.html\")\n"
   ]
  },
  {
   "cell_type": "code",
   "execution_count": null,
   "metadata": {},
   "outputs": [],
   "source": [
    "avg_value = combined_data_agg.groupby(\"position\")[\"current_market_value\"].mean().reset_index()\n",
    "avg_value = avg_value.sort_values(\"current_market_value\", ascending=False)\n",
    "\n",
    "plt.figure(figsize=(10, 6))\n",
    "sns.barplot(\n",
    "    data=avg_value,\n",
    "    x=\"position\",\n",
    "    y=\"current_market_value\",\n",
    "    palette=\"magma\"\n",
    ")\n",
    "\n",
    "plt.title(\"Durchschnittlicher Marktwert pro Position\", weight='bold')\n",
    "plt.xlabel(\"Position\")\n",
    "plt.ylabel(\"Marktwert (€)\")\n",
    "plt.xticks(rotation=45, ha=\"right\")\n",
    "plt.colorbar = plt.colorbar\n",
    "plt.tight_layout()\n",
    "plt.show()"
   ]
  },
  {
   "cell_type": "markdown",
   "metadata": {},
   "source": [
    "Das Diagramm zeigt den durchschnittlichen Wert des Martkwerts der Positionen. Es werden in vier Postionen unterteilt, wobei einige Spieler keinen EIntrag haben. Stürmer haben im Durchschnitt einen höheren Martkwert, die Torhüter dagegen die niedrigsten."
   ]
  },
  {
   "cell_type": "code",
   "execution_count": 97,
   "metadata": {},
   "outputs": [],
   "source": [
    "fig = px.scatter(\n",
    "    combined_data_agg, \n",
    "    x='age', \n",
    "    y='current_market_value', \n",
    "    color=\"position\",\n",
    "    title=\"08_Scatterplot: Marktwert vs. Alter\",\n",
    "    labels={'age': 'Alter (in Jahren)', 'current_market_value': 'Marktwert (€)'}, \n",
    "    hover_data=[\"name\", \"age\"] \n",
    ")\n",
    "\n",
    "#fig.show()\n",
    "plot_title = fig.layout.title.text\n",
    "safe_title = re.sub(r'[^\\w\\s-]', '', plot_title).replace(' ', '_')\n",
    "fig.write_html(f\"../references/plotly/{safe_title}.html\")"
   ]
  },
  {
   "cell_type": "code",
   "execution_count": null,
   "metadata": {},
   "outputs": [],
   "source": [
    "plt.figure(figsize=(10, 6))\n",
    "\n",
    "# Erstelle den Scatterplot\n",
    "sns.scatterplot(data=combined_data_agg, \n",
    "                x='age', \n",
    "                y='current_market_value', \n",
    "                hue=\"position\",  \n",
    "                palette='viridis') \n",
    "\n",
    "# Setze Achsentitel und Diagrammtitel\n",
    "plt.xlabel('Alter (in Jahren)')\n",
    "plt.ylabel('Aktueller Marktwert (€)')\n",
    "plt.title('Scatterplot: Aktueller Marktwert vs. Alter')\n",
    "plt.tight_layout()\n",
    "plt.show()"
   ]
  },
  {
   "cell_type": "markdown",
   "metadata": {},
   "source": [
    "Ältere Spieler haben tendenziell einen niedrigeren Marktwert. Es gibt jedoch auch Ausnahmen, wobei einige ältere Spieler einen hohen Marktwert aufweisen, während einige jüngere Spieler einen niedrigen Marktwert haben. Die Verteilung der Punkte zeigt, dass die Mehrheit der Spieler zwischen 20 und 35 Jahren liegt, und dass der Marktwert mit zunehmendem Alter abnimmt, was eine typische Beobachtung im Profifußball ist. Die Farbcodierung nach Position erlaubt es, die Verteilung der Marktwerte innerhalb verschiedener Positionen zu analysieren."
   ]
  },
  {
   "cell_type": "code",
   "execution_count": 99,
   "metadata": {},
   "outputs": [],
   "source": [
    "fig = px.scatter(combined_data_agg, x=\"height_in_cm\", y=\"current_market_value\", color=\"position\",\n",
    "                 hover_data=[\"name\"], \n",
    "                 labels={'height_in_cm': 'Größe (in cm)', 'current_market_value': 'Marktwert (€)', 'name': \"Name\", \"position\": \"Position\"},\n",
    "                 title=\"09_Alter vs. Marktwert nach Position\")\n",
    "\n",
    "#fig.show()\n",
    "plot_title = fig.layout.title.text\n",
    "safe_title = re.sub(r'[^\\w\\s-]', '', plot_title).replace(' ', '_')\n",
    "fig.write_html(f\"../references/plotly/{safe_title}.html\")\n"
   ]
  },
  {
   "cell_type": "code",
   "execution_count": null,
   "metadata": {},
   "outputs": [],
   "source": [
    "plt.figure(figsize=(10, 6))\n",
    "\n",
    "scatter_plot = sns.scatterplot(\n",
    "    data=combined_data_agg,\n",
    "    x=\"height_in_cm\",\n",
    "    y=\"current_market_value\",\n",
    "    hue=\"position\",\n",
    "    palette=\"tab10\",\n",
    "    s=100,\n",
    "    alpha=0.8\n",
    ")\n",
    "\n",
    "plt.title(\"Größe vs. Marktwert nach Position\", weight='bold')\n",
    "plt.xlabel(\"Größe (in cm)\")\n",
    "plt.ylabel(\"Marktwert (€)\")\n",
    "plt.legend(title=\"Position\", bbox_to_anchor=(1.05, 1), loc='upper left')\n",
    "plt.tight_layout()\n",
    "plt.show()"
   ]
  },
  {
   "cell_type": "markdown",
   "metadata": {},
   "source": [
    "Die meisten Spieler konzentrieren sich um eine Körpergröße von 170-190 cm und einen Marktwert unter 100 Millionen Euro. Es scheint keine starke Korrelation zwischen Größe und Marktwert zu geben."
   ]
  },
  {
   "cell_type": "code",
   "execution_count": 101,
   "metadata": {},
   "outputs": [],
   "source": [
    "fig = px.scatter(combined_data_agg, x=\"total_goals\", y=\"current_market_value\", color=\"position\",\n",
    "                 hover_data=[\"name\"], \n",
    "                 labels={'total_goals': 'Gesamt Tore', 'current_market_value': 'Marktwert (€)', 'name': \"Name\", \"position\": \"Position\"},\n",
    "                 title=\"10_Gesamt Tore vs. Marktwert nach Position\")\n",
    "#fig.show()\n",
    "plot_title = fig.layout.title.text\n",
    "safe_title = re.sub(r'[^\\w\\s-]', '', plot_title).replace(' ', '_')\n",
    "fig.write_html(f\"../references/plotly/{safe_title}.html\")"
   ]
  },
  {
   "cell_type": "code",
   "execution_count": null,
   "metadata": {},
   "outputs": [],
   "source": [
    "plt.figure(figsize=(10, 6))\n",
    "\n",
    "scatter_plot = sns.scatterplot(\n",
    "    data=combined_data_agg,\n",
    "    x=\"total_goals\",\n",
    "    y=\"current_market_value\",\n",
    "    hue=\"position\",\n",
    "    palette=\"tab10\",\n",
    "    s=100,\n",
    "    alpha=0.8\n",
    ")\n",
    "\n",
    "plt.title(\"Gesamt Tore vs. Marktwert nach Position\", weight='bold')\n",
    "plt.xlabel(\"Gesamt Tore\")\n",
    "plt.ylabel(\"Marktwert (€)\")\n",
    "plt.legend(title=\"Position\", bbox_to_anchor=(1.05, 1), loc='upper left')\n",
    "plt.tight_layout()\n",
    "plt.show()"
   ]
  },
  {
   "cell_type": "markdown",
   "metadata": {},
   "source": [
    "Das Streudiagramm zeigt den Zusammenhang zwischen der Gesamtzahl der erzielten Tore und dem Marktwert von Fußballspielern, eingefärbt nach Spielerposition. Es zeigt eine Tendenz, dass Spieler mit mehr Toren einen höheren Marktwert haben, besonders im Angriff. Die Datenpunkte sind jedoch weit verstreut, was auf andere Faktoren hinweist."
   ]
  },
  {
   "cell_type": "code",
   "execution_count": 103,
   "metadata": {},
   "outputs": [],
   "source": [
    "fig = px.scatter(combined_data_agg, x=\"total_goals\", y=\"current_market_value\", \n",
    "                 size=\"total_assists\", color=\"position\", hover_name=\"name\",\n",
    "                 labels={'total_goals': 'Gesamt Tore',\"total_assists\":\"Gesamt Assists\", 'current_market_value': 'Marktwert (€)', 'name': \"Name\", \"position\": \"Position\"},\n",
    "                 title=\"11_Marktwert vs. Tore (Größe: Assists)\")\n",
    "#fig.show()\n",
    "plot_title = fig.layout.title.text\n",
    "safe_title = re.sub(r'[^\\w\\s-]', '', plot_title).replace(' ', '_')\n",
    "fig.write_html(f\"../references/plotly/{safe_title}.html\")\n"
   ]
  },
  {
   "cell_type": "code",
   "execution_count": 104,
   "metadata": {},
   "outputs": [],
   "source": [
    "\n",
    "fig_data = combined_data_hist.groupby(['year', 'position'])['historical_to_date__market_value'].mean().reset_index()\n",
    "\n",
    "\n",
    "fig = px.line(fig_data, x='year', y='historical_to_date__market_value', color='position',\n",
    "              title='12_Entwicklung des durchschnittlichen Marktwerts nach Position',\n",
    "              labels={'year': 'Datum', \n",
    "                      'historical_to_date__market_value': 'Durchschnittlicher Marktwert',\n",
    "                      'position': 'Position'})\n",
    "\n",
    "\n",
    "fig.update_layout(legend_title_text='Position')\n",
    "fig.update_xaxes(title_text='Datum')\n",
    "fig.update_yaxes(title_text='Durchschnittlicher Marktwert (€)')\n",
    "fig.update_layout(\n",
    "    hovermode=\"x unified\"\n",
    ")\n",
    "\n",
    "#fig.show()\n",
    "plot_title = fig.layout.title.text\n",
    "safe_title = re.sub(r'[^\\w\\s-]', '', plot_title).replace(' ', '_')\n",
    "fig.write_html(f\"../references/plotly/{safe_title}.html\")"
   ]
  },
  {
   "cell_type": "code",
   "execution_count": null,
   "metadata": {},
   "outputs": [],
   "source": [
    "fig_data = combined_data_hist.groupby(['year', 'position'])['historical_to_date__market_value'].mean().reset_index()\n",
    "\n",
    "plt.figure(figsize=(14, 8))\n",
    "\n",
    "sns.lineplot(\n",
    "    data=fig_data,\n",
    "    x='year',\n",
    "    y='historical_to_date__market_value',\n",
    "    hue='position',\n",
    "    palette='tab10',\n",
    "    marker=\"o\"\n",
    ")\n",
    "\n",
    "plt.title('Entwicklung des durchschnittlichen Marktwerts nach Position', fontsize=16)\n",
    "plt.xlabel('Datum', fontsize=14)\n",
    "plt.ylabel('Durchschnittlicher Marktwert (€)', fontsize=14)\n",
    "plt.legend(title='Position', bbox_to_anchor=(1.05, 1), loc='upper left', fontsize=12)\n",
    "plt.grid(visible=True, which='both', linestyle='--', linewidth=0.5)\n",
    "plt.tight_layout()\n",
    "plt.show()"
   ]
  },
  {
   "cell_type": "markdown",
   "metadata": {},
   "source": [
    "Die Grafik zeigt die Entwicklung des durchschnittlichen Marktwerts von Fußballspielern über die Jahre, getrennt nach Positionen (Angriff, Abwehr, Torwart, Mittelfeld und fehlende Daten). Der Marktwert stieg für die meisten Positionen im Laufe der Zeit an, wobei Angreifer im Allgemeinen den höchsten Marktwert aufweisen. Es gibt Schwankungen von Jahr zu Jahr, aber ein genereller Aufwärtstrend ist erkennbar."
   ]
  },
  {
   "cell_type": "code",
   "execution_count": 106,
   "metadata": {},
   "outputs": [],
   "source": [
    "goalkeepers = combined_data_hist[combined_data_hist['position'] == 'Goalkeeper']\n",
    "\n",
    "fig = px.scatter(goalkeepers, \n",
    "                 x='height_in_cm', \n",
    "                 y='current_market_value',\n",
    "                 hover_data=['name', 'age'],\n",
    "                 labels={'current_market_value': 'Marktwert (€)', \"age\":\"Alter\", 'name': \"Name\", \"position\": \"Position\", 'height_in_cm': 'Größe (in cm)'},\n",
    "                 title='13_Torwart: Größe vs. Marktwert')\n",
    "\n",
    "fig.update_layout(\n",
    "    xaxis_title='Größe (cm)',\n",
    "    yaxis_title='Marktwert (€)'\n",
    ")\n",
    "\n",
    "#fig.show()\n",
    "plot_title = fig.layout.title.text\n",
    "safe_title = re.sub(r'[^\\w\\s-]', '', plot_title).replace(' ', '_')\n",
    "fig.write_html(f\"../references/plotly/{safe_title}.html\")"
   ]
  },
  {
   "cell_type": "code",
   "execution_count": null,
   "metadata": {},
   "outputs": [],
   "source": [
    "goalkeepers = combined_data_hist[combined_data_hist['position'] == 'Goalkeeper']\n",
    "\n",
    "plt.figure(figsize=(12, 6))\n",
    "sns.scatterplot(data=goalkeepers, \n",
    "                x='height_in_cm', \n",
    "                y='current_market_value', \n",
    "                #hue='age', \n",
    "                #style='age', \n",
    "                palette='viridis', \n",
    "                legend=None)\n",
    "\n",
    "plt.xlabel('Größe (in cm)')\n",
    "plt.ylabel('Marktwert (€)')\n",
    "plt.title('Torwart: Größe vs. Marktwert')\n",
    "\n",
    "plt.show()"
   ]
  },
  {
   "cell_type": "markdown",
   "metadata": {},
   "source": [
    "Der Streudiagramm zeigt die Beziehung zwischen der Größe und dem Marktwert von Torhütern. Die meisten Torhüter liegen in einer Größenspanne von etwa 185 bis 200 cm, wobei der Marktwert in diesem Bereich variiert und keine eindeutige Korrelation zwischen Größe und Marktwert zu erkennen ist. Es gibt Ausreißer sowohl bei der Größe als auch beim Marktwert."
   ]
  },
  {
   "cell_type": "code",
   "execution_count": 108,
   "metadata": {},
   "outputs": [],
   "source": [
    "defenders = combined_data_hist[combined_data_hist['sub_position'].isin(['Centre-Back', 'Left-Back', 'Right-Back'])]\n",
    "\n",
    "fig = px.scatter(defenders, \n",
    "                 x='height_in_cm', \n",
    "                 y='current_market_value',\n",
    "                 color='sub_position',\n",
    "                 hover_data=['name', 'age', 'yellow_cards_per_game'],\n",
    "                 labels={'current_market_value': 'Marktwert (€)',\"yellow_cards_per_game\":\"Gelbe Karten Pro Spiel\", \"sub_position\":\"Sub-Position\", \"age\":\"Alter\", 'name': \"Name\", \"position\": \"Position\", 'height_in_cm': 'Größe (in cm)'},\n",
    "                 title='14_Verteidiger: Größe vs. Marktwert')\n",
    "\n",
    "fig.update_layout(\n",
    "    xaxis_title='Größe (cm)',\n",
    "    yaxis_title='Marktwert (€)',\n",
    "    legend_title='Position'\n",
    ")\n",
    "#fig.show()\n",
    "plot_title = fig.layout.title.text\n",
    "safe_title = re.sub(r'[^\\w\\s-]', '', plot_title).replace(' ', '_')\n",
    "fig.write_html(f\"../references/plotly/{safe_title}.html\")"
   ]
  },
  {
   "cell_type": "code",
   "execution_count": null,
   "metadata": {},
   "outputs": [],
   "source": [
    "defenders = combined_data_hist[combined_data_hist['sub_position'].isin(['Centre-Back', 'Left-Back', 'Right-Back'])]\n",
    "\n",
    "plt.figure(figsize=(12, 6))\n",
    "sns.scatterplot(data=defenders, \n",
    "                x='height_in_cm', \n",
    "                y='current_market_value', \n",
    "                hue='sub_position', \n",
    "                palette='deep', \n",
    "                style='sub_position', \n",
    "                size='yellow_cards_per_game', \n",
    "                sizes=(20, 200))\n",
    "\n",
    "plt.xlabel('Größe (in cm)')\n",
    "plt.ylabel('Marktwert (€)')\n",
    "plt.title('Verteidiger: Größe vs. Marktwert')\n",
    "plt.legend(title='Sub-Position')\n",
    "\n",
    "plt.show()"
   ]
  },
  {
   "cell_type": "markdown",
   "metadata": {},
   "source": [
    "Das Streudiagramm zeigt den Marktwert von Verteidigern in Abhängigkeit von ihrer Körpergröße. Die Punkte sind nach Unterposition (Innenverteidiger, Rechtsverteidiger, Linksverteidiger) und der Anzahl der erhaltenen gelben Karten pro Spiel farblich und größenmäßig codiert. Es deutet sich eine Tendenz an, dass größere Spieler einen höheren Marktwert haben. Dazu zeigt die Grafik, dass Innneverteidiger tendenziell größer sind. Die Größe der Punkte verdeutlicht den Einfluss der Anzahl der gelben Karten auf den Marktwert."
   ]
  },
  {
   "cell_type": "code",
   "execution_count": 110,
   "metadata": {},
   "outputs": [],
   "source": [
    "midfielders = combined_data_agg[combined_data_agg['sub_position'].isin(['Defensive Midfield', 'Central Midfield', 'Attacking Midfield'])]\n",
    "\n",
    "fig = px.scatter(midfielders, \n",
    "                 x='total_assists', \n",
    "                 y='current_market_value',\n",
    "                 color='sub_position',\n",
    "                 hover_data=['name', 'age', 'total_goals'],\n",
    "                 labels={'current_market_value': 'Marktwert (€)',\"total_goals\":\"Gesamte Tore\", \"sub_position\":\"Sub-Position\", \"age\":\"Alter\", 'name': \"Name\", \"total_assists\": \"Gesamte Assists\", 'height_in_cm': 'Größe (in cm)'},\n",
    "                 title='15_Mittelfeldspieler: Vorlagen pro Spiel vs. Marktwert')\n",
    "\n",
    "fig.update_layout(\n",
    "    xaxis_title='Vorlagen pro Spiel',\n",
    "    yaxis_title='Marktwert (€)',\n",
    "    legend_title='Position'\n",
    ")\n",
    "\n",
    "#fig.show()\n",
    "plot_title = fig.layout.title.text\n",
    "safe_title = re.sub(r'[^\\w\\s-]', '', plot_title).replace(' ', '_')\n",
    "fig.write_html(f\"../references/plotly/{safe_title}.html\")"
   ]
  },
  {
   "cell_type": "code",
   "execution_count": null,
   "metadata": {},
   "outputs": [],
   "source": [
    "midfielders = combined_data_agg[combined_data_agg['sub_position'].isin(['Defensive Midfield', 'Central Midfield', 'Attacking Midfield'])]\n",
    "\n",
    "plt.figure(figsize=(12, 6))\n",
    "sns.scatterplot(data=midfielders, \n",
    "                x='total_assists', \n",
    "                y='current_market_value', \n",
    "                hue='sub_position', \n",
    "                palette='muted', \n",
    "                style='sub_position', \n",
    "                size='total_goals', \n",
    "                sizes=(20, 200))\n",
    "\n",
    "plt.xlabel('Gesamte Assists')\n",
    "plt.ylabel('Marktwert (€)')\n",
    "plt.title('Mittelfeldspieler: Vorlagen vs. Marktwert')\n",
    "plt.legend(title='Sub-Position')\n",
    "\n",
    "plt.show()"
   ]
  },
  {
   "cell_type": "markdown",
   "metadata": {},
   "source": [
    "Das Streudiagramm zeigt den Marktwert von Mittelfeldspielern in Relation zu ihren Vorlagen, unterteilt nach Unterpositionen (offensiv, zentral, defensiv) und der Anzahl der erzielten Tore. Größere Punkte repräsentieren mehr erzielte Tore. Es ist ersichtlich, dass ein höherer Marktwert tendenziell mit mehr Vorlagen einhergeht, aber die Beziehung ist nicht linear und wird durch die Spielerposition und die Anzahl der Tore beeinflusst."
   ]
  },
  {
   "cell_type": "code",
   "execution_count": 112,
   "metadata": {},
   "outputs": [],
   "source": [
    "forwards = combined_data_agg[combined_data_agg['sub_position'].isin(['Centre-Forward', 'Second Striker', 'Left Winger', 'Right Winger'])]\n",
    "\n",
    "fig = px.scatter(forwards, \n",
    "                 x='total_goals', \n",
    "                 y='current_market_value',\n",
    "                 color='sub_position',\n",
    "                 hover_data=['name', 'age', 'total_assists'],\n",
    "                 labels={'current_market_value': 'Marktwert (€)',\"total_goals\":\"Gesamte Tore\", \"sub_position\":\"Sub-Position\", \"age\":\"Alter\", 'name': \"Name\", \"total_assists\": \"Gesamte Assists\", 'height_in_cm': 'Größe (in cm)'},\n",
    "                 title='16_Stürmer: Tore pro Spiel vs. Marktwert')\n",
    "\n",
    "fig.update_layout(\n",
    "    xaxis_title='Tore pro Spiel',\n",
    "    yaxis_title='Marktwert (€)',\n",
    "    legend_title='Position'\n",
    ")\n",
    "\n",
    "#fig.show()\n",
    "plot_title = fig.layout.title.text\n",
    "safe_title = re.sub(r'[^\\w\\s-]', '', plot_title).replace(' ', '_')\n",
    "fig.write_html(f\"../references/plotly/{safe_title}.html\")"
   ]
  },
  {
   "cell_type": "code",
   "execution_count": null,
   "metadata": {},
   "outputs": [],
   "source": [
    "forwards = combined_data_agg[combined_data_agg['sub_position'].isin(['Centre-Forward', 'Second Striker', 'Left Winger', 'Right Winger'])]\n",
    "\n",
    "plt.figure(figsize=(12, 6))\n",
    "sns.scatterplot(data=forwards, \n",
    "                x='total_goals', \n",
    "                y='current_market_value', \n",
    "                hue='sub_position', \n",
    "                palette='coolwarm', \n",
    "                style='sub_position', \n",
    "                size='total_assists', \n",
    "                sizes=(20, 200))\n",
    "\n",
    "plt.xlabel('Gesamte Tore')\n",
    "plt.ylabel('Marktwert (€)')\n",
    "plt.title('Stürmer: Tore vs. Marktwert')\n",
    "plt.legend(title='Sub-Position')\n",
    "\n",
    "plt.show()"
   ]
  },
  {
   "cell_type": "markdown",
   "metadata": {},
   "source": [
    "Das Streudiagramm zeigt die Beziehung zwischen der Anzahl der Tore und dem Marktwert von Stürmern, wobei die Punkte nach Unterposition (Mittelstürmer, Linksaußen, zweiter Stürmer, Rechtsaußen) und der Anzahl der Vorlagen eingefärbt und größenmäßig codiert sind. Es deutet sich ein positiver Zusammenhang zwischen der Anzahl der Tore und dem Marktwert an, wobei die Punktgröße die Anzahl der Vorlagen repräsentiert. Die Unterposition scheint ebenfalls einen Einfluss auf den Marktwert zu haben."
   ]
  },
  {
   "cell_type": "code",
   "execution_count": 114,
   "metadata": {},
   "outputs": [],
   "source": [
    "fig = px.box(combined_data_agg, x=\"foot\", y=\"current_market_value\", color=\"position\",\n",
    "             title=\"17_Marktwert nach bevorzugtem Fuß und Position\",\n",
    "             labels={'current_market_value': 'Marktwert (€)',\"foot\":\"Fuß\", \"position\":\"Position\"})\n",
    "\n",
    "fig.update_layout(\n",
    "    xaxis_title=\"Bevorzugter Fuß\",\n",
    "    yaxis_title=\"Marktwert (€)\",\n",
    "    legend_title=\"Position\"\n",
    ")\n",
    "#fig.show()\n",
    "plot_title = fig.layout.title.text\n",
    "safe_title = re.sub(r'[^\\w\\s-]', '', plot_title).replace(' ', '_')\n",
    "fig.write_html(f\"../references/plotly/{safe_title}.html\")"
   ]
  },
  {
   "cell_type": "code",
   "execution_count": null,
   "metadata": {},
   "outputs": [],
   "source": [
    "plt.figure(figsize=(12, 6))\n",
    "sns.boxplot(data=combined_data_agg, \n",
    "            x='foot', \n",
    "            y='current_market_value', \n",
    "            hue='position', \n",
    "            palette='Set1') \n",
    "\n",
    "plt.xlabel('Bevorzugter Fuß')\n",
    "plt.ylabel('Marktwert (€)')\n",
    "plt.title('Marktwert nach bevorzugtem Fuß und Position')\n",
    "plt.legend(title='Position')\n",
    "\n",
    "plt.show()"
   ]
  },
  {
   "cell_type": "markdown",
   "metadata": {},
   "source": [
    "Das Boxplot zeigt den Marktwert von Fußballspielern (mit Außreisern) nach ihrem bevorzugten Fuß (rechts, links, beides) und ihrer Position. Es zeigt die Verteilung der Marktwerte für jede Kombination aus bevorzugtem Fuß und Position und veranschaulicht die Streuung und Ausreißer. Der Median und die Quartile sind für jede Gruppe sichtbar. Es gibt keine offensichtliche starke Korrelation zwischen bevorzugtem Fuß und Marktwert, obwohl es Unterschiede in der Verteilung je nach Position gibt."
   ]
  },
  {
   "cell_type": "code",
   "execution_count": 116,
   "metadata": {},
   "outputs": [],
   "source": [
    "fig = px.box(combined_data_agg_no_outliers, x=\"foot\", y=\"current_market_value\", color=\"position\",\n",
    "             title=\"18_Marktwert nach bevorzugtem Fuß und Position\",\n",
    "             labels={'current_market_value': 'Marktwert (€)',\"foot\":\"Fuß\", \"position\":\"Position\"})\n",
    "\n",
    "fig.update_layout(\n",
    "    xaxis_title=\"Bevorzugter Fuß\",\n",
    "    yaxis_title=\"Marktwert (€)\",\n",
    "    legend_title=\"Position\"\n",
    ")\n",
    "\n",
    "#fig.show()\n",
    "plot_title = fig.layout.title.text\n",
    "safe_title = re.sub(r'[^\\w\\s-]', '', plot_title).replace(' ', '_')\n",
    "fig.write_html(f\"../references/plotly/{safe_title}.html\")"
   ]
  },
  {
   "cell_type": "code",
   "execution_count": null,
   "metadata": {},
   "outputs": [],
   "source": [
    "plt.figure(figsize=(12, 6))\n",
    "sns.boxplot(data=combined_data_agg_no_outliers, \n",
    "            x='foot', \n",
    "            y='current_market_value', \n",
    "            hue='position', \n",
    "            palette='Set1')  \n",
    "\n",
    "plt.xlabel('Bevorzugter Fuß')\n",
    "plt.ylabel('Marktwert (€)')\n",
    "plt.title('Marktwert nach bevorzugtem Fuß und Position')\n",
    "plt.legend(title='Position')\n",
    "\n",
    "plt.show()"
   ]
  },
  {
   "cell_type": "markdown",
   "metadata": {},
   "source": [
    "Das Boxplot vergleicht den Marktwert von Fußballspielern (ohne Außreisern) nach ihrem bevorzugten Fuß (rechts, links, beides) und ihrer Position auf dem Feld. Es zeigt die Verteilung (Median, Quartile, Ausreißer) der Marktwerte für jede Gruppe und ermöglicht einen Vergleich der zentralen Tendenz und der Streuung für verschiedene Fuß- und Positionskombinationen."
   ]
  },
  {
   "cell_type": "code",
   "execution_count": 118,
   "metadata": {},
   "outputs": [],
   "source": [
    "\n",
    "top_5_leagues = ['GB1', 'ES1', 'FR1', 'IT1', 'L1']\n",
    "\n",
    "\n",
    "combined_data_agg_top_league = combined_data_agg[(combined_data_agg[\"is_retired\"] == False) & (combined_data_agg[\"league_id\"].isin(top_5_leagues))]\n",
    "\n",
    "fig = px.box(combined_data_agg_top_league, x=\"foot\", y=\"current_market_value\", color=\"position\",\n",
    "             facet_col=\"league_id\",\n",
    "             title=\"19_Marktwert nach bevorzugtem Fuß, Position und Liga\",\n",
    "             labels={'current_market_value': 'Marktwert (€)',\"foot\":\"Fuß\", \"position\":\"Position\", \"league_id\":\"Liga\"})\n",
    "\n",
    "fig.update_layout(\n",
    "    xaxis_title=\"Fuß\",\n",
    "    yaxis_title=\"Marktwert (€)\",\n",
    "    legend_title=\"Position\"\n",
    ")\n",
    "\n",
    "fig.for_each_annotation(lambda a: a.update(text=a.text.split(\"=\")[-1]))\n",
    "\n",
    "#fig.show()\n",
    "plot_title = fig.layout.title.text\n",
    "safe_title = re.sub(r'[^\\w\\s-]', '', plot_title).replace(' ', '_')\n",
    "fig.write_html(f\"../references/plotly/{safe_title}.html\")"
   ]
  },
  {
   "cell_type": "code",
   "execution_count": null,
   "metadata": {},
   "outputs": [],
   "source": [
    "top_5_leagues = ['GB1', 'ES1', 'FR1', 'IT1', 'L1']\n",
    "combined_data_agg_top_league = combined_data_agg[(combined_data_agg[\"is_retired\"] == False) & \n",
    "                                                 (combined_data_agg[\"league_id\"].isin(top_5_leagues))]\n",
    "\n",
    "# Setze die Größe des Plots\n",
    "fig, axes = plt.subplots(1, len(top_5_leagues), figsize=(20, 6))\n",
    "\n",
    "# Erstelle für jede Liga einen Boxplot\n",
    "for i, league in enumerate(top_5_leagues):\n",
    "    ax = axes[i]\n",
    "    sns.boxplot(data=combined_data_agg_top_league[combined_data_agg_top_league['league_id'] == league], \n",
    "                x='foot', \n",
    "                y='current_market_value', \n",
    "                hue='position', \n",
    "                palette='Set1', \n",
    "                ax=ax)\n",
    "    ax.set_title(f\"Liga: {league}\")\n",
    "    ax.set_xlabel('Bevorzugter Fuß')\n",
    "    ax.set_ylabel('Marktwert (€)')\n",
    "\n",
    "# Titel und Layout anpassen\n",
    "plt.tight_layout()\n",
    "plt.legend(title='Position', bbox_to_anchor=(1.05, 1), loc='upper left')\n",
    "\n",
    "plt.show()"
   ]
  },
  {
   "cell_type": "markdown",
   "metadata": {},
   "source": [
    "Die Grafik vergleicht den Marktwert von Fußballspielern in fünf verschiedenen Ligen nach bevorzugtem Fuß (rechts, links, beides) und Position. Angreifer haben in allen Ligen den höchsten medianen Marktwert. Der bevorzugte Fuß zeigt keinen signifikanten Einfluss auf den Marktwert, außer in der Liga FR1, wo Linksfüßer einen höheren Medianwert aufweisen. Die Streuung der Marktwerte ist in allen Ligen und Positionen hoch. Es gibt keine aussagekräftigen Kennzahlen, da die Grafik keine numerischen Werte enthält, sondern nur die Verteilung visualisiert."
   ]
  },
  {
   "cell_type": "code",
   "execution_count": 120,
   "metadata": {},
   "outputs": [],
   "source": [
    "\n",
    "\n",
    "top_5_leagues = ['GB1', 'ES1', 'FR1', 'IT1', 'L1']\n",
    "\n",
    "\n",
    "#combined_data_agg_top_league = combined_data_agg[(combined_data_agg[\"is_retired\"] == False) & (combined_data_agg[\"league_id\"].isin(top_5_leagues))]\n",
    "\n",
    "\n",
    "top_countries = combined_data_agg_top_league.groupby(\"country_of_citizenship\").agg({\n",
    "    \"current_market_value\": \"mean\",\n",
    "    \"player_id\": \"count\"\n",
    "}).reset_index()\n",
    "\n",
    "min_players = 50\n",
    "top_countries_filtered = top_countries[top_countries[\"player_id\"] >= min_players]\n",
    "\n",
    "top_10_countries = top_countries_filtered.sort_values(\"current_market_value\", ascending=False).head(10)\n",
    "\n",
    "fig = px.bar(top_10_countries, \n",
    "             x=\"country_of_citizenship\", \n",
    "             y=\"current_market_value\",\n",
    "             color=\"player_id\",  # Farbkodierung basierend auf der Anzahl der Spieler\n",
    "             text=\"player_id\",\n",
    "             labels={'current_market_value': 'Marktwert (€)',\"foot\":\"Fuß\", \"country_of_citizenship\":\"Staatsbügerschaft\", \"league_id\":\"Liga\"},\n",
    "             title=f\"20_Top 10 Länder nach durchschnittlichem Marktwert (nur aktive Spieler in Top 5 Ligen, mind. {min_players} Spieler)\")\n",
    "\n",
    "fig.update_layout(\n",
    "    xaxis_title=\"Land der Staatsbürgerschaft\",\n",
    "    yaxis_title=\"Durchschnittlicher Marktwert (€)\",\n",
    "    xaxis_tickangle=-45,\n",
    "    coloraxis_colorbar_title=\"Anzahl der Spieler\"\n",
    ")\n",
    "\n",
    "\n",
    "fig.update_traces(texttemplate='%{text} Spieler', textposition='outside')\n",
    "\n",
    "#fig.show()\n",
    "plot_title = fig.layout.title.text\n",
    "safe_title = re.sub(r'[^\\w\\s-]', '', plot_title).replace(' ', '_')\n",
    "fig.write_html(f\"../references/plotly/{safe_title}.html\")\n",
    "\n"
   ]
  },
  {
   "cell_type": "code",
   "execution_count": null,
   "metadata": {},
   "outputs": [],
   "source": [
    "min_players = 50\n",
    "top_countries = combined_data_agg_top_league.groupby(\"country_of_citizenship\").agg({\n",
    "    \"current_market_value\": \"mean\",\n",
    "    \"player_id\": \"count\"\n",
    "}).reset_index()\n",
    "\n",
    "top_countries_filtered = top_countries[top_countries[\"player_id\"] >= min_players]\n",
    "\n",
    "top_10_countries = top_countries_filtered.sort_values(\"current_market_value\", ascending=False).head(10)\n",
    "\n",
    "# Setze die Größe des Plots\n",
    "plt.figure(figsize=(12, 6))\n",
    "\n",
    "# Erstelle das Balkendiagramm\n",
    "sns.barplot(data=top_10_countries, \n",
    "            x='country_of_citizenship', \n",
    "            y='current_market_value', \n",
    "            hue='player_id',  # Farbkodierung basierend auf der Anzahl der Spieler\n",
    "            palette='coolwarm')\n",
    "\n",
    "# Füge die Anzahl der Spieler als Textbeschriftung hinzu\n",
    "for i in range(len(top_10_countries)):\n",
    "    plt.text(i, top_10_countries['current_market_value'].iloc[i] + 1, \n",
    "             f\"{top_10_countries['player_id'].iloc[i]} Spieler\", \n",
    "             ha='center', va='bottom')\n",
    "\n",
    "# Setze Achsenbeschriftungen und Titel\n",
    "plt.xlabel('Land der Staatsbürgerschaft')\n",
    "plt.ylabel('Durchschnittlicher Marktwert (€)')\n",
    "plt.title(f\"Top 10 Länder nach durchschnittlichem Marktwert (mind. {min_players} Spieler)\")\n",
    "\n",
    "# Drehe die x-Achsenticks\n",
    "plt.xticks(rotation=-45)\n",
    "\n",
    "# Zeige den Plot an\n",
    "plt.legend(title='Anzahl der Spieler', loc='upper left')\n",
    "plt.tight_layout()\n",
    "plt.show()"
   ]
  },
  {
   "cell_type": "markdown",
   "metadata": {},
   "source": [
    "Die Grafik zeigt die Top 10 Länder mit dem höchsten durchschnittlichen Marktwert von Fußballspielern (mindestens 50 Spieler pro Land). Die Niederlande haben den höchsten durchschnittlichen Marktwert mit 158 Spielern, gefolgt von Brasilien (157 Spieler) und Portugal (81 Spieler). England liegt mit 397 Spielern auf Platz 7. Frankreich liegt mit 493 Spielern auf Platz 9."
   ]
  },
  {
   "cell_type": "markdown",
   "metadata": {},
   "source": [
    "#### Relationships"
   ]
  },
  {
   "cell_type": "code",
   "execution_count": null,
   "metadata": {},
   "outputs": [],
   "source": [
    "correlation_matrix = numeric_combined_data_agg.corr()\n",
    "\n",
    "plt.figure(figsize=(18, 16)) \n",
    "sns.set_theme(style=\"white\", font_scale=1.1)\n",
    "\n",
    "sns.heatmap(\n",
    "    correlation_matrix, \n",
    "    annot=True, \n",
    "    fmt=\".2f\", \n",
    "    cmap=\"coolwarm\", \n",
    "    cbar_kws={'shrink': 0.8},  \n",
    "    linewidths=0.5, \n",
    "    square=True\n",
    ")\n",
    "\n",
    "plt.title(\"21_Korrelation der Merkmale\", fontsize=20, pad=30)\n",
    "plt.xticks(rotation=45, ha=\"right\")  \n",
    "plt.yticks(rotation=0)  \n",
    "plt.tight_layout()  \n",
    "\n",
    "safe_title = re.sub(r'[^\\w\\s-]', '', \"01_Korrelationsmatrix\").replace(' ', '_')\n",
    "plt.savefig(f\"../references/plotly/{safe_title}.png\", dpi=300, bbox_inches=\"tight\")\n",
    "\n",
    "plt.show()"
   ]
  },
  {
   "cell_type": "markdown",
   "metadata": {},
   "source": [
    "Die Korrelationsmatrix zeigt die linearen Zusammenhänge zwischen den verschiedenen numerischen Merkmalen des Datensatzes, die zur Vorhersage des Marktwertes von Fußballspielern verwendet werden. Werte nahe 1 oder -1 deuten auf starke positive bzw. negative Korrelationen hin, während Werte nahe 0 auf geringe oder keine Korrelation hinweisen. Beispielsweise zeigt die Variable \"highest_market_value_in_eur\" mit 0.72 eine starke positive Korrelation mit dem aktuellen Marktwert (\"current_market_value\"), was intuitiv Sinn ergibt, da der bisher höchste Marktwert eines Spielers ein guter Indikator für dessen aktuellen Marktwert ist. Variablen wie \"age\" und \"red_cards\" zeigen eher geringe oder negative Korrelationen, was darauf schließen lässt, dass diese Faktoren weniger stark mit dem Marktwert in Zusammenhang stehen."
   ]
  },
  {
   "cell_type": "code",
   "execution_count": null,
   "metadata": {},
   "outputs": [],
   "source": [
    "import statsmodels.api as sm\n",
    "from statsmodels.stats.outliers_influence import variance_inflation_factor\n",
    "\n",
    "# Features auswählen\n",
    "features = numeric_combined_data_agg\n",
    "\n",
    "# Entfernen von fehlenden Werten\n",
    "features = features.dropna()\n",
    "\n",
    "# Konstanten hinzufügen\n",
    "features_with_constant = sm.add_constant(features)\n",
    "\n",
    "# VIF berechnen\n",
    "vif_data = pd.DataFrame()\n",
    "vif_data['Variable'] = features_with_constant.columns\n",
    "vif_data['VIF'] = [variance_inflation_factor(features_with_constant.values, i) for i in range(features_with_constant.shape[1])]\n",
    "\n",
    "print(vif_data)\n"
   ]
  },
  {
   "cell_type": "code",
   "execution_count": null,
   "metadata": {},
   "outputs": [],
   "source": [
    "data_cleaned_agg = numeric_combined_data_agg\n",
    "\n",
    "data_cleaned_agg = data_cleaned_agg.drop(columns=[\n",
    "    #'transfer_fee',              \n",
    "    #'transfer_market_value',     \n",
    "    'highest_market_value_in_eur',          \n",
    "    'total_minutes_played',           \n",
    "    'total_matches'              \n",
    "])\n",
    "\n",
    "features = data_cleaned_agg.dropna()\n",
    "\n",
    "features_with_constant = sm.add_constant(features)\n",
    "\n",
    "vif_data = pd.DataFrame()\n",
    "vif_data['Variable'] = features_with_constant.columns\n",
    "vif_data['VIF'] = [variance_inflation_factor(features_with_constant.values, i) for i in range(features_with_constant.shape[1])]\n",
    "\n",
    "print(vif_data)"
   ]
  },
  {
   "cell_type": "markdown",
   "metadata": {},
   "source": [
    "Der Variance Inflation Factor (VIF) misst die Multikollinearität zwischen unabhängigen Variablen in einem Datensatz. Ein hoher VIF-Wert weist darauf hin, dass eine Variable stark mit anderen korreliert ist, was in Modellen wie der linearen Regression zu Verzerrungen führen kann. In diesem Schritt wurden die VIF-Werte für alle Variablen berechnet, problematische Variablen mit sehr hohen VIF-Werten identifiziert und entweder entfernt oder so transformiert, dass die Multikollinearität reduziert wurde. Ziel war es, ein Dataframe mit unabhängigen Prädiktoren zu erstellen."
   ]
  },
  {
   "cell_type": "code",
   "execution_count": null,
   "metadata": {},
   "outputs": [],
   "source": [
    "data_cleaned_agg"
   ]
  },
  {
   "cell_type": "markdown",
   "metadata": {},
   "source": [
    "##### Historisiert VIF"
   ]
  },
  {
   "cell_type": "code",
   "execution_count": null,
   "metadata": {},
   "outputs": [],
   "source": [
    "numeric_combined_data_hist = combined_data_hist.select_dtypes(include=[\"number\"])\n",
    "correlation_matrix = numeric_combined_data_hist.corr()\n",
    "\n",
    "\n",
    "plt.figure(figsize=(18, 16)) \n",
    "sns.set_theme(style=\"white\", font_scale=1.1)\n",
    "\n",
    "\n",
    "sns.heatmap(\n",
    "    correlation_matrix, \n",
    "    annot=True, \n",
    "    fmt=\".2f\", \n",
    "    cmap=\"coolwarm\", \n",
    "    cbar_kws={'shrink': 0.8},  \n",
    "    linewidths=0.5, \n",
    "    square=True\n",
    ")\n",
    "\n",
    "\n",
    "plt.title(\"Korrelation der Merkmale\", fontsize=20, pad=30)\n",
    "plt.xticks(rotation=45, ha=\"right\")  \n",
    "plt.yticks(rotation=0)  \n",
    "plt.tight_layout()  \n",
    "plt.show()"
   ]
  },
  {
   "cell_type": "code",
   "execution_count": null,
   "metadata": {},
   "outputs": [],
   "source": [
    "import statsmodels.api as sm\n",
    "from statsmodels.stats.outliers_influence import variance_inflation_factor\n",
    "\n",
    "\n",
    "features = numeric_combined_data_hist\n",
    "features = features.dropna()\n",
    "\n",
    "features_with_constant = sm.add_constant(features)\n",
    "\n",
    "vif_data = pd.DataFrame()\n",
    "vif_data['Variable'] = features_with_constant.columns\n",
    "vif_data['VIF'] = [variance_inflation_factor(features_with_constant.values, i) for i in range(features_with_constant.shape[1])]\n",
    "\n",
    "print(vif_data)"
   ]
  },
  {
   "cell_type": "code",
   "execution_count": null,
   "metadata": {},
   "outputs": [],
   "source": [
    "data_cleaned_hist = numeric_combined_data_hist\n",
    "\n",
    "data_cleaned_hist = data_cleaned_hist.drop(columns=[\n",
    "    #'transfer_fee',              \n",
    "    'transfer_market_value',  \n",
    "    #'transfer_fee_gap',   \n",
    "    'highest_market_value_in_eur',\n",
    "    \"historical_to_date__market_value\"           \n",
    "])\n",
    "\n",
    "features = data_cleaned_hist.dropna()\n",
    "\n",
    "features_with_constant = sm.add_constant(features)\n",
    "\n",
    "vif_data_hist = pd.DataFrame()\n",
    "vif_data_hist['Variable'] = features_with_constant.columns\n",
    "vif_data_hist['VIF'] = [variance_inflation_factor(features_with_constant.values, i) for i in range(features_with_constant.shape[1])]\n",
    "\n",
    "print(vif_data_hist)"
   ]
  },
  {
   "cell_type": "markdown",
   "metadata": {},
   "source": [
    "\n",
    "## Methodology"
   ]
  },
  {
   "cell_type": "markdown",
   "metadata": {},
   "source": [
    "Die Analyse des Marktwerts von Profifußballspielern wurde durch einen mehrstufigen, systematischen Modellierungsansatz realisiert. Die methodologische Herangehensweise basierte auf der Prämisse, dass die Komplexität der Marktwertbildung eine differenzierte Betrachtung verschiedener Datenstrukturen und Modellierungsansätze erfordert. Der Datensatz wurde in zwei fundamentale analytische Kategorien unterteilt: **aggregierte** und **historische** Daten. Diese Unterscheidung ermöglichte eine umfassende Untersuchung sowohl statischer als auch zeitabhängiger Einflussfaktoren auf die Marktwertentwicklung.\n",
    "Für jede dieser Kategorien wurden drei distinkte Datenvarianten analysiert:\n",
    "\n",
    "- Der vollständige Datensatz zur Erfassung des gesamten Marktspektrums\n",
    "- Ein um Ausreißer bereinigter Datensatz zur Verbesserung der Modellstabilität\n",
    "- Ein spezialisierter Datensatz der europäischen Top-5-Ligen zur Fokussierung auf Premium-Marktsegmente\n",
    "\n",
    "Die Modellierung basierte auf 11 bzw. 15 Prediktor-Variablen, die sowohl statische Merkmale (Größe, Nationalität, Fuß, Position) als auch dynamische Leistungsindikatoren (Tore pro Spiel, Assists pro Spiel, Spielminuten) umfassen. Die Zielvariable wurde als `current_market_value` definiert. Die Auswahl dieser Features erfolgte unter Berücksichtigung ihrer sportlichen und ökonomischen Relevanz für die Marktwertbestimmung.\n",
    "Für die Modellierung wurden vier verschiedene Algorithmen implementiert:\n",
    "\n",
    "1. Lineare Regression als Baseline-Modell\n",
    "    - Dient als Baseline-Modell\n",
    "    - Ermöglicht die Identifikation linearer Zusammenhänge\n",
    "    - Bietet hohe Interpretierbarkeit\n",
    "2. Random Forest\n",
    "    - Erfasst nicht-lineare Beziehungen\n",
    "    - Reduziert Overfitting durch Ensemble-Methodik\n",
    "    - Ermöglicht Feature-Importance-Analyse\n",
    "3. Gradient Boosting\n",
    "    - Optimiert sequentiell auf Residuen\n",
    "    - Bietet hohe Anpassungsfähigkeit\n",
    "    - Ermöglicht feine Modellabstimmung\n",
    "4. Historisches Gradient Boosting\n",
    "    - Spezialisiert auf zeitliche Entwicklungen\n",
    "    - Berücksichtigt historische Trends\n",
    "    - Optimiert für temporale Datenstrukturen\n",
    "\n",
    "Die Modellselektion erfolgte durch systematischen Vergleich der Leistungsmetriken MSE (Mean Squared Error), R² (Bestimmtheitsmaß) und MAPE (Mean Abssolute Percentage Error) wobei besonderes Augenmerk auf die Robustheit der Vorhersagen gelegt wurde.\n",
    "\n",
    "\n",
    "- MSE - zeigt quadrierte Abweichungen\n",
    "- R² - zeigt erklärte Varianz\n",
    "- MAPE - zeigt prozentuale Abweichung\n",
    "\n",
    "Dabei ist zu beachten, dass der MSE aufgrund der hohen Wertespanne in der Zielvariable (Marktwerte von mehreren tausend bis zu mehreren Millionen Euro) naturgemäß sehr große Werte annimmt. Diese Skalierungsabhängigkeit des MSE muss bei der Interpretation der Ergebnisse berücksichtigt werden."
   ]
  },
  {
   "cell_type": "markdown",
   "metadata": {},
   "source": [
    "#### Variable lists"
   ]
  },
  {
   "cell_type": "markdown",
   "metadata": {},
   "source": [
    "Historisierte Daten für die Modellierung apassen. Für die aggregierten ist das bereits im Zuge der Analysen geschehen"
   ]
  },
  {
   "cell_type": "code",
   "execution_count": 129,
   "metadata": {},
   "outputs": [],
   "source": [
    "combined_data_hist_top_league = combined_data_hist[(combined_data_hist[\"is_retired\"] == False) & (combined_data_hist[\"league_id\"].isin(top_5_leagues))]"
   ]
  },
  {
   "cell_type": "code",
   "execution_count": 130,
   "metadata": {},
   "outputs": [],
   "source": [
    "q1 = combined_data_hist[\"current_market_value\"].quantile(0.25)\n",
    "q3 = combined_data_hist[\"current_market_value\"].quantile(0.75)\n",
    "iqr = q3 - q1\n",
    "lower_bound = q1 - 1.5 * iqr\n",
    "upper_bound = q3 + 1.5 * iqr\n",
    "\n",
    "# Filtern der Daten ohne Ausreißer\n",
    "combined_data_hist_no_outliers = combined_data_hist[\n",
    "    (combined_data_hist[\"current_market_value\"] >= lower_bound) & \n",
    "    (combined_data_hist[\"current_market_value\"] <= upper_bound)\n",
    "]"
   ]
  },
  {
   "cell_type": "code",
   "execution_count": 131,
   "metadata": {},
   "outputs": [],
   "source": [
    "# für historisiert combined_data_hist\n",
    "features_hist = [\n",
    "    \"historical_to_date__market_value\", \n",
    "    \"year\",\n",
    "    #\"last_season\", \n",
    "    \"height_in_cm\",\n",
    "    \"country_of_citizenship\",\n",
    "     \"foot\", \"position\", 'goals_per_game',\n",
    "       'assists_per_game', 'yellow_cards_per_game', 'red_cards_per_game',\n",
    "       'minutes_played_per_game','age',\n",
    "       'is_retired',\n",
    "       \"transfer_fee_gap\",\n",
    "       \"transfer_fee\"\n",
    "]\n",
    "\n",
    "target = \"current_market_value\""
   ]
  },
  {
   "cell_type": "code",
   "execution_count": 132,
   "metadata": {},
   "outputs": [],
   "source": [
    "# für aggregiert combined_data_agg\n",
    "features_agg = [ \n",
    "     \"height_in_cm\", \n",
    "     \"country_of_citizenship\", \n",
    "     \"foot\", \n",
    "     \"position\", \n",
    "     'total_goals',\n",
    "       'total_assists', 'total_yellow_cards', 'total_red_cards',\n",
    "       'total_minutes_played',\n",
    "       'age',\n",
    "       'is_retired'\n",
    "]\n",
    "\n",
    "target = \"current_market_value\""
   ]
  },
  {
   "cell_type": "markdown",
   "metadata": {},
   "source": [
    "### Modellierung"
   ]
  },
  {
   "cell_type": "code",
   "execution_count": 149,
   "metadata": {},
   "outputs": [],
   "source": [
    "def model_comparison(df, features, target):\n",
    "    \n",
    "    X = pd.get_dummies(df[features], drop_first=True)\n",
    "    y = df[target]\n",
    "\n",
    "    X_train, X_test, y_train, y_test = train_test_split(X, y, test_size=0.2, random_state=42)\n",
    "\n",
    "    # Nan mit Median füllen für Lin Reg und GB\n",
    "    X_train_filled = X_train.fillna(X.median())\n",
    "    X_test_filled = X_test.fillna(X.median())\n",
    "\n",
    "    lr_model = LinearRegression()\n",
    "    rf_model = RandomForestRegressor(n_estimators=120, max_depth=20, random_state=42)\n",
    "    gb_model = GradientBoostingRegressor(n_estimators=100, random_state=42)\n",
    "    hist_gb_model = HistGradientBoostingRegressor(random_state=42)\n",
    "    \n",
    "\n",
    "    lr_model.fit(X_train_filled, y_train)\n",
    "    rf_model.fit(X_train, y_train)\n",
    "    gb_model.fit(X_train_filled, y_train)\n",
    "    hist_gb_model.fit(X_train, y_train)\n",
    "\n",
    "    lr_predictions = lr_model.predict(X_test_filled)\n",
    "    rf_predictions = rf_model.predict(X_test)\n",
    "    gb_predictions = gb_model.predict(X_test_filled) \n",
    "    hist_gb_predictions = hist_gb_model.predict(X_test)\n",
    "\n",
    "    # Metriken \n",
    "    lr_mse = mean_squared_error(y_test, lr_predictions)\n",
    "    lr_r2 = r2_score(y_test, lr_predictions)\n",
    "    lr_mape = mean_absolute_percentage_error(y_test, lr_predictions)\n",
    "    \n",
    "    rf_mse = mean_squared_error(y_test, rf_predictions)\n",
    "    rf_r2 = r2_score(y_test, rf_predictions)\n",
    "    rf_mape = mean_absolute_percentage_error(y_test, rf_predictions)\n",
    "\n",
    "    gb_mse = mean_squared_error(y_test, gb_predictions)\n",
    "    gb_r2 = r2_score(y_test, gb_predictions)\n",
    "    gb_mape = mean_absolute_percentage_error(y_test, gb_predictions)\n",
    "\n",
    "    hist_gb_mse = mean_squared_error(y_test, hist_gb_predictions) \n",
    "    hist_gb_r2 = r2_score(y_test, hist_gb_predictions)\n",
    "    hist_gb_mape = mean_absolute_percentage_error(y_test, hist_gb_predictions)\n",
    "    \n",
    "                                                    #5                                                      #10                                                                 #15                                                 #20                                \n",
    "    return lr_mse, lr_r2, rf_mse, rf_r2, gb_mse, gb_r2, hist_gb_mse, hist_gb_r2, y_test, lr_predictions, rf_predictions, gb_predictions,hist_gb_predictions, lr_mape,rf_mape,gb_mape,hist_gb_mape,lr_model,rf_model,gb_model,hist_gb_model\n"
   ]
  },
  {
   "cell_type": "code",
   "execution_count": 150,
   "metadata": {},
   "outputs": [],
   "source": [
    "results_agg = model_comparison(combined_data_agg, features_agg, target)\n",
    "results_agg_no = model_comparison(combined_data_agg_no_outliers, features_agg, target)\n",
    "results_agg_top_league = model_comparison(combined_data_agg_top_league, features_agg, target)"
   ]
  },
  {
   "cell_type": "code",
   "execution_count": 153,
   "metadata": {},
   "outputs": [],
   "source": [
    "results_hist = model_comparison(combined_data_hist, features_hist, target)\n",
    "results_hist_no = model_comparison(combined_data_hist_no_outliers, features_hist, target)\n",
    "results_hist_top_league = model_comparison(combined_data_hist_top_league, features_hist, target)"
   ]
  },
  {
   "cell_type": "markdown",
   "metadata": {},
   "source": [
    "## Results"
   ]
  },
  {
   "cell_type": "markdown",
   "metadata": {},
   "source": [
    "### Evaluation on test set"
   ]
  },
  {
   "cell_type": "code",
   "execution_count": null,
   "metadata": {},
   "outputs": [],
   "source": [
    "print(\"=== Modellvergleich Aggregiert===\")\n",
    "print(f\"{'Modell':<50} {'MSE':<25} {'R²':<8} {'MAPE':<10}\")\n",
    "print(\"=\"*95)\n",
    "print(f\"{'Linear Regression':<50} {results_agg[0]:<23.1f} {results_agg[1]:<10.4f}{results_agg[13]:<10.4f}\")\n",
    "print(f\"{'Linear Regression ohne Außreiser':<50} {results_agg_no[0]:<23.1f} {results_agg_no[1]:<10.4f}{results_agg_no[13]:<10.4f}\")\n",
    "print(f\"{'Linear Regression Top Spieler':<50} {results_agg_top_league[0]:<23.1f} {results_agg_top_league[1]:<10.4f}{results_agg_top_league[13]:<10.4f}\")\n",
    "print()\n",
    "print(f\"{'Random Forest':<50} {results_agg[2]:<23.1f} {results_agg[3]:<10.4f}{results_agg[14]:<10.4f}\")\n",
    "print(f\"{'Random Forest ohne Außreiser':<50} {results_agg_no[2]:<23.1f} {results_agg_no[3]:<10.4f}{results_agg_no[14]:<10.4f}\")\n",
    "print(f\"{'Random Forest Top Spieler':<50} {results_agg_top_league[2]:<23.1f} {results_agg_top_league[3]:<10.4f}{results_agg_top_league[14]:<10.4f}\")\n",
    "print()\n",
    "print(f\"{'Gradient Boosting':<50} {results_agg[4]:<23.1f} {results_agg[5]:<10.4f}{results_agg[15]:<10.4f}\")\n",
    "print(f\"{'Gradient Boosting ohne Außreiser':<50} {results_agg_no[4]:<23.1f} {results_agg_no[5]:<10.4f}{results_agg_no[15]:<10.4f}\")\n",
    "print(f\"{'Gradient Boosting Top Spieler':<50} {results_agg_top_league[4]:<23.1f} {results_agg_top_league[5]:<10.4f}{results_agg_top_league[15]:<10.4f}\")\n",
    "print()\n",
    "print(f\"{'Hist Gradient Boosting':<50} {results_agg[6]:<23.1f} {results_agg[7]:<10.4f}{results_agg[16]:<10.4f}\")\n",
    "print(f\"{'Hist Gradient Boosting ohne Außreiser':<50} {results_agg_no[6]:<23.1f} {results_agg_no[7]:<10.4f}{results_agg_no[16]:<10.4f}\")\n",
    "print(f\"{'Hist Gradient Boosting Top Spieler':<50} {results_agg_top_league[6]:<23.1f} {results_agg_top_league[7]:<10.4f}{results_agg_top_league[16]:<10.4f}\")"
   ]
  },
  {
   "cell_type": "code",
   "execution_count": null,
   "metadata": {},
   "outputs": [],
   "source": [
    "joblib.dump(results_agg_top_league[20], '../models/hist_gb_model_agg_top_league.pkl')"
   ]
  },
  {
   "cell_type": "code",
   "execution_count": null,
   "metadata": {},
   "outputs": [],
   "source": [
    "print(\"=== Modellvergleich Historisiert===\")\n",
    "print(f\"{'Modell':<50} {'MSE':<25} {'R²':<8} {'MAPE':<10}\")\n",
    "print(\"=\"*95)\n",
    "print(f\"{'Linear Regression':<50} {results_hist[0]:<23.1f} {results_hist[1]:<10.4f}{results_hist[13]:<10.4f}\")\n",
    "print(f\"{'Linear Regression ohne Außreiser':<50} {results_hist_no[0]:<23.1f} {results_hist_no[1]:<10.4f}{results_hist_no[13]:<10.4f}\")\n",
    "print(f\"{'Linear Regression Top Spieler':<50} {results_hist_top_league[0]:<23.1f} {results_hist_top_league[1]:<10.4f}{results_hist_top_league[13]:<10.4f}\")\n",
    "print()\n",
    "print(f\"{'Random Forest':<50} {results_hist[2]:<23.1f} {results_hist[3]:<10.4f}{results_hist[14]:<10.4f}\")\n",
    "print(f\"{'Random Forest ohne Außreiser':<50} {results_hist_no[2]:<23.1f} {results_hist_no[3]:<10.4f}{results_hist_no[14]:<10.4f}\")\n",
    "print(f\"{'Random Forest Top Spieler':<50} {results_hist_top_league[2]:<23.1f} {results_hist_top_league[3]:<10.4f}{results_hist_top_league[14]:<10.4f}\")\n",
    "print()\n",
    "print(f\"{'Gradient Boosting':<50} {results_hist[4]:<23.1f} {results_hist[5]:<10.4f}{results_hist[15]:<10.4f}\")\n",
    "print(f\"{'Gradient Boosting ohne Außreiser':<50} {results_hist_no[4]:<23.1f} {results_hist_no[5]:<10.4f}{results_hist_no[15]:<10.4f}\")\n",
    "print(f\"{'Gradient Boosting Top Spieler':<50} {results_hist_top_league[4]:<23.1f} {results_hist_top_league[5]:<10.4f}{results_hist_top_league[15]:<10.4f}\")\n",
    "print()\n",
    "print(f\"{'Hist Gradient Boosting':<50} {results_hist[6]:<23.1f} {results_hist[7]:<10.4f}{results_hist[16]:<10.4f}\")\n",
    "print(f\"{'Hist Gradient Boosting ohne Außreiser':<50} {results_hist_no[6]:<23.1f} {results_hist_no[7]:<10.4f}{results_hist_no[16]:<10.4f}\")\n",
    "print(f\"{'Hist Gradient Boosting Top Spieler':<50} {results_hist_top_league[6]:<23.1f} {results_hist_top_league[7]:<10.4f}{results_hist_top_league[16]:<10.4f}\")\n"
   ]
  },
  {
   "cell_type": "code",
   "execution_count": null,
   "metadata": {},
   "outputs": [],
   "source": [
    "joblib.dump(results_hist[18], '../models/rf_model_hist.pkl')"
   ]
  },
  {
   "cell_type": "markdown",
   "metadata": {},
   "source": [
    "Der hohe MSE resultiert vor allem aus der Skalierung der Zielvariable, den Marktwerten von Fußballspielern, die teilweise extrem hoch ausfallen. Da der MSE die Fehlerwerte quadriert, wirken sich auch kleinere Abweichungen bei hohen Marktwerten überproportional stark auf das Gesamtergebnis aus. Zusätzlich tragen die große Varianz in den Daten und das Vorhandensein von Outliern – also Spielern mit außergewöhnlich hohen Marktwerten – dazu bei, dass die Fehlerspanne weiter ansteigt. Diese extremen Werte sind schwer vorherzusagen und führen zu einer Verschlechterung des MSE.\n",
    "\n",
    "Am Wert des R2 erkennt man, dass in beiden Fällen die lineare Regression am schlechtesten die Werte approximiert. Jedoch zeigen diese Ergebnisse das es mithilfe eines Tree Modelling schwierig ist den Marktwert eines Spielers gennau vorherzusagen. Das Modell mit den besten Ergebnisse, war der Random Forest im historisierten Zusatnd.\n",
    "\n",
    "Der MAPE (Mean Absolute Percentage Error) gibt die durchschnittliche prozentuale Abweichung an und ermöglicht damit eine skalierungsunabhängige Bewertung. Random Forest ohne Ausreißer erreicht den besten MAPE von 0,94%\n"
   ]
  },
  {
   "cell_type": "code",
   "execution_count": null,
   "metadata": {},
   "outputs": [],
   "source": [
    "model_names = ['Linear Regression', 'Random Forest', 'Gradient Boosting', 'Hist Gradient Boosting']\n",
    "mse_values = [results_agg[0], results_agg[2], results_agg[4], results_agg[6]]  # MSE-Werte\n",
    "r2_values = [results_agg[1], results_agg[3], results_agg[5], results_agg[7]]   # R²-Werte\n",
    "\n",
    "plt.figure(figsize=(12, 6))\n",
    "bar_width = 0.35\n",
    "index = np.arange(len(model_names))\n",
    "\n",
    "#plt.bar(index, mse_values, bar_width, label='MSE', color='blue')\n",
    "plt.bar(index + bar_width, r2_values, bar_width, label='R²', color='blue')\n",
    "\n",
    "plt.xlabel('Modelle')\n",
    "plt.ylabel('Werte')\n",
    "plt.title('Modellvergleich: MSE und R²')\n",
    "plt.xticks(index + bar_width / 2, model_names)\n",
    "plt.legend()\n",
    "plt.tight_layout()\n",
    "\n",
    "safe_title = re.sub(r'[^\\w\\s-]', '', '02_Modellvergleich: MSE und R²').replace(' ', '_')\n",
    "\n",
    "plt.savefig(f\"../references/matplotlib/{safe_title}.png\", dpi=300, bbox_inches=\"tight\")\n",
    "\n",
    "plt.show()"
   ]
  },
  {
   "cell_type": "markdown",
   "metadata": {},
   "source": [
    "Diese Grafik zeigt, dass im Durchschnitt der Hist Gradient Boosing über alle Modelle hinweg die besten Ergebnissse erzielt hat. "
   ]
  },
  {
   "cell_type": "code",
   "execution_count": null,
   "metadata": {},
   "outputs": [],
   "source": [
    "residuals = results_agg_no[8] - results_agg_no[9] #y_test - lr_predictions\n",
    "\n",
    "plt.figure(figsize=(10, 6))\n",
    "plt.hist(residuals, bins=50, edgecolor='k', alpha=0.7)\n",
    "plt.title(\"Verteilung der Residuen – Aggregiert Linear Regression Ohne Außreiser\")\n",
    "plt.xlabel(\"Residuum\")\n",
    "plt.ylabel(\"Häufigkeit\")\n",
    "plt.grid(True)\n",
    "safe_title = re.sub(r'[^\\w\\s-]', '', '03_Verteilung der Residuen – Aggregiert Linear Regression Ohne Außreiser').replace(' ', '_')\n",
    "\n",
    "plt.savefig(f\"../references/matplotlib/{safe_title}.png\", dpi=300, bbox_inches=\"tight\")\n",
    "plt.show()"
   ]
  },
  {
   "cell_type": "code",
   "execution_count": null,
   "metadata": {},
   "outputs": [],
   "source": [
    "residuals = results_hist_top_league[8] - results_hist_top_league[9]\n",
    "\n",
    "plt.figure(figsize=(10, 6))\n",
    "plt.hist(residuals, bins=50, edgecolor='k', alpha=0.7)\n",
    "plt.title(\"Verteilung der Residuen – Historisiert Linear Regression Top Ligen\")\n",
    "plt.xlabel(\"Residuum\")\n",
    "plt.ylabel(\"Häufigkeit\")\n",
    "plt.grid(True)\n",
    "safe_title = re.sub(r'[^\\w\\s-]', '', '04_Verteilung der Residuen – Historisiert Linear Regression Top Ligen').replace(' ', '_')\n",
    "\n",
    "plt.savefig(f\"../references/matplotlib/{safe_title}.png\", dpi=300, bbox_inches=\"tight\")\n",
    "plt.show()"
   ]
  },
  {
   "cell_type": "markdown",
   "metadata": {},
   "source": [
    "Die Verteilung der Residuen zeigt, wie genau ein Modell die tatsächlichen Werte vorhersagen kann. Bei der Linearen Regression ist die Fehlerverteilung zwar symmetrisch um den Wert Null, jedoch deutlich breiter, welches im Vergleich den aggregierten Daten größere Fehlerquote zuzusprechen ist, als den historisierten. Dies bedeutet, dass die Lineare Regression größere Fehler (Residuen) produziert. Insbesondere zeigt der rechte Rand der Verteilung, dass das Modell einige Vorhersagen erheblich überschätzt hat. Die Häufigkeit von Residuen nahe Null ist zwar hoch, dennoch führen die großen Fehler dazu, dass die Leistung des Modells beeinträchtigt wird. Diese breitere Streuung deutet darauf hin, dass die Lineare Regression die nichtlinearen und komplexen Zusammenhänge in den Daten nicht ausreichend abbilden kann."
   ]
  },
  {
   "cell_type": "code",
   "execution_count": null,
   "metadata": {},
   "outputs": [],
   "source": [
    "residuals = results_agg_top_league[8] - results_agg_top_league[10]\n",
    "\n",
    "plt.figure(figsize=(10, 6))\n",
    "plt.hist(residuals, bins=50, edgecolor='k', alpha=0.7)\n",
    "plt.title(\"Verteilung der Residuen – Aggregiert Random Forest Regression Top Ligen\")\n",
    "plt.xlabel(\"Residuum\")\n",
    "plt.ylabel(\"Häufigkeit\")\n",
    "plt.grid(True)\n",
    "safe_title = re.sub(r'[^\\w\\s-]', '', '05_Verteilung der Residuen – Aggregiert Random Forest Regression Top Ligen').replace(' ', '_')\n",
    "\n",
    "plt.savefig(f\"../references/matplotlib/{safe_title}.png\", dpi=300, bbox_inches=\"tight\")\n",
    "plt.show()"
   ]
  },
  {
   "cell_type": "code",
   "execution_count": null,
   "metadata": {},
   "outputs": [],
   "source": [
    "residuals = results_hist[8] - results_hist[10]\n",
    "\n",
    "plt.figure(figsize=(10, 6))\n",
    "plt.hist(residuals, bins=50, edgecolor='k', alpha=0.7)\n",
    "plt.title(\"Verteilung der Residuen – Historisiert Random Forest Regression Top Ligen\")\n",
    "plt.xlabel(\"Residuum\")\n",
    "plt.ylabel(\"Häufigkeit\")\n",
    "plt.grid(True)\n",
    "safe_title = re.sub(r'[^\\w\\s-]', '', '06_Verteilung der Residuen – Historisiert Random Forest Regression Top Ligen').replace(' ', '_')\n",
    "\n",
    "plt.savefig(f\"../references/matplotlib/{safe_title}.png\", dpi=300, bbox_inches=\"tight\")\n",
    "plt.show()"
   ]
  },
  {
   "cell_type": "markdown",
   "metadata": {},
   "source": [
    "Im Vergleich dazu zeigt die Random Forest Regression eine wesentlich engere Fehlerverteilung, bei der die meisten Residuen deutlich näher an Null liegen. Dies verdeutlicht, dass die Vorhersagen des Random Forest Modells genauer sind und der Marktwert der Spieler besser approximiert wurde. Auch hier hat das historisierte Modell eine geringere Fehlerquote."
   ]
  },
  {
   "cell_type": "code",
   "execution_count": null,
   "metadata": {},
   "outputs": [],
   "source": [
    "residuals = results_agg[8] - results_agg[11]\n",
    "\n",
    "plt.figure(figsize=(10, 6))\n",
    "plt.hist(residuals, bins=50, edgecolor='k', alpha=0.7)\n",
    "plt.title(\"Verteilung der Residuen – Aggregiert GBT\")\n",
    "plt.xlabel(\"Residuum\")\n",
    "plt.ylabel(\"Häufigkeit\")\n",
    "plt.grid(True)\n",
    "safe_title = re.sub(r'[^\\w\\s-]', '', '07_Verteilung der Residuen – Aggregiert GBT').replace(' ', '_')\n",
    "\n",
    "plt.savefig(f\"../references/matplotlib/{safe_title}.png\", dpi=300, bbox_inches=\"tight\")\n",
    "plt.show()"
   ]
  },
  {
   "cell_type": "code",
   "execution_count": null,
   "metadata": {},
   "outputs": [],
   "source": [
    "residuals = results_hist[8] - results_hist[11]\n",
    "\n",
    "plt.figure(figsize=(10, 6))\n",
    "plt.hist(residuals, bins=50, edgecolor='k', alpha=0.7)\n",
    "plt.title(\"Verteilung der Residuen – Historisiert GBT\")\n",
    "plt.xlabel(\"Residuum\")\n",
    "plt.ylabel(\"Häufigkeit\")\n",
    "plt.grid(True)\n",
    "safe_title = re.sub(r'[^\\w\\s-]', '', '07_Verteilung der Residuen – Historisiert GBT').replace(' ', '_')\n",
    "\n",
    "plt.savefig(f\"../references/matplotlib/{safe_title}.png\", dpi=300, bbox_inches=\"tight\")\n",
    "plt.show()"
   ]
  },
  {
   "cell_type": "markdown",
   "metadata": {},
   "source": [
    "Auch der Gradient Boosting Tree weist auf eine enge Fehlerverteilung, bei der die meisten Residuen deutlich näher an Null liegen. Die Vorhersagen des Random Forest Modells und Gradient Boosting Tree wurden ähnlich gut approximiert."
   ]
  },
  {
   "cell_type": "markdown",
   "metadata": {},
   "source": [
    "**Ergebnisse**\n",
    "\n",
    "Die empirischen Ergebnisse offenbaren signifikante Unterschiede in der Vorhersagequalität der implementierten Modelle, wobei sich deutliche Muster in Abhängigkeit von der Datenstruktur und dem gewählten Modellierungsansatz zeigen.\n",
    "\n",
    "Aggregierte Daten\n",
    "\n",
    "- **Historisches Gradient Boosting** erreichte die höchste Vorhersagegenauigkeit für Top-Spieler (R² = 0,6776).\n",
    "- **Gradient Boosting** (R² = 0,6727) und **Random Forest** (R² = 0,6674) zeigten vergleichbar starke Performance.\n",
    "- Die **Ausreißerbereinigung** führte zu einer substantiellen Reduktion des MSE, allerdings auf Kosten des R²-Wertes.\n",
    "- Die **lineare Regression** zeigte durchweg die schwächste Performance (R² = 0,1769 bis 0,2472).\n",
    "\n",
    "Historisierte Daten\n",
    "\n",
    "- **Random Forest** dominierte mit der besten Gesamtperformance (R² = 0,7339, MAPE: 0,94%).\n",
    "- Die **Ausreißerbereinigung** führte zu einem optimierten MSE bei moderatem R²-Verlust.\n",
    "- Alle **nicht-linearen Modelle** übertrafen die lineare Regression deutlich.\n",
    "- Die **Einbeziehung historischer Daten** verbesserte die Vorhersagegenauigkeit über alle Modelle hinweg.\n",
    "\n",
    "Bemerkenswert ist, dass die lineare Regression durchgehend die schwächste Performance zeigte, was die Nichtlinearität der Zusammenhänge zwischen den Prediktor-Variablen und dem Marktwert unterstreicht. Die Ausreißerbereinigung führte bei allen Modellen zu einer Reduzierung des MSE, ging jedoch teilweise zu Lasten des R²-Wertes.\n",
    "\n",
    "Bei der Interpretation der hohen MSE-Werte ist die Skalierung der Zielvariable zu berücksichtigen. Da Marktwerte im Profifußball von einigen Tausend bis zu mehreren hundert Millionen Euro reichen, führen selbst prozentual moderate Abweichungen zu hohen quadrierten Fehlern. Beispielsweise würde eine Vorhersage von 45 Millionen Euro bei einem tatsächlichen Marktwert von 50 Millionen Euro trotz einer relativ präzisen Schätzung (10% Abweichung) zu einem quadrierten Fehler von 25 Millionen² beitragen.\n",
    "\n",
    "Besonders aufschlussreich ist die Betrachtung des MAPE (Mean Absolute Percentage Error), der die durchschnittliche prozentuale Abweichung angibt und damit eine skalierungsunabhängige Bewertung ermöglicht.\n",
    "\n",
    "Aggregierte Daten:\n",
    "\n",
    "- Random Forest zeigt mit einem MAPE von 1,18% (ohne Ausreißer) die präzisesten Vorhersagen\n",
    "- Die lineare Regression weist mit 9,73% durchweg die höchsten prozentualen Fehler auf\n",
    "Alle Tree-basierten Modelle erreichen MAPE-Werte unter 3%\n",
    "- Die Ausreißerbereinigung führt generell zu einer Verbesserung des MAPE\n",
    "\n",
    "Historisierte Daten:\n",
    "\n",
    "- Random Forest ohne Ausreißer erreicht den besten MAPE von 0,94%\n",
    "- Deutliche Verbesserung der linearen Regression (MAPE 1,85% ohne Ausreißer)\n",
    "- Die Historisierung führt bei allen Modellen zu einer Verbesserung der Vorhersagegenauigkeit\n",
    "Tree-basierte Modelle zeigen konsistent niedrige MAPE-Werte zwischen 0,94% und 2,03%"
   ]
  },
  {
   "cell_type": "markdown",
   "metadata": {},
   "source": [
    "## Discussion + Conclusion\n"
   ]
  },
  {
   "cell_type": "markdown",
   "metadata": {},
   "source": [
    "Die empirischen Ergebnisse dieser Studie bestätigen die ursprüngliche Hypothese, dass Marktwerte im Profifußball durch maschinelle Lernmodelle mit bemerkenswerter Präzision prognostiziert werden können. Insbesondere die Überlegenheit von Random Forest und Gradient Boosting Modellen gegenüber der linearen Regression hebt die Komplexität der Marktwertbildung hervor, die durch nicht-lineare, multidimensionale Ansätze besser abgebildet werden kann.\n",
    "\n",
    "**Modellgüte und Limitationen**\n",
    "\n",
    "Die Verwendung historisierter Daten verbesserte die Prognosen systematisch. Bemerkenswert sind MAPE-Werte unter 1%, was auf eine hohe Präzision hinweist. Obwohl die Mean Squared Error (MSE)-Werte hoch waren, wurde dies auf die Skalierung der Daten zurückgeführt. Die Ausreißerbereinigung erwies sich als vorteilhaft. Modelle, die sich auf Top-Spieler konzentrierten, zeigten keinen signifikanten Vorteil.\n",
    "\n",
    "Die besten Modelle erreichten erzielten MAPE-Werte unter 1%, was auf eine außerordentlich hohe Präzision hindeutet, und R²-Werte von bis zu 0,7339 (Random Forest mit historisierten Daten), was bedeutet, dass etwa 73 % der Varianz in den Marktwerten durch die verwendeten Variablen erklärt werden können. Gleichzeitig bleibt jedoch ein unerklärter Anteil von 27 %, der auf qualitative und emotionale Faktoren sowie externe Einflüsse hinweist, die von den Modellen nicht erfasst werden. Dies zeigt die Grenzen der Modelle auf, da große Abweichungen zu fehlerhaften Investitionsentscheidungen führen könnten.\n",
    "\n",
    "**Emotionale und qualitative Komponenten**\n",
    "\n",
    "Ein wesentlicher Grund für die begrenzte Vorhersagegenauigkeit liegt in der emotionalen Dimension des Fußballs, die sich der Quantifizierung weitgehend entzieht. Aspekte wie Fanbindung, soziale Medienpräsenz, Charisma, Vereinstreue und das Identifikationspotenzial für verschiedene Märkte spielen eine bedeutende Rolle in der Marktwertbildung. Diese Faktoren sind derzeit methodisch schwer fassbar und stellen eine der größten Herausforderungen für zukünftige Forschung dar.\n",
    "\n",
    "**Strukturelle Limitationen**\n",
    "\n",
    "Neben den qualitativen und emotionalen Aspekten gibt es weitere methodische Einschränkungen:\n",
    "\n",
    "- Nicht-Quantifizierbarkeit qualitativer Faktoren wie Teamchemie oder Markenwert.\n",
    "- Zeitliche Verzögerungen bei der Datenverfügbarkeit.\n",
    "- Externe Einflüsse wie makroökonomische Faktoren, regulatorische Änderungen (z. B. Financial Fair Play) oder unvorhersehbare Ereignisse wie die COVID-19-Pandemie.\n",
    "- Datenbeschränkungen, die sich auf messbare Leistungsindikatoren konzentrieren, ohne taktische Beiträge oder Teamsynergien vollständig zu erfassen.\n",
    "\n",
    "**Praktische Implikationen**\n",
    "\n",
    "Trotz dieser Limitationen bieten die Modelle eine solide Grundlage für die Entwicklung von Entscheidungsunterstützungssystemen im professionellen Fußballmanagement. Die besten Ergebnisse wurden durch die Integration historisierter Daten erzielt, die eine systematische Verbesserung der Vorhersagegenauigkeit ermöglichen. Prozentuale Fehler von unter 1 % bei den besten Modellen (gemessen mit MAPE) zeigen eine hohe Präzision.\n",
    "\n",
    "**Zukünftige Forschungsansätze**\n",
    "\n",
    "Für die Weiterentwicklung der Modellierungsansätze und die Verbesserung der Vorhersagegenauigkeit sind folgende Punkte zentral:\n",
    "\n",
    "1. Integration qualitativer und emotionaler Faktoren:\n",
    "    - Natural Language Processing für Medien- und Social-Media-Analysen.\n",
    "\n",
    "\n",
    "2. Datenintegration:\n",
    "    - Analyse medizinischer Daten wie Verletzungshistorien.\n",
    "    - Untersuchung der Auswirkungen von Social-Media-Interaktionen auf Marktwerte.\n",
    "\n",
    "3. Theoretische Weiterentwicklung:\n",
    "    - Analyse der zeitlichen Stabilität von Marktwertprognosen.\n",
    "    - Untersuchung von Marktwertvolatilitäten in verschiedenen Karrierephasen.\n",
    "    - Entwicklung theoretischer Modelle, die emotionale und qualitative Dimensionen integrieren."
   ]
  },
  {
   "cell_type": "markdown",
   "metadata": {},
   "source": [
    "**Fazit**\n",
    "\n",
    "Die Ergebnisse dieser Studie liefern wichtige Erkenntnisse zur Marktwertbildung im Profifußball. Sie zeigen zugleich die Grenzen quantitativer Modelle in einem von qualitativen und emotionalen Faktoren geprägten Markt auf. Während die entwickelten Modelle wertvolle Unterstützung für Experteneinschätzungen bieten, bleibt die Einbindung qualitativer Faktoren ein vielversprechender Bereich für zukünftige Forschung. Die gewonnenen Erkenntnisse bilden eine solide Basis für die Entwicklung präziserer Vorhersagewerkzeuge und die Gestaltung innovativer Ansätze im Transfermanagement, wie Entscheidungsunterstützungssystemen im professionellen Fußballmanagement und tragen zum besseren Verständnis der Marktwertbildung im Profifußball bei."
   ]
  }
 ],
 "metadata": {
  "kernelspec": {
   "display_name": "project",
   "language": "python",
   "name": "python3"
  },
  "language_info": {
   "codemirror_mode": {
    "name": "ipython",
    "version": 3
   },
   "file_extension": ".py",
   "mimetype": "text/x-python",
   "name": "python",
   "nbconvert_exporter": "python",
   "pygments_lexer": "ipython3",
   "version": "3.12.8"
  },
  "orig_nbformat": 4
 },
 "nbformat": 4,
 "nbformat_minor": 2
}
