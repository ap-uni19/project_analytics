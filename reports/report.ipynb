{
 "cells": [
  {
   "cell_type": "markdown",
   "metadata": {},
   "source": [
    "# Report"
   ]
  },
  {
   "cell_type": "markdown",
   "metadata": {},
   "source": [
    "## Introduction and data"
   ]
  },
  {
   "cell_type": "markdown",
   "metadata": {},
   "source": [
    "> REMOVE THE FOLLOWING TEXT\n",
    "\n",
    "This section includes an introduction to the project motivation, data, and research question.\n",
    "Describe the data and definitions of key variables.\n",
    "\n",
    "It should also include some exploratory data analysis.\n",
    "\n",
    "All of the EDA won't fit in the paper, so focus on the EDA for the response variable and a few other interesting variables and relationships."
   ]
  },
  {
   "cell_type": "markdown",
   "metadata": {},
   "source": [
    "Der Profifußball ist nicht nur eine der weltweit populärsten Sportarten, sondern auch ein komplexes globales Wirtschaftsphänomen. Spielertransfers und die damit verbundenen Marktwerte von Profifußballern stellen zentrale Elemente dar, die sowohl für Vereine als auch für Investoren von entscheidender Bedeutung sind. Die Frage, wie der Marktwert eines Spielers bestimmt wird und welche Faktoren darauf einwirken, ist sowohl für die Sportökonomie als auch für datenwissenschaftliche Forschungen von großem Interesse.\n",
    "Die Bewertung von Spielerleistungen und das Ermitteln ihrer finanziellen Wertigkeit ist jedoch keine triviale Aufgabe. Sie umfasst zahlreiche Variablen, darunter individuelle Leistungsdaten, Alter, Position, Verletzungshistorie, internationale Erfahrung sowie die Dynamik des Transfermarktes. \n",
    "Das Ziel dieses Projekts ist es, die zentralen Faktoren zu identifizieren, die den Marktwert eines Spielers beeinflussen, und ein Modell zu entwickeln, das auf Basis dieser Erkenntnisse Marktwerte mit hoher Genauigkeit vorhersagen kann. Hierbei kommen historische Daten, statistische Analysen und moderne Verfahren des maschinellen Lernens zum Einsatz\n",
    "\n",
    "Wissenschaftliche Relevanz\n",
    "\n",
    "Die Erforschung von Marktwertvorhersagen im Profifußball verbindet wissenschaftliche Disziplinen wie Statistik, Ökonomie, Informatik und Sportwissenschaft. Neben der Verbesserung von Entscheidungsprozessen für Vereine und Scouts bietet diese Arbeit auch wertvolle Erkenntnisse über die Mechanismen und Dynamiken eines der lukrativsten Sportmärkte der Welt.\n",
    "\n",
    "Hypothese: Der Marktwert eines Profifußballspielers kann mithilfe eines Baumdiagramm vorhergesagt werden, wenn Variablen wie individuelle Leistungsdaten, physische Eigenschaften, Alter, Markttrends und Transferhistorien systematisch analysiert und in ein maschinelles Lernmodell integriert werden.\n"
   ]
  },
  {
   "cell_type": "markdown",
   "metadata": {},
   "source": [
    "### Setup"
   ]
  },
  {
   "cell_type": "code",
   "execution_count": 20,
   "metadata": {},
   "outputs": [],
   "source": [
    "import re\n",
    "import pandas as pd\n",
    "from datetime import datetime\n",
    "import matplotlib.pyplot as plt\n",
    "import seaborn as sns\n",
    "import numpy as np\n",
    "import matplotlib.pyplot as plt\n",
    "import seaborn as sns\n",
    "import altair as alt\n",
    "import plotly.express as px\n",
    "import plotly.io as pio\n",
    "\n",
    "from sklearn.model_selection import train_test_split\n",
    "from sklearn.linear_model import LinearRegression\n",
    "from sklearn.ensemble import RandomForestRegressor\n",
    "from sklearn.ensemble import GradientBoostingRegressor, HistGradientBoostingRegressor\n",
    "from sklearn.metrics import mean_squared_error, r2_score\n",
    "import joblib\n",
    "#import vegafusion as vf"
   ]
  },
  {
   "cell_type": "code",
   "execution_count": 2,
   "metadata": {},
   "outputs": [],
   "source": [
    "pd.set_option('display.max_columns', None) "
   ]
  },
  {
   "cell_type": "markdown",
   "metadata": {},
   "source": [
    "### Import data"
   ]
  },
  {
   "cell_type": "code",
   "execution_count": 3,
   "metadata": {},
   "outputs": [],
   "source": [
    "appearances = pd.read_parquet(\"../data/raw/appearances.parquet\")\n",
    "player_valuations = pd.read_parquet(\"../data/raw/player_valuations.parquet\")\n",
    "transfers = pd.read_parquet(\"../data/raw/transfers.parquet\")\n",
    "players = pd.read_parquet(\"../data/raw/players.parquet\")"
   ]
  },
  {
   "cell_type": "markdown",
   "metadata": {},
   "source": [
    "### Data structure"
   ]
  },
  {
   "cell_type": "code",
   "execution_count": null,
   "metadata": {},
   "outputs": [],
   "source": [
    "print(\"Appearances columns: \\n\", appearances.columns)\n",
    "print(\"\\n Player Valuations columns: \\n\", player_valuations.columns)\n",
    "print(\"\\n Transfers columns: \\n\", transfers.columns)\n",
    "print(\"\\n Players columns: \\n\", players.columns)"
   ]
  },
  {
   "cell_type": "markdown",
   "metadata": {},
   "source": [
    "#### Appearances DataFrame\n",
    " **Beschreibung:** Diese Tabelle enthält historische Daten über die Leistungen eines Spielers in einzelnen Spielen.\n",
    " **Wichtige Spalten:**\n",
    " - `player_id`: Eindeutige Spieler-ID.\n",
    " - `date`: Datum des Spiels.\n",
    " - `player_name`: Name des Spielers.\n",
    " - `competition_id`: ID des Wettbewerbs.\n",
    " - `yellow_cards`, `red_cards`: Anzahl gelber und roter Karten.\n",
    " - `goals`, `assists`: Tore und Vorlagen im Spiel.\n",
    " - `minutes_played`: Anzahl der gespielten Minuten."
   ]
  },
  {
   "cell_type": "code",
   "execution_count": null,
   "metadata": {},
   "outputs": [],
   "source": [
    "appearances.head(2)"
   ]
  },
  {
   "cell_type": "markdown",
   "metadata": {},
   "source": [
    "#### Player Valuations DataFrame\n",
    " **Beschreibung:** Diese Tabelle zeigt die Marktwertentwicklungen der Spieler über die Zeit.\n",
    " **Wichtige Spalten:**\n",
    " - `player_id`: Eindeutige Spieler-ID.\n",
    " - `date`: Datum der Marktwertermittlung.\n",
    " - `market_value_in_eur`: Erster Marktwert in Euro.\n",
    " - `current_club_id`: ID des aktuellen Clubs.\n",
    " - `player_club_domestic_competition_id`: ID des nationalen Wettbewerbs des aktuellen Clubs.\n"
   ]
  },
  {
   "cell_type": "code",
   "execution_count": null,
   "metadata": {},
   "outputs": [],
   "source": [
    "player_valuations.head(2)"
   ]
  },
  {
   "cell_type": "markdown",
   "metadata": {},
   "source": [
    "#### Transfers DataFrame\n",
    " **Beschreibung:** Diese Tabelle enthält Informationen zu Spielertransfers zwischen Clubs.\n",
    " **Wichtige Spalten:**\n",
    " - `player_id`: Eindeutige Spieler-ID.\n",
    " - `transfer_date`: Datum des Transfers.\n",
    " - `transfer_season`: Saison des Transfers.\n",
    " - `from_club_id`, `to_club_id`: IDs des abgebenden und aufnehmenden Clubs.\n",
    " - `from_club_name`, `to_club_name`: Namen der Clubs.\n",
    " - `transfer_fee`: Transfergebühr in Euro.\n",
    " - `market_value_in_eur`: Marktwert des Spielers zum Zeitpunkt des Transfers."
   ]
  },
  {
   "cell_type": "code",
   "execution_count": null,
   "metadata": {},
   "outputs": [],
   "source": [
    "transfers.head(2)"
   ]
  },
  {
   "cell_type": "markdown",
   "metadata": {},
   "source": [
    "#### Players DataFrame\n",
    " **Beschreibung:** Diese Tabelle enthält Basisinformationen zu Spielern.\n",
    " **Wichtige Spalten:**\n",
    " - `player_id`: Eindeutige Spieler-ID.\n",
    " - `name`, `first_name`, `last_name`: Name des Spielers.\n",
    " - `country_of_birth`, `country_of_citizenship`: Geburtsland und Staatsangehörigkeit.\n",
    " - `foot`: Bevorzugter Fuß (rechts/links).\n",
    " - `height_in_cm`: Körpergröße in cm.\n",
    " - `contract_expiration_date`: Vertragslaufzeitende.\n",
    " - `current_club_name`: Name des aktuellen Clubs.\n",
    " - `market_value_in_eur`: Aktueller Marktwert in Euro.\n",
    " - `highest_market_value_in_eur`: Höchster Marktwert in Euro."
   ]
  },
  {
   "cell_type": "code",
   "execution_count": null,
   "metadata": {},
   "outputs": [],
   "source": [
    "players.head(2)"
   ]
  },
  {
   "cell_type": "markdown",
   "metadata": {},
   "source": [
    "### Data corrections"
   ]
  },
  {
   "cell_type": "markdown",
   "metadata": {},
   "source": [
    "#### Aggregierte Appearances DataFrame\n",
    "- **Beschreibung:** Diese Tabelle fasst die Leistungen eines Spielers über alle Spiele zusammen.\n",
    "- **Aggregierte Spalten:**\n",
    "  - `total_minutes_played`: Gesamte Spielminuten.\n",
    "  - `total_goals`, `total_assists`: Gesamte Tore und Vorlagen.\n",
    "  - `total_yellow_cards`, `total_red_cards`: Summe der gelben und roten Karten.\n",
    "  - `total_golas_per_game`: Totaler Durchschnitt der Tore pro Spiel \n"
   ]
  },
  {
   "cell_type": "code",
   "execution_count": null,
   "metadata": {},
   "outputs": [],
   "source": [
    "appearances_agg = appearances.groupby('player_id').agg({\n",
    "    'minutes_played': 'sum',  # Gesamtminuten\n",
    "    'goals': 'sum',           # Gesamttore\n",
    "    'assists': 'sum',         # Gesamtvorlagen\n",
    "    'yellow_cards': 'sum',    # Gelbe Karten\n",
    "    'red_cards': 'sum',       # Rote Karten\n",
    "    'game_id': 'count'        # Anzahl der Spiele\n",
    "}).reset_index()\n",
    "\n",
    "appearances_agg.rename(columns={\n",
    "    'minutes_played': 'total_minutes_played',\n",
    "    'goals': 'total_goals',\n",
    "    'assists': 'total_assists',\n",
    "    'yellow_cards': 'total_yellow_cards',\n",
    "    'red_cards': 'total_red_cards',\n",
    "    'game_id': 'total_matches'\n",
    "}, inplace=True)\n",
    "\n",
    "\n",
    "appearances_agg.head()"
   ]
  },
  {
   "cell_type": "markdown",
   "metadata": {},
   "source": [
    "#### Aggregierte Appearancespro Jahr (historisiert)\n",
    "- **Beschreibung:** Diese Tabelle fasst die Leistung jährlich eines Spielers über alle Spiele zusammen.\n",
    "- **Aggregierte Spalten:**\n",
    "  - `minutes_played_per_game`: Gesamte Spielminuten.\n",
    "  - `assists_per_game`: Gesamte Vorlagen.\n",
    "  - `yellow_cards_per_game`, `red_cards_per_game`: Summe der gelben und roten Karten.\n",
    "  - `golas_per_game`: Totaler Durchschnitt der Tore pro Spiel \n"
   ]
  },
  {
   "cell_type": "code",
   "execution_count": null,
   "metadata": {},
   "outputs": [],
   "source": [
    "appearances['date'] = pd.to_datetime(appearances['date'])\n",
    "appearances['year'] = appearances['date'].dt.year\n",
    "\n",
    "appearances_hist = appearances.groupby(['player_id', 'year']).agg({\n",
    "    'minutes_played': 'sum',\n",
    "    'goals': 'sum',         \n",
    "    'assists': 'sum',       \n",
    "    'yellow_cards': 'sum',  \n",
    "    'red_cards': 'sum',     \n",
    "    'game_id': 'count' \n",
    "}).reset_index()\n",
    "\n",
    "appearances_hist['goals_per_game'] = appearances_hist['goals'] / appearances_hist['game_id']\n",
    "appearances_hist['assists_per_game'] = appearances_hist['assists'] / appearances_hist['game_id']\n",
    "appearances_hist['yellow_cards_per_game'] = appearances_hist['yellow_cards'] / appearances_hist['game_id']\n",
    "appearances_hist['red_cards_per_game'] = appearances_hist['red_cards'] / appearances_hist['game_id']\n",
    "appearances_hist['minutes_played_per_game'] = appearances_hist['minutes_played'] / appearances_hist['game_id']\n",
    "\n",
    "appearances_hist.drop([\"minutes_played\", \"goals\", \"assists\", \"yellow_cards\", \"red_cards\", \"game_id\"], axis=1, inplace =True)\n",
    "\n",
    "appearances_hist.head()"
   ]
  },
  {
   "cell_type": "markdown",
   "metadata": {},
   "source": [
    "In diesem Schritt werden die Leistungsdaten der Spieler, wie Tore, Assists und Karten, auf Spielebene normalisiert, um Metriken wie `goals_per_game` oder `assists_per_game` zu berechnen. Dadurch wird die Leistung unabhängig von der Anzahl absolvierter Spiele dargestellt, was eine objektivere Analyse ermöglicht und zeitliche Entwicklungen präziser abbildet. Dies erlaubt eine differenziertere Analyse, die weniger von der Anzahl der absolvierten Spiele beeinflusst ist."
   ]
  },
  {
   "cell_type": "code",
   "execution_count": null,
   "metadata": {},
   "outputs": [],
   "source": [
    "player_data = appearances_hist[appearances_hist['player_id'] == 342229]\n",
    "fig = px.line(\n",
    "    player_data,\n",
    "    x='year',\n",
    "    y='goals_per_game',\n",
    "    title='Tore pro Spiel im Zeitverlauf',\n",
    "    labels={'goals_per_game': 'Tore pro Spiel', 'year': 'Jahr'}\n",
    ")\n",
    "fig.update_layout(\n",
    "    xaxis=dict(\n",
    "        tickmode='linear',\n",
    "        tick0=min(player_data['year']),\n",
    "        dtick=1  # Schritte von 1 Jahr\n",
    "    )\n",
    ")\n",
    "#speichern\n",
    "plot_title = fig.layout.title.text\n",
    "safe_title = re.sub(r'[^\\w\\s-]', '', plot_title).replace(' ', '_')\n",
    "fig.write_html(f\"../references/plotly/{safe_title}.html\")"
   ]
  },
  {
   "cell_type": "code",
   "execution_count": null,
   "metadata": {},
   "outputs": [],
   "source": [
    "sns.set_style(\"whitegrid\")\n",
    "sns.set_palette(\"deep\")\n",
    "\n",
    "player_data = appearances_hist[appearances_hist['player_id'] == 342229]\n",
    "\n",
    "plt.figure(figsize=(12, 7))\n",
    "\n",
    "sns.lineplot(data=player_data, x='year', y='goals_per_game', linewidth=2.5, marker='o')\n",
    "plt.scatter(player_data['year'], player_data['goals_per_game'], s=60, color='red', zorder=5)\n",
    "\n",
    "plt.title('Tore pro Spiel im Zeitverlauf', fontsize=20, fontweight='bold', pad=20)\n",
    "plt.xlabel('Jahr', fontsize=14, labelpad=10)\n",
    "plt.ylabel('Tore pro Spiel', fontsize=14, labelpad=10)\n",
    "\n",
    "plt.xticks(range(min(player_data['year']), max(player_data['year'])+1, 1), rotation=45)\n",
    "plt.ylim(0, max(player_data['goals_per_game']) * 1.1)\n",
    "plt.grid(True, linestyle='--', alpha=0.7)\n",
    "sns.despine()\n",
    "plt.legend(['Tore pro Spiel'], loc='upper left', fontsize=12)\n",
    "\n",
    "plt.tight_layout()\n",
    "plt.show()\n",
    "\n"
   ]
  },
  {
   "cell_type": "markdown",
   "metadata": {},
   "source": [
    "#### Fehldende Werte raussuchen und Daten Engineering"
   ]
  },
  {
   "cell_type": "code",
   "execution_count": null,
   "metadata": {},
   "outputs": [],
   "source": [
    "print(\"Fehlende Werte in appearances:\")\n",
    "print(appearances.isnull().sum())"
   ]
  },
  {
   "cell_type": "code",
   "execution_count": null,
   "metadata": {},
   "outputs": [],
   "source": [
    "print(\"Fehlende Werte in player_valuations:\")\n",
    "player_valuations['date'] = pd.to_datetime(player_valuations['date'])\n",
    "player_valuations['year'] = player_valuations['date'].dt.year\n",
    "\n",
    "#player_valuations.drop(\"date\", axis=1, inplace=True) # date wird gelöscht um auf Jahreseben den Marktwert zu untersuchen\n",
    "player_valuations = player_valuations.drop_duplicates(subset=['player_id','year'], keep='last') # damit wird gewährleistet, dass pro Jahr auf nur ein Marktwert pro Spieler limitiert wird\n",
    "print(player_valuations.isnull().sum())"
   ]
  },
  {
   "cell_type": "markdown",
   "metadata": {},
   "source": [
    "Durch `drop_duplicates(subset=['player_id','year'], keep='last')` wird gewährleistet, dass es auf nur ein Marktwert pro Spieler im Jahr limitiert wird. Da es Spieler gibt deren Marktwert mehrmals im Jahr abgefragt wird."
   ]
  },
  {
   "cell_type": "code",
   "execution_count": null,
   "metadata": {},
   "outputs": [],
   "source": [
    "print(\"Fehlende Werte in transfers:\")\n",
    "transfers['transfer_date'] = pd.to_datetime(transfers['transfer_date'])\n",
    "transfers['year'] = transfers['transfer_date'].dt.year\n",
    "# wichtig für das Mergen später\n",
    "print(transfers.isnull().sum())"
   ]
  },
  {
   "cell_type": "code",
   "execution_count": null,
   "metadata": {},
   "outputs": [],
   "source": [
    "print(\"Fehlende Werte in players:\")\n",
    "\n",
    "print(players.isnull().sum())"
   ]
  },
  {
   "cell_type": "code",
   "execution_count": 18,
   "metadata": {},
   "outputs": [],
   "source": [
    "players.dropna(subset=['market_value_in_eur'], inplace=True)"
   ]
  },
  {
   "cell_type": "code",
   "execution_count": null,
   "metadata": {},
   "outputs": [],
   "source": [
    "print(\"Fehlende Werte in appearances_hist:\")\n",
    "print(appearances_hist.isnull().sum())"
   ]
  },
  {
   "cell_type": "markdown",
   "metadata": {},
   "source": [
    "#### Merging Datasets"
   ]
  },
  {
   "cell_type": "markdown",
   "metadata": {},
   "source": [
    "`combined_data_agg` enthält die aggregierte Version (`appearances_agg`) der Spieler. Keine Historie enthalten durch `drop_duplicates(subset='player_id', keep='last')` wird der aktuellste Marktewert genommen."
   ]
  },
  {
   "cell_type": "code",
   "execution_count": null,
   "metadata": {},
   "outputs": [],
   "source": [
    "combined_data_agg = players.merge(appearances_agg, on='player_id', how='inner')\n",
    "\n",
    "#combined_data_agg = combined_data_agg.merge(transfers[['player_id', 'transfer_fee', 'market_value_in_eur','year']].drop_duplicates(subset='player_id', keep='first'), \n",
    "#                                    on=['player_id'], how='left')\n",
    "\n",
    "combined_data_agg.head()"
   ]
  },
  {
   "cell_type": "code",
   "execution_count": null,
   "metadata": {},
   "outputs": [],
   "source": [
    "combined_data_agg[combined_data_agg[\"name\"]==\"Kylian Mbappé\"]"
   ]
  },
  {
   "cell_type": "markdown",
   "metadata": {},
   "source": [
    "`combined_data_hist` enthält die historisierte Version (`appearances_hist`) der Aggregationen "
   ]
  },
  {
   "cell_type": "code",
   "execution_count": null,
   "metadata": {},
   "outputs": [],
   "source": [
    "combined_data_hist = player_valuations.merge(players, on='player_id', how='inner')\n",
    "combined_data_hist = combined_data_hist.merge(appearances_hist, on=['player_id', 'year'], how='inner')\n",
    "\n",
    "combined_data_hist = combined_data_hist.merge(transfers[['player_id', 'transfer_fee', 'market_value_in_eur', 'year', 'transfer_season']], \n",
    "                                    on=['player_id', 'year'] , how='left')\n",
    "\n",
    "combined_data_hist.head()"
   ]
  },
  {
   "cell_type": "markdown",
   "metadata": {},
   "source": [
    "#### Feature Engineering"
   ]
  },
  {
   "cell_type": "code",
   "execution_count": 62,
   "metadata": {},
   "outputs": [],
   "source": [
    "combined_data_hist.rename(columns={\n",
    "    'market_value_in_eur_x': 'historical_to_date__market_value',\n",
    "    'market_value_in_eur_y': 'current_market_value',\n",
    "    'market_value_in_eur': 'transfer_market_value',\n",
    "    'player_club_domestic_competition_id': 'league_id'\n",
    "}, inplace=True)\n",
    "\n",
    "combined_data_agg.rename(columns={\n",
    "    'market_value_in_eur': 'current_market_value',\n",
    "    'current_club_domestic_competition_id': 'league_id'\n",
    "}, inplace=True)"
   ]
  },
  {
   "cell_type": "code",
   "execution_count": 63,
   "metadata": {},
   "outputs": [],
   "source": [
    "## Feautre Engineering: transfer gap\n",
    "combined_data_hist['transfer_fee_gap'] = combined_data_hist['transfer_fee'] - combined_data_hist['transfer_market_value']\n",
    "combined_data_hist.drop(columns=['current_club_id_x', 'current_club_id_y', 'image_url', 'url', 'agent_name', 'player_code', 'first_name', 'last_name', 'current_club_domestic_competition_id'], inplace=True)"
   ]
  },
  {
   "cell_type": "code",
   "execution_count": 64,
   "metadata": {},
   "outputs": [],
   "source": [
    "combined_data_agg.drop(columns=['image_url', 'url', 'agent_name', 'player_code', 'first_name', 'last_name'], inplace=True)"
   ]
  },
  {
   "cell_type": "markdown",
   "metadata": {},
   "source": [
    "`transfer_fee_gap` enthält die Differenz zwischen der Transfer Gebühr und den jeweiligen Marktwert im Jahr des Transfers. Da die Transfers jährlich vorliegen, werden der `transfer_fee_gap` nur bei der historischen Version hinzugefügt "
   ]
  },
  {
   "cell_type": "markdown",
   "metadata": {},
   "source": [
    "##### Alter ergänzen und evaluieren"
   ]
  },
  {
   "cell_type": "code",
   "execution_count": 65,
   "metadata": {},
   "outputs": [],
   "source": [
    "## Feautre Engineering: Alter\n",
    "combined_data_hist['age'] = (pd.to_datetime(combined_data_hist['date']).dt.year - \n",
    "                         pd.to_datetime(combined_data_hist['date_of_birth']).dt.year)\n",
    "\n",
    "current_year = datetime.now().year\n",
    "combined_data_agg['age'] = current_year - pd.to_datetime(combined_data_agg['date_of_birth']).dt.year\n"
   ]
  },
  {
   "cell_type": "code",
   "execution_count": null,
   "metadata": {},
   "outputs": [],
   "source": [
    "combined_data_hist[['date_of_birth', 'age']].head()"
   ]
  },
  {
   "cell_type": "code",
   "execution_count": null,
   "metadata": {},
   "outputs": [],
   "source": [
    "combined_data_agg.head(2)"
   ]
  },
  {
   "cell_type": "code",
   "execution_count": null,
   "metadata": {},
   "outputs": [],
   "source": [
    "combined_data_hist.head(2)"
   ]
  },
  {
   "cell_type": "code",
   "execution_count": null,
   "metadata": {},
   "outputs": [],
   "source": [
    "combined_data_hist = combined_data_hist[combined_data_hist['age'] > 15]\n",
    "combined_data_agg = combined_data_agg[combined_data_agg['age'] > 15]\n",
    "\n",
    "combined_data_hist.shape"
   ]
  },
  {
   "cell_type": "markdown",
   "metadata": {},
   "source": [
    "In diesem Schritt wird das Alter der Spieler zum Zeitpunkt der Marktwertbewertung berechnet, indem das Datum der Bewertung (`date`) und das Geburtsdatum des Spielers (`date_of_birth`) herangezogen werden. Anschließend wird der Datensatz gefiltert, sodass nur Spieler berücksichtigt werden, die zum Zeitpunkt der Bewertung ein Mindestalter von 15 Jahren erreicht haben.\n",
    "\n",
    "Das Mindestalter von 15 Jahren wird als Untergrenze definiert, da Marktwertbewertungen für Spieler, die jünger als 15 Jahre alt sind, in der Regel unplausibel und fehlerhaft erscheinen. Solche Datensätze können als Ausreißer betrachtet werden und die statistische Analyse sowie die Vorhersagemodelle erheblich verfälschen."
   ]
  },
  {
   "cell_type": "markdown",
   "metadata": {},
   "source": [
    "##### Aktive oder in Rente "
   ]
  },
  {
   "cell_type": "code",
   "execution_count": 70,
   "metadata": {},
   "outputs": [],
   "source": [
    "current_year = 2025\n",
    "\n",
    "combined_data_hist['is_retired'] = combined_data_hist['last_season'] <= (current_year - 5)\n",
    "\n",
    "combined_data_agg['is_retired'] = combined_data_agg['last_season'] <= (current_year - 5)"
   ]
  },
  {
   "cell_type": "markdown",
   "metadata": {},
   "source": [
    "Die neue  Variable `is_retired` erlaubt es, aktive und inaktive Spieler getrennt zu betrachten, was Verzerrungen in den Modellen reduzieren kann."
   ]
  },
  {
   "cell_type": "markdown",
   "metadata": {},
   "source": [
    "#### Change Datatypes"
   ]
  },
  {
   "cell_type": "code",
   "execution_count": null,
   "metadata": {},
   "outputs": [],
   "source": [
    "combined_data_hist.info()"
   ]
  },
  {
   "cell_type": "code",
   "execution_count": null,
   "metadata": {},
   "outputs": [],
   "source": [
    "# IDs zu Strings umwandeln\n",
    "id_columns = [\n",
    "    \"player_id\", \"league_id\"\n",
    "]\n",
    "combined_data_hist[id_columns] = combined_data_hist[id_columns].astype(str)\n",
    "\n",
    "# Datumsangaben umwandeln\n",
    "date_columns = [\"date\", \"date_of_birth\", \"contract_expiration_date\"]\n",
    "for col in date_columns:\n",
    "    combined_data_hist[col] = pd.to_datetime(combined_data_hist[col], errors='coerce')\n",
    "\n",
    "\n",
    "print(combined_data_hist.info())\n"
   ]
  },
  {
   "cell_type": "code",
   "execution_count": null,
   "metadata": {},
   "outputs": [],
   "source": [
    "combined_data_agg.info()"
   ]
  },
  {
   "cell_type": "code",
   "execution_count": null,
   "metadata": {},
   "outputs": [],
   "source": [
    "# IDs zu Strings umwandeln\n",
    "id_columns = [\n",
    "    \"player_id\", \"current_club_id\", \"league_id\"\n",
    "]\n",
    "combined_data_agg[id_columns] = combined_data_agg[id_columns].astype(str)\n",
    "\n",
    "# Datumsangaben umwandeln\n",
    "date_columns = [ \"date_of_birth\", \"contract_expiration_date\"]\n",
    "for col in date_columns:\n",
    "    combined_data_agg[col] = pd.to_datetime(combined_data_agg[col], errors='coerce')\n",
    "\n",
    "\n",
    "print(combined_data_agg.info())"
   ]
  },
  {
   "cell_type": "code",
   "execution_count": 34,
   "metadata": {},
   "outputs": [],
   "source": [
    "\n",
    "# abspeichern in data/processed\n",
    "combined_data_hist.to_parquet('../data/processed/combined_data_hist.parquet')\n",
    "combined_data_agg.to_parquet('../data/processed/combined_data_agg.parquet')"
   ]
  },
  {
   "cell_type": "markdown",
   "metadata": {},
   "source": [
    "### Analysis"
   ]
  },
  {
   "cell_type": "markdown",
   "metadata": {},
   "source": [
    "Für die Analysen wird die aggregierte Version der Dataframes `combined_data_agg` genutzt, um das mehrfache Vorkommen von Spielern zu verhindern. "
   ]
  },
  {
   "cell_type": "code",
   "execution_count": null,
   "metadata": {},
   "outputs": [],
   "source": [
    "fig = px.box(\n",
    "    combined_data_agg, \n",
    "    y=\"current_market_value\", \n",
    "    color=combined_data_agg['is_retired'].map({True: 'Retired', False: 'Active'}),\n",
    "    title=\"Boxplot of Current Market Value, Divided by Active or Retired (2020) Player\",\n",
    "    labels={\"current_market_value\": \"Current Market Value (in M€)\"},\n",
    "    hover_data=[\"name\", \"age\"] \n",
    ")\n",
    "\n",
    "fig.update_layout(\n",
    "    yaxis=dict(title=\"Current Market Value (in M€)\", showgrid=True),\n",
    "    xaxis=dict(showticklabels=False),\n",
    "    title=dict(x=0.5)  # Titel zentrieren\n",
    ")\n",
    "\n",
    "#fig.show()\n",
    "#speichern\n",
    "plot_title = fig.layout.title.text\n",
    "safe_title = re.sub(r'[^\\w\\s-]', '', plot_title).replace(' ', '_')\n",
    "fig.write_html(f\"../references/plotly/{safe_title}.html\")"
   ]
  },
  {
   "cell_type": "code",
   "execution_count": null,
   "metadata": {},
   "outputs": [],
   "source": [
    "plt.figure(figsize=(10, 6))\n",
    "sns.boxplot(\n",
    "    data=combined_data_agg,\n",
    "    y=\"current_market_value\",\n",
    "    x=combined_data_agg['is_retired'].map({True: 'Retired', False: 'Active'}),\n",
    "    palette={\"Active\": \"#1f77b4\", \"Retired\": \"#d62728\"},  # Blau für Active, Rot für Retired\n",
    "    linewidth=2,\n",
    "    width=0.6,\n",
    "    notch=True\n",
    ")\n",
    "\n",
    "plt.title(\"Boxplot of Current Market Value, Divided by Active or Retired (2020) Player\", fontsize=16, weight='bold', pad=20)\n",
    "plt.ylabel(\"Current Market Value (in M€)\", fontsize=14)\n",
    "plt.xlabel(\"\")\n",
    "plt.xticks(fontsize=12)\n",
    "plt.yticks(fontsize=12)\n",
    "plt.grid(axis='y', linestyle='--', alpha=0.6)\n",
    "sns.despine(left=True)\n",
    "\n",
    "plt.tight_layout()\n",
    "plt.savefig(\"boxplot_current_market_value_active_retired.png\", dpi=300)\n",
    "plt.show()"
   ]
  },
  {
   "cell_type": "markdown",
   "metadata": {},
   "source": [
    "Die Boxplots zeigen die Verteilung der aktuellen Marktwerte von Fußballspielern, getrennt nach aktiven und pensionierten Spielern. Die Marktwerte konzentrieren sich überwiegend im unteren Bereich, wobei einige wenige aktive Spieler als Ausreißer deutlich höhere Werte aufweisen. Pensionierte Spieler haben insgesamt niedrigere Marktwerte und kaum Ausreißer, was auf eine homogenere Verteilung hinweist. Der Plot verdeutlicht die starke Schiefe der Marktwerte und die größere Streuung bei aktiven Spielern im Vergleich zu pensionierten."
   ]
  },
  {
   "cell_type": "markdown",
   "metadata": {},
   "source": [
    "#### Ohne Ausreißer"
   ]
  },
  {
   "cell_type": "code",
   "execution_count": 79,
   "metadata": {},
   "outputs": [],
   "source": [
    "q1 = combined_data_agg[\"current_market_value\"].quantile(0.25)\n",
    "q3 = combined_data_agg[\"current_market_value\"].quantile(0.75)\n",
    "iqr = q3 - q1\n",
    "lower_bound = q1 - 1.5 * iqr\n",
    "upper_bound = q3 + 1.5 * iqr\n",
    "\n",
    "# Filtern der Daten ohne Ausreißer\n",
    "combined_data_agg_no_outliers = combined_data_agg[\n",
    "    (combined_data_agg[\"current_market_value\"] >= lower_bound) & \n",
    "    (combined_data_agg[\"current_market_value\"] <= upper_bound)\n",
    "]"
   ]
  },
  {
   "cell_type": "code",
   "execution_count": null,
   "metadata": {},
   "outputs": [],
   "source": [
    "combined_data_agg_no_outliers.shape"
   ]
  },
  {
   "cell_type": "code",
   "execution_count": null,
   "metadata": {},
   "outputs": [],
   "source": [
    "fig = px.box(\n",
    "    combined_data_agg_no_outliers, \n",
    "    y=\"current_market_value\", \n",
    "    title=\"Boxplot of Current Market Value, Divided by Active or Retired (2020) Player, Without Outliers\",\n",
    "    labels={\"current_market_value\": \"Current Market Value (in M€)\"},\n",
    "    hover_data=[\"name\", \"age\"]\n",
    ")\n",
    "\n",
    "#fig.show()\n",
    "plot_title = fig.layout.title.text\n",
    "safe_title = re.sub(r'[^\\w\\s-]', '', plot_title).replace(' ', '_')\n",
    "fig.write_html(f\"../references/plotly/{safe_title}.html\")"
   ]
  },
  {
   "cell_type": "code",
   "execution_count": null,
   "metadata": {},
   "outputs": [],
   "source": [
    "plt.figure(figsize=(8, 6))\n",
    "sns.boxplot(\n",
    "    data=combined_data_agg_no_outliers,\n",
    "    y=\"current_market_value\",\n",
    "    linewidth=2,\n",
    "    width=0.6,\n",
    "    color=\"#1f77b4\",\n",
    "    notch=True\n",
    ")\n",
    "\n",
    "plt.title(\"Boxplot des Marktwerts (in €) ohne Ausreißer\", fontsize=16, weight='bold', pad=20)\n",
    "plt.ylabel(\"Marktwert (in M€)\", fontsize=14)\n",
    "plt.xlabel(\"\")\n",
    "plt.yticks(fontsize=12)\n",
    "plt.grid(axis='y', linestyle='--', alpha=0.6)\n",
    "sns.despine(left=True)\n",
    "\n",
    "plt.tight_layout()\n",
    "plt.show()"
   ]
  },
  {
   "cell_type": "code",
   "execution_count": null,
   "metadata": {},
   "outputs": [],
   "source": [
    "fig = px.box(\n",
    "    combined_data_agg_no_outliers, \n",
    "    y=\"current_market_value\", \n",
    "    color=combined_data_agg_no_outliers['is_retired'].map({True: 'Retired', False: 'Active'}),\n",
    "    title=\"Boxplot of Current Market Value, Divided by Active or Retired (2020) Player, Without Outliers\",\n",
    "    labels={\"current_market_value\": \"Current Market Value (in M€)\"},\n",
    "    hover_data=[\"name\", \"age\"],\n",
    ")\n",
    "\n",
    "#fig.show()\n",
    "plot_title = fig.layout.title.text\n",
    "safe_title = re.sub(r'[^\\w\\s-]', '', plot_title).replace(' ', '_')\n",
    "fig.write_html(f\"../references/plotly/{safe_title}.html\")"
   ]
  },
  {
   "cell_type": "code",
   "execution_count": null,
   "metadata": {},
   "outputs": [],
   "source": [
    "import matplotlib.pyplot as plt\n",
    "import seaborn as sns\n",
    "\n",
    "plt.figure(figsize=(10, 6))\n",
    "sns.boxplot(\n",
    "    data=combined_data_agg_no_outliers,\n",
    "    y=\"current_market_value\",\n",
    "    x=combined_data_agg_no_outliers['is_retired'].map({True: 'Retired', False: 'Active'}),\n",
    "    palette={\"Active\": \"#d62728\", \"Retired\": \"#1f77b4\"},\n",
    "    linewidth=2,\n",
    "    width=0.6,\n",
    "    notch=True\n",
    ")\n",
    "\n",
    "plt.title(\"Boxplot des Marktwerts (in €), aufgeteilt nach Aktiven und Zurückgetretenen Spielern (2020), ohne Ausreißer\", fontsize=16, weight='bold', pad=20)\n",
    "plt.ylabel(\"Marktwert (in €)\", fontsize=14)\n",
    "plt.xlabel(\"\")\n",
    "plt.xticks(fontsize=12)\n",
    "plt.yticks(fontsize=12)\n",
    "plt.grid(axis='y', linestyle='--', alpha=0.6)\n",
    "sns.despine(left=True)\n",
    "\n",
    "plt.tight_layout()\n",
    "plt.show()"
   ]
  },
  {
   "cell_type": "markdown",
   "metadata": {},
   "source": [
    "#### Descriptive statistics"
   ]
  },
  {
   "cell_type": "code",
   "execution_count": null,
   "metadata": {},
   "outputs": [],
   "source": [
    "#combined_data.describe().T\n",
    "\n",
    "numeric_combined_data_agg = combined_data_agg.select_dtypes(include=[\"number\"])\n",
    "numeric_combined_data_agg.describe().T"
   ]
  },
  {
   "cell_type": "markdown",
   "metadata": {},
   "source": [
    "Die deskriptive Analyse zeigt eine große Vielfalt unter den Fußballspielern, sowohl in Bezug auf ihre Leistung als auch auf ihren Marktwert. Der durchschnittliche aktuelle Marktwert (`current_market_value`) liegt bei etwa 1,95 Millionen Euro, wobei die Werte von nur 10.000 Euro bis hin zu beeindruckenden 200 Millionen Euro reichen. Spieler haben im Durchschnitt 6,33 Tore (`total_goals`) und 4,99 Assists (`total_assists`) erzielt, mit maximalen Werten von 490 Toren und 224 Assists, was die Präsenz einiger außergewöhnlicher Akteure unterstreicht. Die durchschnittliche Anzahl absolvierter Spiele (`total_matches`) liegt bei rund 66, wobei einige Spieler bis zu 589 Spiele bestritten haben. Die durchschnittliche Spielzeit (`total_minutes_played`) beläuft sich auf 4.565 Minuten, mit einem Maximum von nahezu 50.000 Minuten. Disziplinarisch erhalten Spieler im Schnitt etwa 9,76 gelbe Karten (`total_yellow_cards`) und 0,25 rote Karten (`total_red_cards`) im Verlauf ihrer Karriere. Das durchschnittliche Alter der Spieler (`age`) beträgt 31 Jahre, mit einer Spannweite von 17 bis 55 Jahren, was sowohl die jungen Talente als auch erfahrene Veteranen repräsentiert."
   ]
  },
  {
   "cell_type": "markdown",
   "metadata": {},
   "source": [
    "#### Exploratory data analysis"
   ]
  },
  {
   "cell_type": "markdown",
   "metadata": {},
   "source": [
    "Für EDA lieber historisierte Daten nutzen? Spieler kommen öfters vor durch historisierung"
   ]
  },
  {
   "cell_type": "code",
   "execution_count": null,
   "metadata": {},
   "outputs": [],
   "source": [
    "sns.histplot(combined_data_agg['current_market_value'], bins=50, kde=True)\n",
    "plt.title(\"Distribution of Current Market Values\")\n",
    "plt.show()"
   ]
  },
  {
   "cell_type": "markdown",
   "metadata": {},
   "source": [
    "auch bei agg gibt es welche die öfters vorkommen hier versuchen den neusten Datensatz zu nehmen"
   ]
  },
  {
   "cell_type": "markdown",
   "metadata": {},
   "source": [
    "idee eine Person als Bsp mit Hist "
   ]
  },
  {
   "cell_type": "code",
   "execution_count": null,
   "metadata": {},
   "outputs": [],
   "source": [
    "lineplot_data = combined_data_hist[combined_data_hist['player_id'].isin([\"418560\", \"371998\", \"342229\"])]\n",
    "\n",
    "fig = px.line(\n",
    "    lineplot_data,\n",
    "    x='year',\n",
    "    y='historical_to_date__market_value',\n",
    "    color='name',  # Unterschiedliche Spieler durch Farben darstellen\n",
    "    line_group='player_id',\n",
    "    hover_data={\n",
    "        'name': True,\n",
    "        'goals_per_game': True,  # Tore als zusätzliche Info\n",
    "        'assists_per_game': True,  # Assists\n",
    "        'year': True,    # Jahr\n",
    "    },\n",
    "    title=\"Vergleich der Marktwertentwicklung mehrerer Spieler\",\n",
    "    labels={\n",
    "        'name': \"Name\",\n",
    "        'year': 'Jahr',\n",
    "        'goals_per_game': 'Tore pro Spiel',\n",
    "        'assists_per_game':'Assist pro Spiel',\n",
    "        'historical_to_date__market_value': 'Marktwert (in €)'\n",
    "    }\n",
    ")\n",
    "\n",
    "fig.update_layout(\n",
    "    xaxis_title=\"Jahr\",\n",
    "    yaxis_title=\"Marktwert (in €)\",\n",
    "    legend_title=\"Spieler\",\n",
    "    hovermode=\"x unified\"\n",
    ")\n",
    "\n",
    "#fig.show()\n",
    "plot_title = fig.layout.title.text\n",
    "safe_title = re.sub(r'[^\\w\\s-]', '', plot_title).replace(' ', '_')\n",
    "fig.write_html(f\"../references/plotly/{safe_title}.html\")"
   ]
  },
  {
   "cell_type": "code",
   "execution_count": null,
   "metadata": {},
   "outputs": [],
   "source": [
    "lineplot_data = combined_data_hist[combined_data_hist['player_id'].isin([\"418560\", \"371998\", \"342229\"])]\n",
    "\n",
    "plt.figure(figsize=(10, 6))\n",
    "\n",
    "sns.lineplot(\n",
    "    data=lineplot_data,\n",
    "    x='year',\n",
    "    y='historical_to_date__market_value',\n",
    "    hue='name',\n",
    "    marker=\"o\",\n",
    "    palette=\"tab10\"\n",
    ")\n",
    "\n",
    "plt.title(\"Vergleich der Marktwertentwicklung mehrerer Spieler\", fontsize=16, weight='bold')\n",
    "plt.xlabel(\"Jahr\", fontsize=14)\n",
    "plt.ylabel(\"Marktwert (in €)\", fontsize=14)\n",
    "plt.legend(title=\"Spieler\", fontsize=12, title_fontsize=14)\n",
    "plt.grid(axis='y', linestyle='--', alpha=0.7)\n",
    "plt.tight_layout()\n",
    "\n",
    "plt.show()\n"
   ]
  },
  {
   "cell_type": "markdown",
   "metadata": {},
   "source": [
    "Das Diagramm zeigt die Marktwertentwicklung dreier Spieler – Kylian Mbappé, Erling Haaland und Vinícius Júnior – über die Jahre. Alle Spieler zeigen ein konstantes Wachstum ihres Marktwerts, was ihre steigende Leistung und Attraktivität auf dem Transfermarkt widerspiegelt. Besonders Kylian Mbappé sticht hervor: Ab 2017 steigt sein Marktwert rapide an und stabilisiert sich bei ca. 200 Millionen Euro, was seine Stellung als einer der teuersten Spieler der Welt unterstreicht. Im Gegensatz dazu zeigt Erling Haaland erst ab 2019 einen signifikanten Anstieg seines Marktwerts, der mit seinem internationalen Durchbruch korreliert. Vinícius Júnior weist eine stetige, aber weniger drastische Entwicklung auf, was auf eine kontinuierliche Leistungssteigerung hindeutet. Insgesamt spiegelt das Diagramm unterschiedliche Karriereverläufe wider, wobei bei Mbappé eine Stabilisierung und bei Haaland ein starkes Wachstum erkennbar ist."
   ]
  },
  {
   "cell_type": "code",
   "execution_count": null,
   "metadata": {},
   "outputs": [],
   "source": [
    "fig = px.scatter(\n",
    "    lineplot_data,\n",
    "    x='year',\n",
    "    y='historical_to_date__market_value',\n",
    "    color='name',\n",
    "    size='goals_per_game',  # Punktgröße basiert auf Toren pro Spiel\n",
    "    hover_data={\n",
    "        'name': True,\n",
    "        'goals_per_game': True,\n",
    "        'assists_per_game': True,\n",
    "        'height_in_cm': True,\n",
    "        'year': True,\n",
    "        'age': True,\n",
    "    },\n",
    "    title=\"Vergleich der Marktwertentwicklung mit Toren\",\n",
    "    labels={\n",
    "        'name': \"Name\",\n",
    "        'year': 'Jahr',\n",
    "        'historical_to_date__market_value': 'Marktwert (in €)',\n",
    "        'goals_per_game': 'Tore pro Spiel',\n",
    "        'assists_per_game':'Assist pro Spiel',\n",
    "        'age': \"Alter\",\n",
    "        'height_in_cm': \"Größe in cm\"\n",
    "    }\n",
    ")\n",
    "\n",
    "fig.update_traces(mode='lines+markers')  # Linien und Marker\n",
    "fig.update_layout(\n",
    "    legend_title=\"Spieler\",\n",
    "    hovermode=\"x unified\",\n",
    ")\n",
    "\n",
    "#fig.show()\n",
    "plot_title = fig.layout.title.text\n",
    "safe_title = re.sub(r'[^\\w\\s-]', '', plot_title).replace(' ', '_')\n",
    "fig.write_html(f\"../references/plotly/{safe_title}.html\")\n"
   ]
  },
  {
   "cell_type": "code",
   "execution_count": null,
   "metadata": {},
   "outputs": [],
   "source": [
    "import matplotlib.pyplot as plt\n",
    "import seaborn as sns\n",
    "\n",
    "plt.figure(figsize=(10, 6))\n",
    "\n",
    "lineplot_data_players = lineplot_data['name'].unique()\n",
    "colors = sns.color_palette(\"tab10\", len(lineplot_data_players))\n",
    "\n",
    "for i, player in enumerate(lineplot_data_players):\n",
    "    player_data = lineplot_data[lineplot_data['name'] == player]\n",
    "    plt.scatter(\n",
    "        player_data['year'], \n",
    "        player_data['historical_to_date__market_value'], \n",
    "        s=player_data['goals_per_game'] * 100,  # Punktgröße basierend auf Toren pro Spiel\n",
    "        color=colors[i], \n",
    "        label=player,\n",
    "        alpha=0.7\n",
    "    )\n",
    "    plt.plot(\n",
    "        player_data['year'], \n",
    "        player_data['historical_to_date__market_value'], \n",
    "        color=colors[i], \n",
    "        alpha=0.7\n",
    "    )\n",
    "\n",
    "plt.title(\"Vergleich der Marktwertentwicklung mit Toren\", weight='bold')\n",
    "plt.xlabel(\"Jahr\")\n",
    "plt.ylabel(\"Marktwert (in €)\")\n",
    "plt.legend(title=\"Spieler\", loc=\"upper left\", fontsize=\"small\")\n",
    "plt.grid(visible=True, linestyle=\"--\", alpha=0.6)\n",
    "plt.tight_layout()\n",
    "plt.show()\n"
   ]
  },
  {
   "cell_type": "markdown",
   "metadata": {},
   "source": [
    "Diese Diagramm erweitert die Analyse, indem es den Marktwert mit der Anzahl der Tore pro Spiel (dargestellt durch die Kreisgrößen) verknüpft. Hier zeigt sich ein klarer Zusammenhang: Spieler mit höheren Torzahlen, wie Erling Haaland ab 2020, tendieren zu einem stark ansteigenden Marktwert. Kylian Mbappé hingegen bleibt unabhängig von seiner Torleistung auf konstant hohem Marktwert, was zeigt, dass sein Status als Starspieler und sein Werbewert eine zentrale Rolle spielen. Vinícius Júnior hat kleinere Kreise (weniger Tore pro Spiel), bleibt aber dennoch stabil im Marktwert. Besonders auffällig ist die Entwicklung Haalands: Seine Leistungssteigerung in Form vieler Tore führt zu einer entsprechenden Steigerung seines Marktwerts. Dieses Diagramm unterstreicht, wie sportliche Leistungen, insbesondere Tore, bei aufstrebenden Spielern den Marktwert beeinflussen, während bei etablierten Stars wie Mbappé andere Faktoren dominieren."
   ]
  },
  {
   "cell_type": "markdown",
   "metadata": {},
   "source": [
    "##### Analyse nach Postition"
   ]
  },
  {
   "cell_type": "code",
   "execution_count": null,
   "metadata": {},
   "outputs": [],
   "source": [
    "avg_value = combined_data_agg.groupby(\"position\")[\"current_market_value\"].mean().reset_index()\n",
    "avg_value = avg_value.sort_values(\"current_market_value\", ascending=False)\n",
    "fig = px.bar(avg_value, x=\"position\", y=\"current_market_value\",\n",
    "             title=\"Durchschnittlicher Marktwert pro Position\",\n",
    "             labels={'position': 'Position', 'current_market_value': 'Marktwert (€)'},\n",
    "             color=\"current_market_value\",  \n",
    "             color_continuous_scale=\"magma\" )\n",
    "fig.update_coloraxes(colorbar_title=\"Marktwert (€)\")\n",
    "#fig.show()\n",
    "plot_title = fig.layout.title.text\n",
    "safe_title = re.sub(r'[^\\w\\s-]', '', plot_title).replace(' ', '_')\n",
    "fig.write_html(f\"../references/plotly/{safe_title}.html\")\n"
   ]
  },
  {
   "cell_type": "code",
   "execution_count": null,
   "metadata": {},
   "outputs": [],
   "source": [
    "avg_value = combined_data_agg.groupby(\"position\")[\"current_market_value\"].mean().reset_index()\n",
    "avg_value = avg_value.sort_values(\"current_market_value\", ascending=False)\n",
    "\n",
    "plt.figure(figsize=(10, 6))\n",
    "sns.barplot(\n",
    "    data=avg_value,\n",
    "    x=\"position\",\n",
    "    y=\"current_market_value\",\n",
    "    palette=\"magma\"\n",
    ")\n",
    "\n",
    "plt.title(\"Durchschnittlicher Marktwert pro Position\", weight='bold')\n",
    "plt.xlabel(\"Position\")\n",
    "plt.ylabel(\"Marktwert (€)\")\n",
    "plt.xticks(rotation=45, ha=\"right\")\n",
    "plt.colorbar = plt.colorbar\n",
    "plt.tight_layout()\n",
    "plt.show()"
   ]
  },
  {
   "cell_type": "code",
   "execution_count": null,
   "metadata": {},
   "outputs": [],
   "source": [
    "fig = px.scatter(\n",
    "    combined_data_agg, \n",
    "    x='age', \n",
    "    y='current_market_value', \n",
    "    color=\"position\",\n",
    "    title=\"Scatterplot: Marktwert vs. Alter\",\n",
    "    labels={'age': 'Alter (in Jahren)', 'current_market_value': 'Marktwert (€)'}, \n",
    "    hover_data=[\"name\", \"age\"] \n",
    ")\n",
    "\n",
    "#fig.show()\n",
    "plot_title = fig.layout.title.text\n",
    "safe_title = re.sub(r'[^\\w\\s-]', '', plot_title).replace(' ', '_')\n",
    "fig.write_html(f\"../references/plotly/{safe_title}.html\")"
   ]
  },
  {
   "cell_type": "code",
   "execution_count": null,
   "metadata": {},
   "outputs": [],
   "source": [
    "plt.figure(figsize=(10, 6))\n",
    "\n",
    "# Erstelle den Scatterplot\n",
    "sns.scatterplot(data=combined_data_agg, \n",
    "                x='age', \n",
    "                y='current_market_value', \n",
    "                hue=\"position\",  \n",
    "                palette='viridis') \n",
    "\n",
    "# Setze Achsentitel und Diagrammtitel\n",
    "plt.xlabel('Alter (in Jahren)')\n",
    "plt.ylabel('Aktueller Marktwert (€)')\n",
    "plt.title('Scatterplot: Aktueller Marktwert vs. Alter')\n",
    "plt.tight_layout()\n",
    "plt.show()"
   ]
  },
  {
   "cell_type": "code",
   "execution_count": null,
   "metadata": {},
   "outputs": [],
   "source": [
    "fig = px.scatter(combined_data_agg, x=\"height_in_cm\", y=\"current_market_value\", color=\"position\",\n",
    "                 hover_data=[\"name\"], \n",
    "                 labels={'height_in_cm': 'Größe (in cm)', 'current_market_value': 'Marktwert (€)', 'name': \"Name\", \"position\": \"Position\"},\n",
    "                 title=\"Alter vs. Marktwert nach Position\")\n",
    "\n",
    "#fig.show()\n",
    "plot_title = fig.layout.title.text\n",
    "safe_title = re.sub(r'[^\\w\\s-]', '', plot_title).replace(' ', '_')\n",
    "fig.write_html(f\"../references/plotly/{safe_title}.html\")\n"
   ]
  },
  {
   "cell_type": "code",
   "execution_count": null,
   "metadata": {},
   "outputs": [],
   "source": [
    "plt.figure(figsize=(10, 6))\n",
    "\n",
    "scatter_plot = sns.scatterplot(\n",
    "    data=combined_data_agg,\n",
    "    x=\"height_in_cm\",\n",
    "    y=\"current_market_value\",\n",
    "    hue=\"position\",\n",
    "    palette=\"tab10\",\n",
    "    s=100,\n",
    "    alpha=0.8\n",
    ")\n",
    "\n",
    "plt.title(\"Größe vs. Marktwert nach Position\", weight='bold')\n",
    "plt.xlabel(\"Größe (in cm)\")\n",
    "plt.ylabel(\"Marktwert (€)\")\n",
    "plt.legend(title=\"Position\", bbox_to_anchor=(1.05, 1), loc='upper left')\n",
    "plt.tight_layout()\n",
    "plt.show()"
   ]
  },
  {
   "cell_type": "code",
   "execution_count": null,
   "metadata": {},
   "outputs": [],
   "source": [
    "fig = px.scatter(combined_data_agg, x=\"total_goals\", y=\"current_market_value\", color=\"position\",\n",
    "                 hover_data=[\"name\"], \n",
    "                 labels={'total_goals': 'Gesamt Tore', 'current_market_value': 'Marktwert (€)', 'name': \"Name\", \"position\": \"Position\"},\n",
    "                 title=\"Gesamt Tore vs. Marktwert nach Position\")\n",
    "#fig.show()\n",
    "plot_title = fig.layout.title.text\n",
    "safe_title = re.sub(r'[^\\w\\s-]', '', plot_title).replace(' ', '_')\n",
    "fig.write_html(f\"../references/plotly/{safe_title}.html\")"
   ]
  },
  {
   "cell_type": "code",
   "execution_count": null,
   "metadata": {},
   "outputs": [],
   "source": [
    "plt.figure(figsize=(10, 6))\n",
    "\n",
    "scatter_plot = sns.scatterplot(\n",
    "    data=combined_data_agg,\n",
    "    x=\"total_goals\",\n",
    "    y=\"current_market_value\",\n",
    "    hue=\"position\",\n",
    "    palette=\"tab10\",\n",
    "    s=100,\n",
    "    alpha=0.8\n",
    ")\n",
    "\n",
    "plt.title(\"Gesamt Tore vs. Marktwert nach Position\", weight='bold')\n",
    "plt.xlabel(\"Gesamt Tore\")\n",
    "plt.ylabel(\"Marktwert (€)\")\n",
    "plt.legend(title=\"Position\", bbox_to_anchor=(1.05, 1), loc='upper left')\n",
    "plt.tight_layout()\n",
    "plt.show()"
   ]
  },
  {
   "cell_type": "code",
   "execution_count": null,
   "metadata": {},
   "outputs": [],
   "source": [
    "fig = px.scatter(combined_data_agg, x=\"total_goals\", y=\"current_market_value\", \n",
    "                 size=\"total_assists\", color=\"position\", hover_name=\"name\",\n",
    "                 labels={'total_goals': 'Gesamt Tore',\"total_assists\":\"Gesamt Assists\", 'current_market_value': 'Marktwert (€)', 'name': \"Name\", \"position\": \"Position\"},\n",
    "                 title=\"Marktwert vs. Tore (Größe: Assists)\")\n",
    "#fig.show()\n",
    "plot_title = fig.layout.title.text\n",
    "safe_title = re.sub(r'[^\\w\\s-]', '', plot_title).replace(' ', '_')\n",
    "fig.write_html(f\"../references/plotly/{safe_title}.html\")\n"
   ]
  },
  {
   "cell_type": "code",
   "execution_count": null,
   "metadata": {},
   "outputs": [],
   "source": [
    "plt.figure(figsize=(12, 8))\n",
    "\n",
    "scatter_plot = sns.scatterplot(\n",
    "    data=combined_data_agg,\n",
    "    x=\"total_goals\",\n",
    "    y=\"current_market_value\",\n",
    "    size=\"total_assists\",\n",
    "    hue=\"position\",\n",
    "    sizes=(50, 300),\n",
    "    palette=\"tab10\",\n",
    "    alpha=0.8\n",
    ")\n",
    "\n",
    "plt.title(\"Marktwert vs. Tore (Größe: Assists)\")\n",
    "plt.xlabel(\"Gesamt Tore\")\n",
    "plt.ylabel(\"Marktwert (€)\")\n",
    "plt.legend(title=\"Position\", bbox_to_anchor=(1.05, 1), loc='upper left')\n",
    "plt.tight_layout()\n",
    "plt.show()"
   ]
  },
  {
   "cell_type": "code",
   "execution_count": null,
   "metadata": {},
   "outputs": [],
   "source": [
    "\n",
    "fig_data = combined_data_hist.groupby(['year', 'position'])['historical_to_date__market_value'].mean().reset_index()\n",
    "\n",
    "\n",
    "fig = px.line(fig_data, x='year', y='historical_to_date__market_value', color='position',\n",
    "              title='Entwicklung des durchschnittlichen Marktwerts nach Position',\n",
    "              labels={'year': 'Datum', \n",
    "                      'historical_to_date__market_value': 'Durchschnittlicher Marktwert',\n",
    "                      'position': 'Position'})\n",
    "\n",
    "\n",
    "fig.update_layout(legend_title_text='Position')\n",
    "fig.update_xaxes(title_text='Datum')\n",
    "fig.update_yaxes(title_text='Durchschnittlicher Marktwert (€)')\n",
    "fig.update_layout(\n",
    "    hovermode=\"x unified\"\n",
    ")\n",
    "\n",
    "#fig.show()\n",
    "plot_title = fig.layout.title.text\n",
    "safe_title = re.sub(r'[^\\w\\s-]', '', plot_title).replace(' ', '_')\n",
    "fig.write_html(f\"../references/plotly/{safe_title}.html\")"
   ]
  },
  {
   "cell_type": "code",
   "execution_count": null,
   "metadata": {},
   "outputs": [],
   "source": [
    "fig_data = combined_data_hist.groupby(['year', 'position'])['historical_to_date__market_value'].mean().reset_index()\n",
    "\n",
    "plt.figure(figsize=(14, 8))\n",
    "\n",
    "sns.lineplot(\n",
    "    data=fig_data,\n",
    "    x='year',\n",
    "    y='historical_to_date__market_value',\n",
    "    hue='position',\n",
    "    palette='tab10',\n",
    "    marker=\"o\"\n",
    ")\n",
    "\n",
    "plt.title('Entwicklung des durchschnittlichen Marktwerts nach Position', fontsize=16)\n",
    "plt.xlabel('Datum', fontsize=14)\n",
    "plt.ylabel('Durchschnittlicher Marktwert (€)', fontsize=14)\n",
    "plt.legend(title='Position', bbox_to_anchor=(1.05, 1), loc='upper left', fontsize=12)\n",
    "plt.grid(visible=True, which='both', linestyle='--', linewidth=0.5)\n",
    "plt.tight_layout()\n",
    "plt.show()"
   ]
  },
  {
   "cell_type": "code",
   "execution_count": null,
   "metadata": {},
   "outputs": [],
   "source": [
    "goalkeepers = combined_data_hist[combined_data_hist['position'] == 'Goalkeeper']\n",
    "\n",
    "fig = px.scatter(goalkeepers, \n",
    "                 x='height_in_cm', \n",
    "                 y='current_market_value',\n",
    "                 hover_data=['name', 'age'],\n",
    "                 labels={'current_market_value': 'Marktwert (€)', \"age\":\"Alter\", 'name': \"Name\", \"position\": \"Position\", 'height_in_cm': 'Größe (in cm)'},\n",
    "                 title='Torwart: Größe vs. Marktwert')\n",
    "\n",
    "fig.update_layout(\n",
    "    xaxis_title='Größe (cm)',\n",
    "    yaxis_title='Marktwert (€)'\n",
    ")\n",
    "\n",
    "#fig.show()\n",
    "plot_title = fig.layout.title.text\n",
    "safe_title = re.sub(r'[^\\w\\s-]', '', plot_title).replace(' ', '_')\n",
    "fig.write_html(f\"../references/plotly/{safe_title}.html\")"
   ]
  },
  {
   "cell_type": "code",
   "execution_count": null,
   "metadata": {},
   "outputs": [],
   "source": [
    "goalkeepers = combined_data_hist[combined_data_hist['position'] == 'Goalkeeper']\n",
    "\n",
    "plt.figure(figsize=(12, 6))\n",
    "sns.scatterplot(data=goalkeepers, \n",
    "                x='height_in_cm', \n",
    "                y='current_market_value', \n",
    "                #hue='age', \n",
    "                #style='age', \n",
    "                palette='viridis', \n",
    "                legend=None)\n",
    "\n",
    "plt.xlabel('Größe (in cm)')\n",
    "plt.ylabel('Marktwert (€)')\n",
    "plt.title('Torwart: Größe vs. Marktwert')\n",
    "\n",
    "plt.show()"
   ]
  },
  {
   "cell_type": "code",
   "execution_count": null,
   "metadata": {},
   "outputs": [],
   "source": [
    "defenders = combined_data_hist[combined_data_hist['sub_position'].isin(['Centre-Back', 'Left-Back', 'Right-Back'])]\n",
    "\n",
    "fig = px.scatter(defenders, \n",
    "                 x='height_in_cm', \n",
    "                 y='current_market_value',\n",
    "                 color='sub_position',\n",
    "                 hover_data=['name', 'age', 'yellow_cards_per_game'],\n",
    "                 labels={'current_market_value': 'Marktwert (€)',\"yellow_cards_per_game\":\"Gelbe Karten Pro Spiel\", \"sub_position\":\"Sub-Position\", \"age\":\"Alter\", 'name': \"Name\", \"position\": \"Position\", 'height_in_cm': 'Größe (in cm)'},\n",
    "                 title='Verteidiger: Größe vs. Marktwert')\n",
    "\n",
    "fig.update_layout(\n",
    "    xaxis_title='Größe (cm)',\n",
    "    yaxis_title='Marktwert (€)',\n",
    "    legend_title='Position'\n",
    ")\n",
    "#fig.show()\n",
    "plot_title = fig.layout.title.text\n",
    "safe_title = re.sub(r'[^\\w\\s-]', '', plot_title).replace(' ', '_')\n",
    "fig.write_html(f\"../references/plotly/{safe_title}.html\")"
   ]
  },
  {
   "cell_type": "code",
   "execution_count": null,
   "metadata": {},
   "outputs": [],
   "source": [
    "defenders = combined_data_hist[combined_data_hist['sub_position'].isin(['Centre-Back', 'Left-Back', 'Right-Back'])]\n",
    "\n",
    "plt.figure(figsize=(12, 6))\n",
    "sns.scatterplot(data=defenders, \n",
    "                x='height_in_cm', \n",
    "                y='current_market_value', \n",
    "                hue='sub_position', \n",
    "                palette='deep', \n",
    "                style='sub_position', \n",
    "                size='yellow_cards_per_game', \n",
    "                sizes=(20, 200))\n",
    "\n",
    "plt.xlabel('Größe (in cm)')\n",
    "plt.ylabel('Marktwert (€)')\n",
    "plt.title('Verteidiger: Größe vs. Marktwert')\n",
    "plt.legend(title='Sub-Position')\n",
    "\n",
    "plt.show()"
   ]
  },
  {
   "cell_type": "code",
   "execution_count": null,
   "metadata": {},
   "outputs": [],
   "source": [
    "midfielders = combined_data_agg[combined_data_agg['sub_position'].isin(['Defensive Midfield', 'Central Midfield', 'Attacking Midfield'])]\n",
    "\n",
    "fig = px.scatter(midfielders, \n",
    "                 x='total_assists', \n",
    "                 y='current_market_value',\n",
    "                 color='sub_position',\n",
    "                 hover_data=['name', 'age', 'total_goals'],\n",
    "                 labels={'current_market_value': 'Marktwert (€)',\"total_goals\":\"Gesamte Tore\", \"sub_position\":\"Sub-Position\", \"age\":\"Alter\", 'name': \"Name\", \"total_assists\": \"Gesamte Assists\", 'height_in_cm': 'Größe (in cm)'},\n",
    "                 title='Mittelfeldspieler: Vorlagen pro Spiel vs. Marktwert')\n",
    "\n",
    "fig.update_layout(\n",
    "    xaxis_title='Vorlagen pro Spiel',\n",
    "    yaxis_title='Marktwert (€)',\n",
    "    legend_title='Position'\n",
    ")\n",
    "\n",
    "#fig.show()\n",
    "plot_title = fig.layout.title.text\n",
    "safe_title = re.sub(r'[^\\w\\s-]', '', plot_title).replace(' ', '_')\n",
    "fig.write_html(f\"../references/plotly/{safe_title}.html\")"
   ]
  },
  {
   "cell_type": "code",
   "execution_count": null,
   "metadata": {},
   "outputs": [],
   "source": [
    "midfielders = combined_data_agg[combined_data_agg['sub_position'].isin(['Defensive Midfield', 'Central Midfield', 'Attacking Midfield'])]\n",
    "\n",
    "plt.figure(figsize=(12, 6))\n",
    "sns.scatterplot(data=midfielders, \n",
    "                x='total_assists', \n",
    "                y='current_market_value', \n",
    "                hue='sub_position', \n",
    "                palette='muted', \n",
    "                style='sub_position', \n",
    "                size='total_goals', \n",
    "                sizes=(20, 200))\n",
    "\n",
    "plt.xlabel('Gesamte Assists')\n",
    "plt.ylabel('Marktwert (€)')\n",
    "plt.title('Mittelfeldspieler: Vorlagen vs. Marktwert')\n",
    "plt.legend(title='Sub-Position')\n",
    "\n",
    "plt.show()"
   ]
  },
  {
   "cell_type": "code",
   "execution_count": null,
   "metadata": {},
   "outputs": [],
   "source": [
    "forwards = combined_data_agg[combined_data_agg['sub_position'].isin(['Centre-Forward', 'Second Striker', 'Left Winger', 'Right Winger'])]\n",
    "\n",
    "fig = px.scatter(forwards, \n",
    "                 x='total_goals', \n",
    "                 y='current_market_value',\n",
    "                 color='sub_position',\n",
    "                 hover_data=['name', 'age', 'total_assists'],\n",
    "                 labels={'current_market_value': 'Marktwert (€)',\"total_goals\":\"Gesamte Tore\", \"sub_position\":\"Sub-Position\", \"age\":\"Alter\", 'name': \"Name\", \"total_assists\": \"Gesamte Assists\", 'height_in_cm': 'Größe (in cm)'},\n",
    "                 title='Stürmer: Tore pro Spiel vs. Marktwert')\n",
    "\n",
    "fig.update_layout(\n",
    "    xaxis_title='Tore pro Spiel',\n",
    "    yaxis_title='Marktwert (€)',\n",
    "    legend_title='Position'\n",
    ")\n",
    "\n",
    "#fig.show()\n",
    "plot_title = fig.layout.title.text\n",
    "safe_title = re.sub(r'[^\\w\\s-]', '', plot_title).replace(' ', '_')\n",
    "fig.write_html(f\"../references/plotly/{safe_title}.html\")"
   ]
  },
  {
   "cell_type": "code",
   "execution_count": null,
   "metadata": {},
   "outputs": [],
   "source": [
    "forwards = combined_data_agg[combined_data_agg['sub_position'].isin(['Centre-Forward', 'Second Striker', 'Left Winger', 'Right Winger'])]\n",
    "\n",
    "plt.figure(figsize=(12, 6))\n",
    "sns.scatterplot(data=forwards, \n",
    "                x='total_goals', \n",
    "                y='current_market_value', \n",
    "                hue='sub_position', \n",
    "                palette='coolwarm', \n",
    "                style='sub_position', \n",
    "                size='total_assists', \n",
    "                sizes=(20, 200))\n",
    "\n",
    "plt.xlabel('Gesamte Tore')\n",
    "plt.ylabel('Marktwert (€)')\n",
    "plt.title('Stürmer: Tore vs. Marktwert')\n",
    "plt.legend(title='Sub-Position')\n",
    "\n",
    "plt.show()"
   ]
  },
  {
   "cell_type": "code",
   "execution_count": null,
   "metadata": {},
   "outputs": [],
   "source": [
    "fig = px.box(combined_data_agg, x=\"foot\", y=\"current_market_value\", color=\"position\",\n",
    "             title=\"Marktwert nach bevorzugtem Fuß und Position\",\n",
    "             labels={'current_market_value': 'Marktwert (€)',\"foot\":\"Fuß\", \"position\":\"Position\"})\n",
    "\n",
    "fig.update_layout(\n",
    "    xaxis_title=\"Bevorzugter Fuß\",\n",
    "    yaxis_title=\"Marktwert (€)\",\n",
    "    legend_title=\"Position\"\n",
    ")\n",
    "#fig.show()\n",
    "plot_title = fig.layout.title.text\n",
    "safe_title = re.sub(r'[^\\w\\s-]', '', plot_title).replace(' ', '_')\n",
    "fig.write_html(f\"../references/plotly/{safe_title}.html\")"
   ]
  },
  {
   "cell_type": "code",
   "execution_count": null,
   "metadata": {},
   "outputs": [],
   "source": [
    "plt.figure(figsize=(12, 6))\n",
    "sns.boxplot(data=combined_data_agg, \n",
    "            x='foot', \n",
    "            y='current_market_value', \n",
    "            hue='position', \n",
    "            palette='Set1') \n",
    "\n",
    "plt.xlabel('Bevorzugter Fuß')\n",
    "plt.ylabel('Marktwert (€)')\n",
    "plt.title('Marktwert nach bevorzugtem Fuß und Position')\n",
    "plt.legend(title='Position')\n",
    "\n",
    "plt.show()"
   ]
  },
  {
   "cell_type": "code",
   "execution_count": null,
   "metadata": {},
   "outputs": [],
   "source": [
    "fig = px.box(combined_data_agg_no_outliers, x=\"foot\", y=\"current_market_value\", color=\"position\",\n",
    "             title=\"Marktwert nach bevorzugtem Fuß und Position\",\n",
    "             labels={'current_market_value': 'Marktwert (€)',\"foot\":\"Fuß\", \"position\":\"Position\"})\n",
    "\n",
    "fig.update_layout(\n",
    "    xaxis_title=\"Bevorzugter Fuß\",\n",
    "    yaxis_title=\"Marktwert (€)\",\n",
    "    legend_title=\"Position\"\n",
    ")\n",
    "\n",
    "#fig.show()\n",
    "plot_title = fig.layout.title.text\n",
    "safe_title = re.sub(r'[^\\w\\s-]', '', plot_title).replace(' ', '_')\n",
    "fig.write_html(f\"../references/plotly/{safe_title}.html\")"
   ]
  },
  {
   "cell_type": "code",
   "execution_count": null,
   "metadata": {},
   "outputs": [],
   "source": [
    "plt.figure(figsize=(12, 6))\n",
    "sns.boxplot(data=combined_data_agg_no_outliers, \n",
    "            x='foot', \n",
    "            y='current_market_value', \n",
    "            hue='position', \n",
    "            palette='Set1')  # Verwendung einer lebendigen Farbpalette\n",
    "\n",
    "plt.xlabel('Bevorzugter Fuß')\n",
    "plt.ylabel('Marktwert (€)')\n",
    "plt.title('Marktwert nach bevorzugtem Fuß und Position')\n",
    "plt.legend(title='Position')\n",
    "\n",
    "plt.show()"
   ]
  },
  {
   "cell_type": "code",
   "execution_count": 212,
   "metadata": {},
   "outputs": [],
   "source": [
    "\n",
    "top_5_leagues = ['GB1', 'ES1', 'FR1', 'IT1', 'L1']\n",
    "\n",
    "\n",
    "combined_data_agg_top_league = combined_data_agg[(combined_data_agg[\"is_retired\"] == False) & (combined_data_agg[\"league_id\"].isin(top_5_leagues))]\n",
    "\n",
    "fig = px.box(combined_data_agg_top_league, x=\"foot\", y=\"current_market_value\", color=\"position\",\n",
    "             facet_col=\"league_id\",\n",
    "             title=\"Marktwert nach bevorzugtem Fuß, Position und Liga\",\n",
    "             labels={'current_market_value': 'Marktwert (€)',\"foot\":\"Fuß\", \"position\":\"Position\", \"league_id\":\"Liga\"})\n",
    "\n",
    "fig.update_layout(\n",
    "    xaxis_title=\"Fuß\",\n",
    "    yaxis_title=\"Marktwert (€)\",\n",
    "    legend_title=\"Position\"\n",
    ")\n",
    "\n",
    "fig.for_each_annotation(lambda a: a.update(text=a.text.split(\"=\")[-1]))\n",
    "\n",
    "#fig.show()\n",
    "plot_title = fig.layout.title.text\n",
    "safe_title = re.sub(r'[^\\w\\s-]', '', plot_title).replace(' ', '_')\n",
    "fig.write_html(f\"../references/plotly/{safe_title}.html\")"
   ]
  },
  {
   "cell_type": "code",
   "execution_count": null,
   "metadata": {},
   "outputs": [],
   "source": [
    "top_5_leagues = ['GB1', 'ES1', 'FR1', 'IT1', 'L1']\n",
    "combined_data_agg_top_league = combined_data_agg[(combined_data_agg[\"is_retired\"] == False) & \n",
    "                                                 (combined_data_agg[\"league_id\"].isin(top_5_leagues))]\n",
    "\n",
    "# Setze die Größe des Plots\n",
    "fig, axes = plt.subplots(1, len(top_5_leagues), figsize=(20, 6))\n",
    "\n",
    "# Erstelle für jede Liga einen Boxplot\n",
    "for i, league in enumerate(top_5_leagues):\n",
    "    ax = axes[i]\n",
    "    sns.boxplot(data=combined_data_agg_top_league[combined_data_agg_top_league['league_id'] == league], \n",
    "                x='foot', \n",
    "                y='current_market_value', \n",
    "                hue='position', \n",
    "                palette='Set1', \n",
    "                ax=ax)\n",
    "    ax.set_title(f\"Liga: {league}\")\n",
    "    ax.set_xlabel('Bevorzugter Fuß')\n",
    "    ax.set_ylabel('Marktwert (€)')\n",
    "\n",
    "# Titel und Layout anpassen\n",
    "plt.tight_layout()\n",
    "plt.legend(title='Position', bbox_to_anchor=(1.05, 1), loc='upper left')\n",
    "\n",
    "plt.show()"
   ]
  },
  {
   "cell_type": "code",
   "execution_count": null,
   "metadata": {},
   "outputs": [],
   "source": [
    "\n",
    "\n",
    "top_5_leagues = ['GB1', 'ES1', 'FR1', 'IT1', 'L1']\n",
    "\n",
    "\n",
    "#combined_data_agg_top_league = combined_data_agg[(combined_data_agg[\"is_retired\"] == False) & (combined_data_agg[\"league_id\"].isin(top_5_leagues))]\n",
    "\n",
    "\n",
    "top_countries = combined_data_agg_top_league.groupby(\"country_of_citizenship\").agg({\n",
    "    \"current_market_value\": \"mean\",\n",
    "    \"player_id\": \"count\"\n",
    "}).reset_index()\n",
    "\n",
    "min_players = 50\n",
    "top_countries_filtered = top_countries[top_countries[\"player_id\"] >= min_players]\n",
    "\n",
    "top_10_countries = top_countries_filtered.sort_values(\"current_market_value\", ascending=False).head(10)\n",
    "\n",
    "fig = px.bar(top_10_countries, \n",
    "             x=\"country_of_citizenship\", \n",
    "             y=\"current_market_value\",\n",
    "             color=\"player_id\",  # Farbkodierung basierend auf der Anzahl der Spieler\n",
    "             text=\"player_id\",\n",
    "             labels={'current_market_value': 'Marktwert (€)',\"foot\":\"Fuß\", \"country_of_citizenship\":\"Staatsbügerschaft\", \"league_id\":\"Liga\"},\n",
    "             title=f\"Top 10 Länder nach durchschnittlichem Marktwert (nur aktive Spieler in Top 5 Ligen, mind. {min_players} Spieler)\")\n",
    "\n",
    "fig.update_layout(\n",
    "    xaxis_title=\"Land der Staatsbürgerschaft\",\n",
    "    yaxis_title=\"Durchschnittlicher Marktwert (€)\",\n",
    "    xaxis_tickangle=-45,\n",
    "    coloraxis_colorbar_title=\"Anzahl der Spieler\"\n",
    ")\n",
    "\n",
    "\n",
    "fig.update_traces(texttemplate='%{text} Spieler', textposition='outside')\n",
    "\n",
    "#fig.show()\n",
    "plot_title = fig.layout.title.text\n",
    "safe_title = re.sub(r'[^\\w\\s-]', '', plot_title).replace(' ', '_')\n",
    "fig.write_html(f\"../references/plotly/{safe_title}.html\")\n",
    "\n"
   ]
  },
  {
   "cell_type": "code",
   "execution_count": null,
   "metadata": {},
   "outputs": [],
   "source": [
    "min_players = 50\n",
    "top_countries = combined_data_agg_top_league.groupby(\"country_of_citizenship\").agg({\n",
    "    \"current_market_value\": \"mean\",\n",
    "    \"player_id\": \"count\"\n",
    "}).reset_index()\n",
    "\n",
    "top_countries_filtered = top_countries[top_countries[\"player_id\"] >= min_players]\n",
    "\n",
    "top_10_countries = top_countries_filtered.sort_values(\"current_market_value\", ascending=False).head(10)\n",
    "\n",
    "# Setze die Größe des Plots\n",
    "plt.figure(figsize=(12, 6))\n",
    "\n",
    "# Erstelle das Balkendiagramm\n",
    "sns.barplot(data=top_10_countries, \n",
    "            x='country_of_citizenship', \n",
    "            y='current_market_value', \n",
    "            hue='player_id',  # Farbkodierung basierend auf der Anzahl der Spieler\n",
    "            palette='coolwarm')\n",
    "\n",
    "# Füge die Anzahl der Spieler als Textbeschriftung hinzu\n",
    "for i in range(len(top_10_countries)):\n",
    "    plt.text(i, top_10_countries['current_market_value'].iloc[i] + 1, \n",
    "             f\"{top_10_countries['player_id'].iloc[i]} Spieler\", \n",
    "             ha='center', va='bottom')\n",
    "\n",
    "# Setze Achsenbeschriftungen und Titel\n",
    "plt.xlabel('Land der Staatsbürgerschaft')\n",
    "plt.ylabel('Durchschnittlicher Marktwert (€)')\n",
    "plt.title(f\"Top 10 Länder nach durchschnittlichem Marktwert (mind. {min_players} Spieler)\")\n",
    "\n",
    "# Drehe die x-Achsenticks\n",
    "plt.xticks(rotation=-45)\n",
    "\n",
    "# Zeige den Plot an\n",
    "plt.legend(title='Anzahl der Spieler', loc='upper left')\n",
    "plt.tight_layout()\n",
    "plt.show()"
   ]
  },
  {
   "cell_type": "markdown",
   "metadata": {},
   "source": [
    "#### Relationships"
   ]
  },
  {
   "cell_type": "markdown",
   "metadata": {},
   "source": [
    "Frage welche Bedeutung hat Multikorrelation hier"
   ]
  },
  {
   "cell_type": "code",
   "execution_count": null,
   "metadata": {},
   "outputs": [],
   "source": [
    "correlation_matrix = numeric_combined_data_agg.corr()\n",
    "\n",
    "plt.figure(figsize=(18, 16)) \n",
    "sns.set_theme(style=\"white\", font_scale=1.1)\n",
    "\n",
    "sns.heatmap(\n",
    "    correlation_matrix, \n",
    "    annot=True, \n",
    "    fmt=\".2f\", \n",
    "    cmap=\"coolwarm\", \n",
    "    cbar_kws={'shrink': 0.8},  \n",
    "    linewidths=0.5, \n",
    "    square=True\n",
    ")\n",
    "\n",
    "plt.title(\"Korrelation der Merkmale\", fontsize=20, pad=30)\n",
    "plt.xticks(rotation=45, ha=\"right\")  \n",
    "plt.yticks(rotation=0)  \n",
    "plt.tight_layout()  \n",
    "plt.show()"
   ]
  },
  {
   "cell_type": "markdown",
   "metadata": {},
   "source": [
    "Die Korrelationsmatrix zeigt die linearen Zusammenhänge zwischen den verschiedenen numerischen Merkmalen des Datensatzes, die zur Vorhersage des Marktwertes von Fußballspielern verwendet werden. Werte nahe 1 oder -1 deuten auf starke positive bzw. negative Korrelationen hin, während Werte nahe 0 auf geringe oder keine Korrelation hinweisen. Beispielsweise zeigt die Variable \"highest_market_value_in_eur\" mit 0.72 eine starke positive Korrelation mit dem aktuellen Marktwert (\"current_market_value\"), was intuitiv Sinn ergibt, da der bisher höchste Marktwert eines Spielers ein guter Indikator für dessen aktuellen Marktwert ist. Variablen wie \"age\" und \"red_cards\" zeigen eher geringe oder negative Korrelationen, was darauf schließen lässt, dass diese Faktoren weniger stark mit dem Marktwert in Zusammenhang stehen."
   ]
  },
  {
   "cell_type": "code",
   "execution_count": null,
   "metadata": {},
   "outputs": [],
   "source": [
    "import statsmodels.api as sm\n",
    "from statsmodels.stats.outliers_influence import variance_inflation_factor\n",
    "\n",
    "# Features auswählen\n",
    "features = numeric_combined_data_agg\n",
    "\n",
    "# Entfernen von fehlenden Werten\n",
    "features = features.dropna()\n",
    "\n",
    "# Konstanten hinzufügen\n",
    "features_with_constant = sm.add_constant(features)\n",
    "\n",
    "# VIF berechnen\n",
    "vif_data = pd.DataFrame()\n",
    "vif_data['Variable'] = features_with_constant.columns\n",
    "vif_data['VIF'] = [variance_inflation_factor(features_with_constant.values, i) for i in range(features_with_constant.shape[1])]\n",
    "\n",
    "print(vif_data)\n"
   ]
  },
  {
   "cell_type": "code",
   "execution_count": null,
   "metadata": {},
   "outputs": [],
   "source": [
    "data_cleaned_agg = numeric_combined_data_agg\n",
    "\n",
    "data_cleaned_agg = data_cleaned_agg.drop(columns=[\n",
    "    #'transfer_fee',              \n",
    "    #'transfer_market_value',     \n",
    "    'highest_market_value_in_eur',          \n",
    "    'total_minutes_played',           \n",
    "    'total_matches'              \n",
    "])\n",
    "\n",
    "features = data_cleaned_agg.dropna()\n",
    "\n",
    "features_with_constant = sm.add_constant(features)\n",
    "\n",
    "vif_data = pd.DataFrame()\n",
    "vif_data['Variable'] = features_with_constant.columns\n",
    "vif_data['VIF'] = [variance_inflation_factor(features_with_constant.values, i) for i in range(features_with_constant.shape[1])]\n",
    "\n",
    "print(vif_data)"
   ]
  },
  {
   "cell_type": "markdown",
   "metadata": {},
   "source": [
    "Der Variance Inflation Factor (VIF) misst die Multikollinearität zwischen unabhängigen Variablen in einem Datensatz. Ein hoher VIF-Wert weist darauf hin, dass eine Variable stark mit anderen korreliert ist, was in Modellen wie der linearen Regression zu Verzerrungen führen kann. In diesem Schritt wurden die VIF-Werte für alle Variablen berechnet, problematische Variablen mit sehr hohen VIF-Werten identifiziert und entweder entfernt oder so transformiert, dass die Multikollinearität reduziert wurde. Ziel war es, ein Dataframe mit unabhängigen Prädiktoren zu erstellen."
   ]
  },
  {
   "cell_type": "code",
   "execution_count": null,
   "metadata": {},
   "outputs": [],
   "source": [
    "data_cleaned_agg"
   ]
  },
  {
   "cell_type": "markdown",
   "metadata": {},
   "source": [
    "##### Historisiert"
   ]
  },
  {
   "cell_type": "code",
   "execution_count": null,
   "metadata": {},
   "outputs": [],
   "source": [
    "numeric_combined_data_hist = combined_data_hist.select_dtypes(include=[\"number\"])\n",
    "correlation_matrix = numeric_combined_data_hist.corr()\n",
    "\n",
    "\n",
    "plt.figure(figsize=(18, 16)) \n",
    "sns.set_theme(style=\"white\", font_scale=1.1)\n",
    "\n",
    "\n",
    "sns.heatmap(\n",
    "    correlation_matrix, \n",
    "    annot=True, \n",
    "    fmt=\".2f\", \n",
    "    cmap=\"coolwarm\", \n",
    "    cbar_kws={'shrink': 0.8},  \n",
    "    linewidths=0.5, \n",
    "    square=True\n",
    ")\n",
    "\n",
    "\n",
    "plt.title(\"Korrelation der Merkmale\", fontsize=20, pad=30)\n",
    "plt.xticks(rotation=45, ha=\"right\")  \n",
    "plt.yticks(rotation=0)  \n",
    "plt.tight_layout()  \n",
    "plt.show()"
   ]
  },
  {
   "cell_type": "code",
   "execution_count": null,
   "metadata": {},
   "outputs": [],
   "source": [
    "import statsmodels.api as sm\n",
    "from statsmodels.stats.outliers_influence import variance_inflation_factor\n",
    "\n",
    "\n",
    "features = numeric_combined_data_hist\n",
    "features = features.dropna()\n",
    "\n",
    "features_with_constant = sm.add_constant(features)\n",
    "\n",
    "vif_data = pd.DataFrame()\n",
    "vif_data['Variable'] = features_with_constant.columns\n",
    "vif_data['VIF'] = [variance_inflation_factor(features_with_constant.values, i) for i in range(features_with_constant.shape[1])]\n",
    "\n",
    "print(vif_data)"
   ]
  },
  {
   "cell_type": "code",
   "execution_count": null,
   "metadata": {},
   "outputs": [],
   "source": [
    "data_cleaned_hist = numeric_combined_data_hist\n",
    "\n",
    "data_cleaned_hist = data_cleaned_hist.drop(columns=[\n",
    "    #'transfer_fee',              \n",
    "    'transfer_market_value',  \n",
    "    #'transfer_fee_gap',   \n",
    "    'highest_market_value_in_eur',\n",
    "    \"historical_to_date__market_value\"           \n",
    "])\n",
    "\n",
    "features = data_cleaned_hist.dropna()\n",
    "\n",
    "features_with_constant = sm.add_constant(features)\n",
    "\n",
    "vif_data_hist = pd.DataFrame()\n",
    "vif_data_hist['Variable'] = features_with_constant.columns\n",
    "vif_data_hist['VIF'] = [variance_inflation_factor(features_with_constant.values, i) for i in range(features_with_constant.shape[1])]\n",
    "\n",
    "print(vif_data_hist)"
   ]
  },
  {
   "cell_type": "markdown",
   "metadata": {},
   "source": [
    "\n",
    "## Methodology"
   ]
  },
  {
   "cell_type": "markdown",
   "metadata": {},
   "source": [
    "> REMOVE THE FOLLOWING TEXT\n",
    "\n",
    "This section includes a brief description of your modeling process.\n",
    "\n",
    "Explain the reasoning for the type of model you're fitting, predictor variables considered for the model.\n",
    "\n",
    "Additionally, show how you arrived at the final model by describing the model selection process, variable transformations (if needed), assessment of conditions and diagnostics, and any other relevant considerations that were part of the model fitting process."
   ]
  },
  {
   "cell_type": "markdown",
   "metadata": {},
   "source": [
    "Es wird unterschieden zwischen: \n",
    "<!--  -->\n",
    "**Aggregierte Daten**\n",
    "- Mit Außreiser\n",
    "- Ohne Außreiser\n",
    "- Spieler der europäischen Top 5 Ligen\n",
    "<!--  -->\n",
    "**Historische Daten**\n",
    "- Mit Außreiser\n",
    "- Ohne Außreiser\n",
    "- Spieler der europäischen Top 5 Ligen\n"
   ]
  },
  {
   "cell_type": "markdown",
   "metadata": {},
   "source": [
    "#### Variable lists"
   ]
  },
  {
   "cell_type": "markdown",
   "metadata": {},
   "source": [
    "Historisierte Daten für die Modellierung apassen. Für die aggregierten ist das bereits im Zuge der Analysen geschehen"
   ]
  },
  {
   "cell_type": "code",
   "execution_count": 144,
   "metadata": {},
   "outputs": [],
   "source": [
    "combined_data_hist_top_league = combined_data_hist[(combined_data_hist[\"is_retired\"] == False) & (combined_data_hist[\"league_id\"].isin(top_5_leagues))]"
   ]
  },
  {
   "cell_type": "code",
   "execution_count": 145,
   "metadata": {},
   "outputs": [],
   "source": [
    "q1 = combined_data_hist[\"current_market_value\"].quantile(0.25)\n",
    "q3 = combined_data_hist[\"current_market_value\"].quantile(0.75)\n",
    "iqr = q3 - q1\n",
    "lower_bound = q1 - 1.5 * iqr\n",
    "upper_bound = q3 + 1.5 * iqr\n",
    "\n",
    "# Filtern der Daten ohne Ausreißer\n",
    "combined_data_hist_no_outliers = combined_data_hist[\n",
    "    (combined_data_hist[\"current_market_value\"] >= lower_bound) & \n",
    "    (combined_data_hist[\"current_market_value\"] <= upper_bound)\n",
    "]"
   ]
  },
  {
   "cell_type": "code",
   "execution_count": 146,
   "metadata": {},
   "outputs": [],
   "source": [
    "# für historisiert combined_data_hist\n",
    "features_hist = [\n",
    "    \"historical_to_date__market_value\", \n",
    "    \"year\",\n",
    "    #\"last_season\", \n",
    "    \"height_in_cm\",\n",
    "    \"country_of_citizenship\",\n",
    "     \"foot\", \"position\", 'goals_per_game',\n",
    "       'assists_per_game', 'yellow_cards_per_game', 'red_cards_per_game',\n",
    "       'minutes_played_per_game','age',\n",
    "       'is_retired',\n",
    "       \"transfer_fee_gap\",\n",
    "       \"transfer_fee\"\n",
    "]\n",
    "\n",
    "target = \"current_market_value\""
   ]
  },
  {
   "cell_type": "code",
   "execution_count": 147,
   "metadata": {},
   "outputs": [],
   "source": [
    "# für aggregiert combined_data_agg\n",
    "features_agg = [ \n",
    "     \"height_in_cm\", \n",
    "     \"country_of_citizenship\", \n",
    "     \"foot\", \n",
    "     \"position\", \n",
    "     'total_goals',\n",
    "       'total_assists', 'total_yellow_cards', 'total_red_cards',\n",
    "       'total_minutes_played',\n",
    "       'age',\n",
    "       'is_retired'\n",
    "]\n",
    "\n",
    "target = \"current_market_value\""
   ]
  },
  {
   "cell_type": "markdown",
   "metadata": {},
   "source": [
    "### Modellierung"
   ]
  },
  {
   "cell_type": "code",
   "execution_count": 148,
   "metadata": {},
   "outputs": [],
   "source": [
    "def model_comparison(df, features, target):\n",
    "    \n",
    "    X = pd.get_dummies(df[features], drop_first=True)\n",
    "    y = df[target]\n",
    "\n",
    "    X_train, X_test, y_train, y_test = train_test_split(X, y, test_size=0.2, random_state=42)\n",
    "\n",
    "    # Nan mit Median füllen für Lin Reg und GB\n",
    "    X_train_filled = X_train.fillna(X.median())\n",
    "    X_test_filled = X_test.fillna(X.median())\n",
    "\n",
    "    lr_model = LinearRegression()\n",
    "    rf_model = RandomForestRegressor(n_estimators=120, max_depth=20, random_state=42)\n",
    "    gb_model = GradientBoostingRegressor(n_estimators=100, random_state=42)\n",
    "    hist_gb_model = HistGradientBoostingRegressor(random_state=42)\n",
    "    \n",
    "\n",
    "    lr_model.fit(X_train_filled, y_train)\n",
    "    rf_model.fit(X_train, y_train)\n",
    "    gb_model.fit(X_train_filled, y_train)\n",
    "    hist_gb_model.fit(X_train, y_train)\n",
    "\n",
    "    lr_predictions = lr_model.predict(X_test_filled)\n",
    "    rf_predictions = rf_model.predict(X_test)\n",
    "    gb_predictions = gb_model.predict(X_test_filled) \n",
    "    hist_gb_predictions = hist_gb_model.predict(X_test)\n",
    "\n",
    "    # Metriken \n",
    "    lr_mse = mean_squared_error(y_test, lr_predictions)\n",
    "    lr_r2 = r2_score(y_test, lr_predictions)\n",
    "    \n",
    "    rf_mse = mean_squared_error(y_test, rf_predictions)\n",
    "    rf_r2 = r2_score(y_test, rf_predictions)\n",
    "\n",
    "    gb_mse = mean_squared_error(y_test, gb_predictions)\n",
    "    gb_r2 = r2_score(y_test, gb_predictions)\n",
    "\n",
    "    hist_gb_mse = mean_squared_error(y_test, hist_gb_predictions) \n",
    "    hist_gb_r2 = r2_score(y_test, hist_gb_predictions)\n",
    "\n",
    "    return lr_mse, lr_r2, rf_mse, rf_r2, gb_mse, gb_r2, hist_gb_mse, hist_gb_r2, y_test, lr_predictions, rf_predictions, gb_predictions,hist_gb_predictions\n"
   ]
  },
  {
   "cell_type": "code",
   "execution_count": 149,
   "metadata": {},
   "outputs": [],
   "source": [
    "results_agg = model_comparison(combined_data_agg, features_agg, target)\n",
    "results_agg_no = model_comparison(combined_data_agg_no_outliers, features_agg, target)\n",
    "results_agg_top_league = model_comparison(combined_data_agg_top_league, features_agg, target)"
   ]
  },
  {
   "cell_type": "code",
   "execution_count": 150,
   "metadata": {},
   "outputs": [],
   "source": [
    "results_hist = model_comparison(combined_data_hist, features_hist, target)\n",
    "results_hist_no = model_comparison(combined_data_hist_no_outliers, features_hist, target)\n",
    "results_hist_top_league = model_comparison(combined_data_hist_top_league, features_hist, target)"
   ]
  },
  {
   "cell_type": "markdown",
   "metadata": {},
   "source": [
    "## Results"
   ]
  },
  {
   "cell_type": "markdown",
   "metadata": {},
   "source": [
    "> REMOVE THE FOLLOWING TEXT\n",
    "\n",
    "This is where you will output the final model with any relevant model fit statistics.\n",
    "\n",
    "Describe the key results from the model.\n",
    "The goal is not to interpret every single variable in the model but rather to show that you are proficient in using the model output to address the research questions, using the interpretations to support your conclusions.\n",
    "\n",
    "Focus on the variables that help you answer the research question and that provide relevant context for the reader.\n"
   ]
  },
  {
   "cell_type": "markdown",
   "metadata": {},
   "source": [
    "### Evaluation on test set"
   ]
  },
  {
   "cell_type": "code",
   "execution_count": null,
   "metadata": {},
   "outputs": [],
   "source": [
    "print(\"=== Modellvergleich Aggregiert===\")\n",
    "print(f\"{'Modell':<50} {'MSE':<25} {'R²':<10}\")\n",
    "print(\"=\"*85)\n",
    "print(f\"{'Linear Regression':<50} {results_agg[0]:<23.1f} {results_agg[1]:<10.4f}\")\n",
    "print(f\"{'Linear Regression ohne Außreiser':<50} {results_agg_no[0]:<23.1f} {results_agg_no[1]:<10.4f}\")\n",
    "print(f\"{'Linear Regression Top Spieler':<50} {results_agg_top_league[0]:<23.1f} {results_agg_top_league[1]:<10.4f}\")\n",
    "print()\n",
    "print(f\"{'Random Forest':<50} {results_agg[2]:<23.1f} {results_agg[3]:<10.4f}\")\n",
    "print(f\"{'Random Forest ohne Außreiser':<50} {results_agg_no[2]:<23.1f} {results_agg_no[3]:<10.4f}\")\n",
    "print(f\"{'Random Forest Top Spieler':<50} {results_agg_top_league[2]:<23.1f} {results_agg_top_league[3]:<10.4f}\")\n",
    "print()\n",
    "print(f\"{'Gradient Boosting':<50} {results_agg[4]:<23.1f} {results_agg[5]:<10.4f}\")\n",
    "print(f\"{'Gradient Boosting ohne Außreiser':<50} {results_agg_no[4]:<23.1f} {results_agg_no[5]:<10.4f}\")\n",
    "print(f\"{'Gradient Boosting Top Spieler':<50} {results_agg_top_league[4]:<23.1f} {results_agg_top_league[5]:<10.4f}\")\n",
    "print()\n",
    "print(f\"{'Hist Gradient Boosting':<50} {results_agg[6]:<23.1f} {results_agg[7]:<10.4f}\")\n",
    "print(f\"{'Hist Gradient Boosting ohne Außreiser':<50} {results_agg_no[6]:<23.1f} {results_agg_no[7]:<10.4f}\")\n",
    "print(f\"{'Hist Gradient Boosting Top Spieler':<50} {results_agg_top_league[6]:<23.1f} {results_agg_top_league[7]:<10.4f}\")"
   ]
  },
  {
   "cell_type": "code",
   "execution_count": null,
   "metadata": {},
   "outputs": [],
   "source": [
    "print(\"=== Modellvergleich Historisiert===\")\n",
    "print(f\"{'Modell':<50} {'MSE':<25} {'R²':<10}\")\n",
    "print(\"=\"*85)\n",
    "print(f\"{'Linear Regression':<50} {results_hist[0]:<23.1f} {results_hist[1]:<10.4f}\")\n",
    "print(f\"{'Linear Regression ohne Außreiser':<50} {results_hist_no[0]:<23.1f} {results_hist_no[1]:<10.4f}\")\n",
    "print(f\"{'Linear Regression Top Spieler':<50} {results_hist_top_league[0]:<23.1f} {results_hist_top_league[1]:<10.4f}\")\n",
    "print()\n",
    "print(f\"{'Random Forest':<50} {results_hist[2]:<23.1f} {results_hist[3]:<10.4f}\")\n",
    "print(f\"{'Random Forest ohne Außreiser':<50} {results_hist_no[2]:<23.1f} {results_hist_no[3]:<10.4f}\")\n",
    "print(f\"{'Random Forest Top Spieler':<50} {results_hist_top_league[2]:<23.1f} {results_hist_top_league[3]:<10.4f}\")\n",
    "print()\n",
    "print(f\"{'Gradient Boosting':<50} {results_hist[4]:<23.1f} {results_hist[5]:<10.4f}\")\n",
    "print(f\"{'Gradient Boosting ohne Außreiser':<50} {results_hist_no[4]:<23.1f} {results_hist_no[5]:<10.4f}\")\n",
    "print(f\"{'Gradient Boosting Top Spieler':<50} {results_hist_top_league[4]:<23.1f} {results_hist_top_league[5]:<10.4f}\")\n",
    "print()\n",
    "print(f\"{'Hist Gradient Boosting':<50} {results_hist[6]:<23.1f} {results_hist[7]:<10.4f}\")\n",
    "print(f\"{'Hist Gradient Boosting ohne Außreiser':<50} {results_hist_no[6]:<23.1f} {results_hist_no[7]:<10.4f}\")\n",
    "print(f\"{'Hist Gradient Boosting Top Spieler':<50} {results_hist_top_league[6]:<23.1f} {results_hist_top_league[7]:<10.4f}\")\n"
   ]
  },
  {
   "cell_type": "markdown",
   "metadata": {},
   "source": [
    "Warum ist das Ergebnis so schlecht ohne Ausreißer"
   ]
  },
  {
   "cell_type": "markdown",
   "metadata": {},
   "source": [
    "Der hohe MSE resultiert vor allem aus der Skalierung der Zielvariable, den Marktwerten von Fußballspielern, die teilweise extrem hoch ausfallen. Da der MSE die Fehlerwerte quadriert, wirken sich auch kleinere Abweichungen bei hohen Marktwerten überproportional stark auf das Gesamtergebnis aus. Zusätzlich tragen die große Varianz in den Daten und das Vorhandensein von Outliern – also Spielern mit außergewöhnlich hohen Marktwerten – dazu bei, dass die Fehlerspanne weiter ansteigt. Diese extremen Werte sind schwer vorherzusagen und führen zu einer Verschlechterung des MSE.\n",
    "\n",
    "Am Wert des R2 erkennt man, dass in beiden Fällen die lineare Regression am schlechtesten die Werte approximiert. Jedoch zeigen diese Ergebnisse das es mithilfe eines Tree Modelling schwierig ist den Marktwert eines Spielers gennau vorherzusagen. Das Modell mit den besten Ergebnisse, war der Random Forest im historisierten Zusatnd."
   ]
  },
  {
   "cell_type": "code",
   "execution_count": null,
   "metadata": {},
   "outputs": [],
   "source": [
    "model_names = ['Linear Regression', 'Random Forest', 'Gradient Boosting', 'Hist Gradient Boosting']\n",
    "mse_values = [results_agg[0], results_agg[2], results_agg[4], results_agg[6]]  # MSE-Werte\n",
    "r2_values = [results_agg[1], results_agg[3], results_agg[5], results_agg[7]]   # R²-Werte\n",
    "\n",
    "plt.figure(figsize=(12, 6))\n",
    "bar_width = 0.35\n",
    "index = np.arange(len(model_names))\n",
    "\n",
    "#plt.bar(index, mse_values, bar_width, label='MSE', color='blue')\n",
    "plt.bar(index + bar_width, r2_values, bar_width, label='R²', color='blue')\n",
    "\n",
    "plt.xlabel('Modelle')\n",
    "plt.ylabel('Werte')\n",
    "plt.title('Modellvergleich: MSE und R²')\n",
    "plt.xticks(index + bar_width / 2, model_names)\n",
    "plt.legend()\n",
    "plt.tight_layout()\n",
    "plt.show()"
   ]
  },
  {
   "cell_type": "markdown",
   "metadata": {},
   "source": [
    "Diese Grafik zeigt, dass im Durchschnitt der Hist Gradient Boosing über alle Modelle hinweg die besten Ergebnissse erzielt hat. "
   ]
  },
  {
   "cell_type": "code",
   "execution_count": null,
   "metadata": {},
   "outputs": [],
   "source": [
    "residuals = results_agg_no[8] - results_agg_no[9] #y_test - lr_predictions\n",
    "\n",
    "plt.figure(figsize=(10, 6))\n",
    "plt.hist(residuals, bins=50, edgecolor='k', alpha=0.7)\n",
    "plt.title(\"Verteilung der Residuen – Aggregiert Linear Regression Ohne Außreiser\")\n",
    "plt.xlabel(\"Residuum\")\n",
    "plt.ylabel(\"Häufigkeit\")\n",
    "plt.grid(True)\n",
    "plt.show()"
   ]
  },
  {
   "cell_type": "code",
   "execution_count": null,
   "metadata": {},
   "outputs": [],
   "source": [
    "residuals = results_hist_top_league[8] - results_hist_top_league[9]\n",
    "\n",
    "plt.figure(figsize=(10, 6))\n",
    "plt.hist(residuals, bins=50, edgecolor='k', alpha=0.7)\n",
    "plt.title(\"Verteilung der Residuen – Historisiert Linear Regression Top Ligen\")\n",
    "plt.xlabel(\"Residuum\")\n",
    "plt.ylabel(\"Häufigkeit\")\n",
    "plt.grid(True)\n",
    "plt.show()"
   ]
  },
  {
   "cell_type": "markdown",
   "metadata": {},
   "source": [
    "Die Verteilung der Residuen zeigt, wie genau ein Modell die tatsächlichen Werte vorhersagen kann. Bei der Linearen Regression ist die Fehlerverteilung zwar symmetrisch um den Wert Null, jedoch deutlich breiter, welches im Vergleich den aggregierten Daten größere Fehlerquote zuzusprechen ist, als den historisierten. Dies bedeutet, dass die Lineare Regression größere Fehler (Residuen) produziert. Insbesondere zeigt der rechte Rand der Verteilung, dass das Modell einige Vorhersagen erheblich überschätzt hat. Die Häufigkeit von Residuen nahe Null ist zwar hoch, dennoch führen die großen Fehler dazu, dass die Leistung des Modells beeinträchtigt wird. Diese breitere Streuung deutet darauf hin, dass die Lineare Regression die nichtlinearen und komplexen Zusammenhänge in den Daten nicht ausreichend abbilden kann."
   ]
  },
  {
   "cell_type": "code",
   "execution_count": null,
   "metadata": {},
   "outputs": [],
   "source": [
    "residuals = results_agg_top_league[8] - results_agg_top_league[10]\n",
    "\n",
    "plt.figure(figsize=(10, 6))\n",
    "plt.hist(residuals, bins=50, edgecolor='k', alpha=0.7)\n",
    "plt.title(\"Verteilung der Residuen – Aggregiert Random Forest Regression Top Ligen\")\n",
    "plt.xlabel(\"Residuum\")\n",
    "plt.ylabel(\"Häufigkeit\")\n",
    "plt.grid(True)\n",
    "plt.show()"
   ]
  },
  {
   "cell_type": "code",
   "execution_count": null,
   "metadata": {},
   "outputs": [],
   "source": [
    "residuals = results_hist[8] - results_hist[10]\n",
    "\n",
    "plt.figure(figsize=(10, 6))\n",
    "plt.hist(residuals, bins=50, edgecolor='k', alpha=0.7)\n",
    "plt.title(\"Verteilung der Residuen – Historisiert Random Forest Regression Top Ligen\")\n",
    "plt.xlabel(\"Residuum\")\n",
    "plt.ylabel(\"Häufigkeit\")\n",
    "plt.grid(True)\n",
    "plt.show()"
   ]
  },
  {
   "cell_type": "markdown",
   "metadata": {},
   "source": [
    "Im Vergleich dazu zeigt die Random Forest Regression eine wesentlich engere Fehlerverteilung, bei der die meisten Residuen deutlich näher an Null liegen. Dies verdeutlicht, dass die Vorhersagen des Random Forest Modells genauer sind und der Marktwert der Spieler besser approximiert wurde. Auch hier hat das historisierte Modell eine geringere Fehlerquote."
   ]
  },
  {
   "cell_type": "code",
   "execution_count": null,
   "metadata": {},
   "outputs": [],
   "source": [
    "residuals = results_agg[8] - results_agg[11]\n",
    "\n",
    "plt.figure(figsize=(10, 6))\n",
    "plt.hist(residuals, bins=50, edgecolor='k', alpha=0.7)\n",
    "plt.title(\"Verteilung der Residuen – Historisiert GBT\")\n",
    "plt.xlabel(\"Residuum\")\n",
    "plt.ylabel(\"Häufigkeit\")\n",
    "plt.grid(True)\n",
    "plt.show()"
   ]
  },
  {
   "cell_type": "code",
   "execution_count": null,
   "metadata": {},
   "outputs": [],
   "source": [
    "residuals = results_hist[8] - results_hist[11]\n",
    "\n",
    "plt.figure(figsize=(10, 6))\n",
    "plt.hist(residuals, bins=50, edgecolor='k', alpha=0.7)\n",
    "plt.title(\"Verteilung der Residuen – Historisiert GBT\")\n",
    "plt.xlabel(\"Residuum\")\n",
    "plt.ylabel(\"Häufigkeit\")\n",
    "plt.grid(True)\n",
    "plt.show()"
   ]
  },
  {
   "cell_type": "markdown",
   "metadata": {},
   "source": [
    "Auch der Gradient Boosting Tree weist auf eine enge Fehlerverteilung, bei der die meisten Residuen deutlich näher an Null liegen. Die Vorhersagen des Random Forest Modells und Gradient Boosting Tree wurden ähnlich gut approximiert."
   ]
  },
  {
   "cell_type": "markdown",
   "metadata": {},
   "source": [
    "## Discussion + Conclusion\n"
   ]
  },
  {
   "cell_type": "markdown",
   "metadata": {},
   "source": [
    "Emotionen"
   ]
  },
  {
   "cell_type": "markdown",
   "metadata": {},
   "source": [
    "> REMOVE THE FOLLOWING TEXT\n",
    "\n",
    "In this section you'll include a summary of what you have learned about your research question along with statistical arguments supporting your conclusions.\n",
    "In addition, discuss the limitations of your analysis and provide suggestions on ways the analysis could be improved.\n",
    "Any potential issues pertaining to the reliability and validity of your data and appropriateness of the statistical analysis should also be discussed here.\n",
    "Lastly, this section will include ideas for future work."
   ]
  },
  {
   "cell_type": "markdown",
   "metadata": {},
   "source": []
  }
 ],
 "metadata": {
  "kernelspec": {
   "display_name": "project",
   "language": "python",
   "name": "python3"
  },
  "language_info": {
   "codemirror_mode": {
    "name": "ipython",
    "version": 3
   },
   "file_extension": ".py",
   "mimetype": "text/x-python",
   "name": "python",
   "nbconvert_exporter": "python",
   "pygments_lexer": "ipython3",
   "version": "3.12.8"
  },
  "orig_nbformat": 4
 },
 "nbformat": 4,
 "nbformat_minor": 2
}
