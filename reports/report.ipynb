{
 "cells": [
  {
   "cell_type": "markdown",
   "metadata": {},
   "source": [
    "# Report"
   ]
  },
  {
   "cell_type": "markdown",
   "metadata": {},
   "source": [
    "## Introduction and data"
   ]
  },
  {
   "cell_type": "markdown",
   "metadata": {},
   "source": [
    "> REMOVE THE FOLLOWING TEXT\n",
    "\n",
    "This section includes an introduction to the project motivation, data, and research question.\n",
    "Describe the data and definitions of key variables.\n",
    "\n",
    "It should also include some exploratory data analysis.\n",
    "\n",
    "All of the EDA won't fit in the paper, so focus on the EDA for the response variable and a few other interesting variables and relationships."
   ]
  },
  {
   "cell_type": "markdown",
   "metadata": {},
   "source": [
    "Der Profifußball ist nicht nur eine der weltweit populärsten Sportarten, sondern auch ein komplexes globales Wirtschaftsphänomen. Spielertransfers und die damit verbundenen Marktwerte von Profifußballern stellen zentrale Elemente dar, die sowohl für Vereine als auch für Investoren von entscheidender Bedeutung sind. Die Frage, wie der Marktwert eines Spielers bestimmt wird und welche Faktoren darauf einwirken, ist sowohl für die Sportökonomie als auch für datenwissenschaftliche Forschungen von großem Interesse.\n",
    "Die Bewertung von Spielerleistungen und das Ermitteln ihrer finanziellen Wertigkeit ist jedoch keine triviale Aufgabe. Sie umfasst zahlreiche Variablen, darunter individuelle Leistungsdaten, Alter, Position, Verletzungshistorie, internationale Erfahrung sowie die Dynamik des Transfermarktes. \n",
    "Das Ziel dieses Projekts ist es, die zentralen Faktoren zu identifizieren, die den Marktwert eines Spielers beeinflussen, und ein Modell zu entwickeln, das auf Basis dieser Erkenntnisse Marktwerte mit hoher Genauigkeit vorhersagen kann. Hierbei kommen historische Daten, statistische Analysen und moderne Verfahren des maschinellen Lernens zum Einsatz\n",
    "\n",
    "Wissenschaftliche Relevanz\n",
    "\n",
    "Die Erforschung von Marktwertvorhersagen im Profifußball verbindet wissenschaftliche Disziplinen wie Statistik, Ökonomie, Informatik und Sportwissenschaft. Neben der Verbesserung von Entscheidungsprozessen für Vereine und Scouts bietet diese Arbeit auch wertvolle Erkenntnisse über die Mechanismen und Dynamiken eines der lukrativsten Sportmärkte der Welt.\n",
    "\n",
    "Hypothese: Der Marktwert eines Profifußballspielers kann mit hoher Genauigkeit vorhergesagt werden, wenn Variablen wie individuelle Leistungsdaten, physische Eigenschaften, Alter, Markttrends und Transferhistorien systematisch analysiert und in ein maschinelles Lernmodell integriert werden.\n"
   ]
  },
  {
   "cell_type": "markdown",
   "metadata": {},
   "source": [
    "### Setup"
   ]
  },
  {
   "cell_type": "code",
   "execution_count": 1,
   "metadata": {},
   "outputs": [],
   "source": [
    "import pandas as pd\n",
    "from datetime import datetime\n",
    "import matplotlib.pyplot as plt\n",
    "import seaborn as sns\n",
    "import numpy as np\n",
    "import matplotlib.pyplot as plt\n",
    "import seaborn as sns\n",
    "import altair as alt\n",
    "import plotly.express as px\n",
    "\n",
    "from sklearn.model_selection import train_test_split\n",
    "from sklearn.linear_model import LinearRegression\n",
    "from sklearn.ensemble import RandomForestRegressor\n",
    "from sklearn.metrics import mean_squared_error, r2_score\n",
    "import joblib\n",
    "#import vegafusion as vf"
   ]
  },
  {
   "cell_type": "code",
   "execution_count": 2,
   "metadata": {},
   "outputs": [],
   "source": [
    "pd.set_option('display.max_columns', None) "
   ]
  },
  {
   "cell_type": "markdown",
   "metadata": {},
   "source": [
    "### Import data"
   ]
  },
  {
   "cell_type": "code",
   "execution_count": 3,
   "metadata": {},
   "outputs": [],
   "source": [
    "appearances = pd.read_parquet(\"../data/raw/appearances.parquet\")\n",
    "player_valuations = pd.read_parquet(\"../data/raw/player_valuations.parquet\")\n",
    "transfers = pd.read_parquet(\"../data/raw/transfers.parquet\")\n",
    "players = pd.read_parquet(\"../data/raw/players.parquet\")"
   ]
  },
  {
   "cell_type": "markdown",
   "metadata": {},
   "source": [
    "### Data structure"
   ]
  },
  {
   "cell_type": "code",
   "execution_count": 4,
   "metadata": {},
   "outputs": [],
   "source": [
    "print(\"Appearances columns: \\n\", appearances.columns)\n",
    "print(\"\\n Player Valuations columns: \\n\", player_valuations.columns)\n",
    "print(\"\\n Transfers columns: \\n\", transfers.columns)\n",
    "print(\"\\n Players columns: \\n\", players.columns)"
   ]
  },
  {
   "cell_type": "markdown",
   "metadata": {},
   "source": [
    "#### Appearances DataFrame\n",
    " **Beschreibung:** Diese Tabelle enthält historische Daten über die Leistungen eines Spielers in einzelnen Spielen.\n",
    " **Wichtige Spalten:**\n",
    " - `player_id`: Eindeutige Spieler-ID.\n",
    " - `date`: Datum des Spiels.\n",
    " - `player_name`: Name des Spielers.\n",
    " - `competition_id`: ID des Wettbewerbs.\n",
    " - `yellow_cards`, `red_cards`: Anzahl gelber und roter Karten.\n",
    " - `goals`, `assists`: Tore und Vorlagen im Spiel.\n",
    " - `minutes_played`: Anzahl der gespielten Minuten."
   ]
  },
  {
   "cell_type": "code",
   "execution_count": 5,
   "metadata": {},
   "outputs": [],
   "source": [
    "appearances.head(2)"
   ]
  },
  {
   "cell_type": "markdown",
   "metadata": {},
   "source": [
    "#### Player Valuations DataFrame\n",
    " **Beschreibung:** Diese Tabelle zeigt die Marktwertentwicklungen der Spieler über die Zeit.\n",
    " **Wichtige Spalten:**\n",
    " - `player_id`: Eindeutige Spieler-ID.\n",
    " - `date`: Datum der Marktwertermittlung.\n",
    " - `market_value_in_eur`: Erster Marktwert in Euro.\n",
    " - `current_club_id`: ID des aktuellen Clubs.\n",
    " - `player_club_domestic_competition_id`: ID des nationalen Wettbewerbs des aktuellen Clubs.\n"
   ]
  },
  {
   "cell_type": "code",
   "execution_count": 6,
   "metadata": {},
   "outputs": [],
   "source": [
    "player_valuations.head(2)"
   ]
  },
  {
   "cell_type": "markdown",
   "metadata": {},
   "source": [
    "#### Transfers DataFrame\n",
    " **Beschreibung:** Diese Tabelle enthält Informationen zu Spielertransfers zwischen Clubs.\n",
    " **Wichtige Spalten:**\n",
    " - `player_id`: Eindeutige Spieler-ID.\n",
    " - `transfer_date`: Datum des Transfers.\n",
    " - `transfer_season`: Saison des Transfers.\n",
    " - `from_club_id`, `to_club_id`: IDs des abgebenden und aufnehmenden Clubs.\n",
    " - `from_club_name`, `to_club_name`: Namen der Clubs.\n",
    " - `transfer_fee`: Transfergebühr in Euro.\n",
    " - `market_value_in_eur`: Marktwert des Spielers zum Zeitpunkt des Transfers."
   ]
  },
  {
   "cell_type": "code",
   "execution_count": 7,
   "metadata": {},
   "outputs": [],
   "source": [
    "transfers.head(2)"
   ]
  },
  {
   "cell_type": "markdown",
   "metadata": {},
   "source": [
    "#### Players DataFrame\n",
    " **Beschreibung:** Diese Tabelle enthält Basisinformationen zu Spielern.\n",
    " **Wichtige Spalten:**\n",
    " - `player_id`: Eindeutige Spieler-ID.\n",
    " - `name`, `first_name`, `last_name`: Name des Spielers.\n",
    " - `country_of_birth`, `country_of_citizenship`: Geburtsland und Staatsangehörigkeit.\n",
    " - `foot`: Bevorzugter Fuß (rechts/links).\n",
    " - `height_in_cm`: Körpergröße in cm.\n",
    " - `contract_expiration_date`: Vertragslaufzeitende.\n",
    " - `current_club_name`: Name des aktuellen Clubs.\n",
    " - `market_value_in_eur`: Aktueller Marktwert in Euro.\n",
    " - `highest_market_value_in_eur`: Höchster Marktwert in Euro."
   ]
  },
  {
   "cell_type": "code",
   "execution_count": 8,
   "metadata": {},
   "outputs": [],
   "source": [
    "players.head(2)"
   ]
  },
  {
   "cell_type": "markdown",
   "metadata": {},
   "source": [
    "### Data corrections"
   ]
  },
  {
   "cell_type": "markdown",
   "metadata": {},
   "source": [
    "#### Aggregierte Appearances DataFrame\n",
    "- **Beschreibung:** Diese Tabelle fasst die Leistungen eines Spielers über alle Spiele zusammen.\n",
    "- **Aggregierte Spalten:**\n",
    "  - `total_minutes_played`: Gesamte Spielminuten.\n",
    "  - `total_goals`, `total_assists`: Gesamte Tore und Vorlagen.\n",
    "  - `total_yellow_cards`, `total_red_cards`: Summe der gelben und roten Karten.\n",
    "  - `total_golas_per_game`: Totaler Durchschnitt der Tore pro Spiel \n"
   ]
  },
  {
   "cell_type": "code",
   "execution_count": 9,
   "metadata": {},
   "outputs": [],
   "source": [
    "appearances_agg = appearances.groupby('player_id').agg({\n",
    "    'minutes_played': 'sum',  # Gesamtminuten\n",
    "    'goals': 'sum',           # Gesamttore\n",
    "    'assists': 'sum',         # Gesamtvorlagen\n",
    "    'yellow_cards': 'sum',    # Gelbe Karten\n",
    "    'red_cards': 'sum',       # Rote Karten\n",
    "    'game_id': 'count'        # Anzahl der Spiele\n",
    "}).reset_index()\n",
    "\n",
    "appearances_agg.rename(columns={\n",
    "    'minutes_played': 'total_minutes_played',\n",
    "    'goals': 'total_goals',\n",
    "    'assists': 'total_assists',\n",
    "    'yellow_cards': 'total_yellow_cards',\n",
    "    'red_cards': 'total_red_cards',\n",
    "    'game_id': 'total_matches'\n",
    "}, inplace=True)\n",
    "\n",
    "\n",
    "appearances_agg.head()"
   ]
  },
  {
   "cell_type": "markdown",
   "metadata": {},
   "source": [
    "#### Aggregierte Appearancespro Jahr (historisiert)\n",
    "- **Beschreibung:** Diese Tabelle fasst die Leistung jährlich eines Spielers über alle Spiele zusammen.\n",
    "- **Aggregierte Spalten:**\n",
    "  - `minutes_played_per_game`: Gesamte Spielminuten.\n",
    "  - `assists_per_game`: Gesamte Vorlagen.\n",
    "  - `yellow_cards_per_game`, `red_cards_per_game`: Summe der gelben und roten Karten.\n",
    "  - `golas_per_game`: Totaler Durchschnitt der Tore pro Spiel \n"
   ]
  },
  {
   "cell_type": "code",
   "execution_count": 10,
   "metadata": {},
   "outputs": [],
   "source": [
    "appearances['date'] = pd.to_datetime(appearances['date'])\n",
    "appearances['year'] = appearances['date'].dt.year\n",
    "\n",
    "appearances_hist = appearances.groupby(['player_id', 'year']).agg({\n",
    "    'minutes_played': 'sum',\n",
    "    'goals': 'sum',         \n",
    "    'assists': 'sum',       \n",
    "    'yellow_cards': 'sum',  \n",
    "    'red_cards': 'sum',     \n",
    "    'game_id': 'count' \n",
    "}).reset_index()\n",
    "\n",
    "appearances_hist['goals_per_game'] = appearances_hist['goals'] / appearances_hist['game_id']\n",
    "appearances_hist['assists_per_game'] = appearances_hist['assists'] / appearances_hist['game_id']\n",
    "appearances_hist['yellow_cards_per_game'] = appearances_hist['yellow_cards'] / appearances_hist['game_id']\n",
    "appearances_hist['red_cards_per_game'] = appearances_hist['red_cards'] / appearances_hist['game_id']\n",
    "appearances_hist['minutes_played_per_game'] = appearances_hist['minutes_played'] / appearances_hist['game_id']\n",
    "\n",
    "appearances_hist.drop([\"minutes_played\", \"goals\", \"assists\", \"yellow_cards\", \"red_cards\", \"game_id\"], axis=1, inplace =True)\n",
    "\n",
    "appearances_hist.head()"
   ]
  },
  {
   "cell_type": "markdown",
   "metadata": {},
   "source": [
    "In diesem Schritt werden die Leistungsdaten der Spieler, wie Tore, Assists und Karten, auf Spielebene normalisiert, um Metriken wie `goals_per_game` oder `assists_per_game` zu berechnen. Dadurch wird die Leistung unabhängig von der Anzahl absolvierter Spiele dargestellt, was eine objektivere Analyse ermöglicht und zeitliche Entwicklungen präziser abbildet. Dies erlaubt eine differenziertere Analyse, die weniger von der Anzahl der absolvierten Spiele beeinflusst ist."
   ]
  },
  {
   "cell_type": "markdown",
   "metadata": {},
   "source": [
    "player_data = appearances_hist[appearances_hist['player_id'] == 342229]\n",
    "fig = px.line(\n",
    "    player_data,\n",
    "    x='year',\n",
    "    y='goals_per_game',\n",
    "    title='Tore pro Spiel im Zeitverlauf',\n",
    "    labels={'goals_per_game': 'Tore pro Spiel', 'year': 'Jahr'}\n",
    ")\n",
    "fig.update_layout(\n",
    "    xaxis=dict(\n",
    "        tickmode='linear',\n",
    "        tick0=min(player_data['year']),\n",
    "        dtick=1  # Schritte von 1 Jahr\n",
    "    )\n",
    ")\n",
    "fig.show()"
   ]
  },
  {
   "cell_type": "markdown",
   "metadata": {},
   "source": [
    "#### Fehldende Werte raussuchen und Daten Engineering"
   ]
  },
  {
   "cell_type": "code",
   "execution_count": 11,
   "metadata": {},
   "outputs": [],
   "source": [
    "print(\"Fehlende Werte in appearances:\")\n",
    "print(appearances.isnull().sum())"
   ]
  },
  {
   "cell_type": "code",
   "execution_count": 12,
   "metadata": {},
   "outputs": [],
   "source": [
    "print(\"Fehlende Werte in player_valuations:\")\n",
    "player_valuations['date'] = pd.to_datetime(player_valuations['date'])\n",
    "player_valuations['year'] = player_valuations['date'].dt.year\n",
    "\n",
    "#player_valuations.drop(\"date\", axis=1, inplace=True) # date wird gelöscht um auf Jahreseben den Marktwert zu untersuchen\n",
    "player_valuations = player_valuations.drop_duplicates(subset=['player_id','year'], keep='last') # damit wird gewährleistet, dass pro Jahr auf nur ein Marktwert pro Spieler limitiert wird\n",
    "print(player_valuations.isnull().sum())"
   ]
  },
  {
   "cell_type": "markdown",
   "metadata": {},
   "source": [
    "Durch `drop_duplicates(subset=['player_id','year'], keep='last')` wird gewährleistet, dass es auf nur ein Marktwert pro Spieler im Jahr limitiert wird. Da es Spieler gibt deren Marktwert mehrmals im Jahr abgefragt wird."
   ]
  },
  {
   "cell_type": "code",
   "execution_count": 13,
   "metadata": {},
   "outputs": [],
   "source": [
    "print(\"Fehlende Werte in transfers:\")\n",
    "transfers['transfer_date'] = pd.to_datetime(transfers['transfer_date'])\n",
    "transfers['year'] = transfers['transfer_date'].dt.year\n",
    "# wichtig für das Mergen später\n",
    "print(transfers.isnull().sum())"
   ]
  },
  {
   "cell_type": "code",
   "execution_count": 14,
   "metadata": {},
   "outputs": [],
   "source": [
    "print(\"Fehlende Werte in players:\")\n",
    "\n",
    "print(players.isnull().sum())"
   ]
  },
  {
   "cell_type": "code",
   "execution_count": 15,
   "metadata": {},
   "outputs": [],
   "source": [
    "players.dropna(subset=['market_value_in_eur'], inplace=True)"
   ]
  },
  {
   "cell_type": "code",
   "execution_count": 16,
   "metadata": {},
   "outputs": [],
   "source": [
    "print(\"Fehlende Werte in appearances_hist:\")\n",
    "print(appearances_hist.isnull().sum())"
   ]
  },
  {
   "cell_type": "markdown",
   "metadata": {},
   "source": [
    "#### Merging Datasets"
   ]
  },
  {
   "cell_type": "markdown",
   "metadata": {},
   "source": [
    "`combined_data_agg` enthält die aggregierte Version (`appearances_agg`) der Spieler. Keine Historie enthalten durch `drop_duplicates(subset='player_id', keep='last')` wird der aktuellste Marktewert genommen."
   ]
  },
  {
   "cell_type": "markdown",
   "metadata": {},
   "source": [
    "combined_data_agg = player_valuations.drop_duplicates(subset='player_id', keep='last').merge(players, on='player_id', how='inner')\n",
    "combined_data_agg = combined_data_agg.merge(appearances_agg, on='player_id', how='inner')\n",
    "\n",
    "combined_data_agg = combined_data_agg.merge(transfers[['player_id', 'transfer_fee', 'market_value_in_eur','year']], \n",
    "                                    on=['player_id', 'year'], how='left')\n",
    "\n",
    "combined_data_agg.head()\n"
   ]
  },
  {
   "cell_type": "markdown",
   "metadata": {},
   "source": [
    "Agg geht auch so, vlt sogar besser ohne valuations (die hist) sondern nur nur ein Eintrag pro Spieler, ohne Datum das heißt auch ohne Transfer"
   ]
  },
  {
   "cell_type": "code",
   "execution_count": 17,
   "metadata": {},
   "outputs": [],
   "source": [
    "combined_data_agg = players.merge(appearances_agg, on='player_id', how='inner')\n",
    "\n",
    "#combined_data_agg = combined_data_agg.merge(transfers[['player_id', 'transfer_fee', 'market_value_in_eur','year']].drop_duplicates(subset='player_id', keep='first'), \n",
    "#                                    on=['player_id'], how='left')\n",
    "\n",
    "combined_data_agg.head()"
   ]
  },
  {
   "cell_type": "code",
   "execution_count": 18,
   "metadata": {},
   "outputs": [],
   "source": [
    "combined_data_agg[combined_data_agg[\"name\"]==\"Kylian Mbappé\"]"
   ]
  },
  {
   "cell_type": "markdown",
   "metadata": {},
   "source": [
    "`combined_data_hist` enthält die historisierte Version (`appearances_hist`) der Aggregationen "
   ]
  },
  {
   "cell_type": "code",
   "execution_count": 19,
   "metadata": {},
   "outputs": [],
   "source": [
    "combined_data_hist = player_valuations.merge(players, on='player_id', how='inner')\n",
    "combined_data_hist = combined_data_hist.merge(appearances_hist, on=['player_id', 'year'], how='inner')\n",
    "\n",
    "combined_data_hist = combined_data_hist.merge(transfers[['player_id', 'transfer_fee', 'market_value_in_eur', 'year', 'transfer_season']], \n",
    "                                    on=['player_id', 'year'] , how='left')\n",
    "\n",
    "combined_data_hist.head()"
   ]
  },
  {
   "cell_type": "markdown",
   "metadata": {},
   "source": [
    "`combined_data` enthält jeweils beide Aggregation Typen"
   ]
  },
  {
   "cell_type": "markdown",
   "metadata": {},
   "source": [
    "combined_data = combined_data_hist.merge(appearances_agg, on='player_id', how='inner')\n",
    "combined_data.head()"
   ]
  },
  {
   "cell_type": "markdown",
   "metadata": {},
   "source": [
    "#### Feature Engineering"
   ]
  },
  {
   "cell_type": "code",
   "execution_count": 20,
   "metadata": {},
   "outputs": [],
   "source": [
    "combined_data_hist.rename(columns={\n",
    "    'market_value_in_eur_x': 'historical_to_date__market_value',\n",
    "    'market_value_in_eur_y': 'current_market_value',\n",
    "    'market_value_in_eur': 'transfer_market_value',\n",
    "    'player_club_domestic_competition_id': 'league_id'\n",
    "}, inplace=True)\n",
    "\n",
    "combined_data_agg.rename(columns={\n",
    "    'market_value_in_eur': 'current_market_value',\n",
    "    'current_club_domestic_competition_id': 'league_id'\n",
    "}, inplace=True)"
   ]
  },
  {
   "cell_type": "code",
   "execution_count": 21,
   "metadata": {},
   "outputs": [],
   "source": [
    "## Feautre Engineering: transfer gap\n",
    "combined_data_hist['transfer_fee_gap'] = combined_data_hist['transfer_fee'] - combined_data_hist['transfer_market_value']\n",
    "combined_data_hist.drop(columns=['current_club_id_x', 'current_club_id_y', 'image_url', 'url', 'agent_name', 'player_code', 'first_name', 'last_name', 'current_club_domestic_competition_id'], inplace=True)"
   ]
  },
  {
   "cell_type": "code",
   "execution_count": 22,
   "metadata": {},
   "outputs": [],
   "source": [
    "combined_data_agg.drop(columns=['image_url', 'url', 'agent_name', 'player_code', 'first_name', 'last_name'], inplace=True)"
   ]
  },
  {
   "cell_type": "markdown",
   "metadata": {},
   "source": [
    "`transfer_fee_gap` enthält die Differenz zwischen der Transfer Gebühr und den jeweiligen Marktwert im Jahr des Transfers. Da die Transfers jährlich vorliegen, werden der `transfer_fee_gap` nur bei der historischen Version hinzugefügt "
   ]
  },
  {
   "cell_type": "markdown",
   "metadata": {},
   "source": [
    "##### Alter ergänzen und evaluieren"
   ]
  },
  {
   "cell_type": "code",
   "execution_count": 23,
   "metadata": {},
   "outputs": [],
   "source": [
    "## Feautre Engineering: Alter\n",
    "combined_data_hist['age'] = (pd.to_datetime(combined_data_hist['date']).dt.year - \n",
    "                         pd.to_datetime(combined_data_hist['date_of_birth']).dt.year)\n",
    "\n",
    "current_year = datetime.now().year\n",
    "combined_data_agg['age'] = current_year - pd.to_datetime(combined_data_agg['date_of_birth']).dt.year\n"
   ]
  },
  {
   "cell_type": "code",
   "execution_count": 24,
   "metadata": {},
   "outputs": [],
   "source": [
    "combined_data_hist[['date_of_birth', 'age']].head()"
   ]
  },
  {
   "cell_type": "code",
   "execution_count": 25,
   "metadata": {},
   "outputs": [],
   "source": [
    "combined_data_agg.head(2)"
   ]
  },
  {
   "cell_type": "code",
   "execution_count": 26,
   "metadata": {},
   "outputs": [],
   "source": [
    "combined_data_hist.head(2)"
   ]
  },
  {
   "cell_type": "code",
   "execution_count": 27,
   "metadata": {},
   "outputs": [],
   "source": [
    "combined_data_hist.shape"
   ]
  },
  {
   "cell_type": "code",
   "execution_count": 28,
   "metadata": {},
   "outputs": [],
   "source": [
    "combined_data_hist = combined_data_hist[combined_data_hist['age'] > 15]\n",
    "combined_data_agg = combined_data_agg[combined_data_agg['age'] > 15]\n",
    "\n",
    "combined_data_hist.shape"
   ]
  },
  {
   "cell_type": "markdown",
   "metadata": {},
   "source": [
    "In diesem Schritt wird das Alter der Spieler zum Zeitpunkt der Marktwertbewertung berechnet, indem das Datum der Bewertung (`date`) und das Geburtsdatum des Spielers (`date_of_birth`) herangezogen werden. Anschließend wird der Datensatz gefiltert, sodass nur Spieler berücksichtigt werden, die zum Zeitpunkt der Bewertung ein Mindestalter von 15 Jahren erreicht haben.\n",
    "\n",
    "Das Mindestalter von 15 Jahren wird als Untergrenze definiert, da Marktwertbewertungen für Spieler, die jünger als 15 Jahre alt sind, in der Regel unplausibel und fehlerhaft erscheinen. Solche Datensätze können als Ausreißer betrachtet werden und die statistische Analyse sowie die Vorhersagemodelle erheblich verfälschen."
   ]
  },
  {
   "cell_type": "markdown",
   "metadata": {},
   "source": [
    "##### Aktive oder in Rente "
   ]
  },
  {
   "cell_type": "code",
   "execution_count": 29,
   "metadata": {},
   "outputs": [],
   "source": [
    "current_year = 2025\n",
    "\n",
    "combined_data_hist['is_retired'] = combined_data_hist['last_season'] <= (current_year - 5)\n",
    "\n",
    "combined_data_agg['is_retired'] = combined_data_agg['last_season'] <= (current_year - 5)"
   ]
  },
  {
   "cell_type": "markdown",
   "metadata": {},
   "source": [
    "Die neue  Variable `is_retired` erlaubt es, aktive und inaktive Spieler getrennt zu betrachten, was Verzerrungen in den Modellen reduzieren kann."
   ]
  },
  {
   "cell_type": "markdown",
   "metadata": {},
   "source": [
    "#### Change Datatypes"
   ]
  },
  {
   "cell_type": "code",
   "execution_count": 30,
   "metadata": {},
   "outputs": [],
   "source": [
    "combined_data_hist.info()"
   ]
  },
  {
   "cell_type": "code",
   "execution_count": 31,
   "metadata": {},
   "outputs": [],
   "source": [
    "# Alle IDs als Strings umwandeln\n",
    "id_columns = [\n",
    "    \"player_id\", \"league_id\"\n",
    "]\n",
    "combined_data_hist[id_columns] = combined_data_hist[id_columns].astype(str)\n",
    "\n",
    "# Datumsangaben umwandeln\n",
    "date_columns = [\"date\", \"date_of_birth\", \"contract_expiration_date\"]\n",
    "for col in date_columns:\n",
    "    combined_data_hist[col] = pd.to_datetime(combined_data_hist[col], errors='coerce')\n",
    "\n",
    "\n",
    "print(combined_data_hist.info())\n"
   ]
  },
  {
   "cell_type": "code",
   "execution_count": 32,
   "metadata": {},
   "outputs": [],
   "source": [
    "combined_data_agg.info()"
   ]
  },
  {
   "cell_type": "code",
   "execution_count": 33,
   "metadata": {},
   "outputs": [],
   "source": [
    "# Alle IDs als Strings umwandeln\n",
    "id_columns = [\n",
    "    \"player_id\", \"current_club_id\", \"league_id\"\n",
    "]\n",
    "combined_data_agg[id_columns] = combined_data_agg[id_columns].astype(str)\n",
    "\n",
    "# Datumsangaben umwandeln\n",
    "date_columns = [ \"date_of_birth\", \"contract_expiration_date\"]\n",
    "for col in date_columns:\n",
    "    combined_data_agg[col] = pd.to_datetime(combined_data_agg[col], errors='coerce')\n",
    "\n",
    "\n",
    "print(combined_data_agg.info())"
   ]
  },
  {
   "cell_type": "code",
   "execution_count": 35,
   "metadata": {},
   "outputs": [],
   "source": [
    "\n",
    "# abspeichern in data/processed\n",
    "combined_data_hist.to_parquet('../data/processed/combined_data_hist.parquet')\n",
    "combined_data_agg.to_parquet('../data/processed/combined_data_agg.parquet')"
   ]
  },
  {
   "cell_type": "markdown",
   "metadata": {},
   "source": [
    "### Analysis"
   ]
  },
  {
   "cell_type": "markdown",
   "metadata": {},
   "source": [
    "Für die Analysen wird die aggregierte Version der Dataframes `combined_data_agg` genutzt, um das mehrfache Vorkommen von Spielern zu verhindern. "
   ]
  },
  {
   "cell_type": "code",
   "execution_count": 34,
   "metadata": {},
   "outputs": [],
   "source": [
    "fig = px.box(\n",
    "    combined_data_hist, \n",
    "    y=\"current_market_value\", \n",
    "    color=combined_data_hist['is_retired'].map({True: 'Retired', False: 'Active'}),\n",
    "    title=\"Boxplot of Current Market Value, Divided by Active or Retired (2020) Player\",\n",
    "    labels={\"current_market_value\": \"Current Market Value (in M€)\"},\n",
    "    hover_data=[\"name\", \"age\"] \n",
    ")\n",
    "\n",
    "fig.update_layout(\n",
    "    yaxis=dict(title=\"Current Market Value (in M€)\", showgrid=True),\n",
    "    xaxis=dict(showticklabels=False),\n",
    "    title=dict(x=0.5)  # Titel zentrieren\n",
    ")\n",
    "\n",
    "fig.show()"
   ]
  },
  {
   "cell_type": "markdown",
   "metadata": {},
   "source": [
    "Die Boxplots zeigen die Verteilung der aktuellen Marktwerte von Fußballspielern, getrennt nach aktiven und pensionierten Spielern. Die Marktwerte konzentrieren sich überwiegend im unteren Bereich, wobei einige wenige aktive Spieler als Ausreißer deutlich höhere Werte aufweisen. Pensionierte Spieler haben insgesamt niedrigere Marktwerte und kaum Ausreißer, was auf eine homogenere Verteilung hinweist. Der Plot verdeutlicht die starke Schiefe der Marktwerte und die größere Streuung bei aktiven Spielern im Vergleich zu pensionierten."
   ]
  },
  {
   "cell_type": "markdown",
   "metadata": {},
   "source": [
    "#### Ohne Ausreißer"
   ]
  },
  {
   "cell_type": "code",
   "execution_count": 35,
   "metadata": {},
   "outputs": [],
   "source": [
    "q1 = combined_data_agg[\"current_market_value\"].quantile(0.25)\n",
    "q3 = combined_data_agg[\"current_market_value\"].quantile(0.75)\n",
    "iqr = q3 - q1\n",
    "lower_bound = q1 - 1.5 * iqr\n",
    "upper_bound = q3 + 1.5 * iqr\n",
    "\n",
    "# Filtern der Daten ohne Ausreißer\n",
    "combined_data_agg_no_outliers = combined_data_agg[\n",
    "    (combined_data_agg[\"current_market_value\"] >= lower_bound) & \n",
    "    (combined_data_agg[\"current_market_value\"] <= upper_bound)\n",
    "]"
   ]
  },
  {
   "cell_type": "code",
   "execution_count": 36,
   "metadata": {},
   "outputs": [],
   "source": [
    "combined_data_agg_no_outliers.shape"
   ]
  },
  {
   "cell_type": "code",
   "execution_count": 37,
   "metadata": {},
   "outputs": [],
   "source": [
    "fig = px.box(\n",
    "    combined_data_agg_no_outliers, \n",
    "    y=\"current_market_value\", \n",
    "    title=\"Boxplot of Current Market Value, Divided by Active or Retired (2020) Player, Without Outliers\",\n",
    "    labels={\"current_market_value\": \"Current Market Value (in M€)\"},\n",
    "    hover_data=[\"name\", \"age\"]\n",
    ")\n",
    "\n",
    "fig.show()"
   ]
  },
  {
   "cell_type": "code",
   "execution_count": 38,
   "metadata": {},
   "outputs": [],
   "source": [
    "fig = px.box(\n",
    "    combined_data_agg_no_outliers, \n",
    "    y=\"current_market_value\", \n",
    "    color=combined_data_agg_no_outliers['is_retired'].map({True: 'Retired', False: 'Active'}),\n",
    "    title=\"Boxplot of Current Market Value, Divided by Active or Retired (2020) Player, Without Outliers\",\n",
    "    labels={\"current_market_value\": \"Current Market Value (in M€)\"},\n",
    "    hover_data=[\"name\", \"age\"],\n",
    ")\n",
    "\n",
    "fig.show()"
   ]
  },
  {
   "cell_type": "code",
   "execution_count": 39,
   "metadata": {},
   "outputs": [],
   "source": [
    "fig = px.box(\n",
    "    combined_data_agg_no_outliers, \n",
    "    y=\"current_market_value\", \n",
    "    color=combined_data_agg_no_outliers['is_retired'].map({True: 'Retired', False: 'Active'}),\n",
    "    title=\"Boxplot of Current Market Value, Divided by Active or Retired (2020) Player, Without Outliers\",\n",
    "    labels={\"current_market_value\": \"Current Market Value (in M€)\"},\n",
    "    hover_data=[\"name\", \"age\"],\n",
    ")\n",
    "\n",
    "fig.show()"
   ]
  },
  {
   "cell_type": "markdown",
   "metadata": {},
   "source": [
    "#### Descriptive statistics"
   ]
  },
  {
   "cell_type": "code",
   "execution_count": 40,
   "metadata": {},
   "outputs": [],
   "source": [
    "#combined_data.describe().T\n",
    "\n",
    "numeric_combined_data = combined_data_agg.select_dtypes(include=[\"number\"])\n",
    "numeric_combined_data.describe().T"
   ]
  },
  {
   "cell_type": "markdown",
   "metadata": {},
   "source": [
    "Die deskriptive Analyse zeigt eine große Vielfalt unter den Fußballspielern, sowohl in Bezug auf ihre Leistung als auch auf ihren Marktwert. Der durchschnittliche aktuelle Marktwert (`current_market_value`) liegt bei etwa 1,95 Millionen Euro, wobei die Werte von nur 10.000 Euro bis hin zu beeindruckenden 200 Millionen Euro reichen. Spieler haben im Durchschnitt 6,33 Tore (`total_goals`) und 4,99 Assists (`total_assists`) erzielt, mit maximalen Werten von 490 Toren und 224 Assists, was die Präsenz einiger außergewöhnlicher Akteure unterstreicht. Die durchschnittliche Anzahl absolvierter Spiele (`total_matches`) liegt bei rund 66, wobei einige Spieler bis zu 589 Spiele bestritten haben. Die durchschnittliche Spielzeit (`total_minutes_played`) beläuft sich auf 4.565 Minuten, mit einem Maximum von nahezu 50.000 Minuten. Disziplinarisch erhalten Spieler im Schnitt etwa 9,76 gelbe Karten (`total_yellow_cards`) und 0,25 rote Karten (`total_red_cards`) im Verlauf ihrer Karriere. Das durchschnittliche Alter der Spieler (`age`) beträgt 31 Jahre, mit einer Spannweite von 17 bis 55 Jahren, was sowohl die jungen Talente als auch erfahrene Veteranen repräsentiert."
   ]
  },
  {
   "cell_type": "markdown",
   "metadata": {},
   "source": [
    "combined_data_agg[combined_data_agg[\"age\"]==55]"
   ]
  },
  {
   "cell_type": "markdown",
   "metadata": {},
   "source": [
    "#### Exploratory data analysis"
   ]
  },
  {
   "cell_type": "markdown",
   "metadata": {},
   "source": [
    "Für EDA lieber historisierte Daten nutzen? Spieler kommen öfters vor durch historisierung"
   ]
  },
  {
   "cell_type": "code",
   "execution_count": 41,
   "metadata": {},
   "outputs": [],
   "source": [
    "sns.histplot(combined_data_agg['current_market_value'], bins=50, kde=True)\n",
    "plt.title(\"Distribution of Current Market Values\")\n",
    "plt.show()"
   ]
  },
  {
   "cell_type": "markdown",
   "metadata": {},
   "source": [
    "fig = px.scatter(combined_data_agg, x='age', y='current_market_value', \n",
    "                  title=\"Scatterplot: Current Market Value vs Age\",\n",
    "                  labels={'age': 'Age (in years)', 'current_market_value': 'Current Market Value (€)'}, \n",
    "                  hover_data=[\"name\", \"age\"])\n",
    "fig.show()"
   ]
  },
  {
   "cell_type": "markdown",
   "metadata": {},
   "source": [
    "auch bei agg gibt es welche die öfters vorkommen hier versuchen den neusten Datensatz zu nehmen"
   ]
  },
  {
   "cell_type": "code",
   "execution_count": 42,
   "metadata": {},
   "outputs": [],
   "source": [
    "combined_data_agg[\"league_id\"]"
   ]
  },
  {
   "cell_type": "code",
   "execution_count": 43,
   "metadata": {},
   "outputs": [],
   "source": [
    "fig = px.scatter(combined_data_agg, x='total_goals', y='current_market_value', \n",
    "                  title=\"Scatterplot: Current Market Value vs Total Goals\",\n",
    "                  labels={'total_goals': 'Total Goals', 'current_market_value': 'Current Market Value (€)'},\n",
    "                  hover_data=[\"name\"])\n",
    "\n",
    "fig.show()"
   ]
  },
  {
   "cell_type": "markdown",
   "metadata": {},
   "source": [
    "idee eine Person als Bsp mit Hist "
   ]
  },
  {
   "cell_type": "code",
   "execution_count": 44,
   "metadata": {},
   "outputs": [],
   "source": [
    "fig = px.scatter(combined_data_agg, x='total_assists', y='current_market_value', \n",
    "                  title=\"Scatterplot: Current Market Value vs Assist Per Game\",\n",
    "                  labels={'total_assists': 'Total Assists', 'current_market_value': 'Current Market Value (€)'},\n",
    "                  hover_data=[\"name\", \"player_id\"])\n",
    "\n",
    "fig.show()"
   ]
  },
  {
   "cell_type": "code",
   "execution_count": 45,
   "metadata": {},
   "outputs": [],
   "source": [
    "lineplot_data = combined_data_hist[combined_data_hist['player_id'].isin([\"418560\", \"371998\", \"342229\"])]\n",
    "\n",
    "fig = px.line(\n",
    "    lineplot_data,\n",
    "    x='year',\n",
    "    y='historical_to_date__market_value',\n",
    "    color='name',  # Unterschiedliche Spieler durch Farben darstellen\n",
    "    line_group='player_id',\n",
    "    hover_data={\n",
    "        'name': True,\n",
    "        'goals_per_game': True,  # Tore als zusätzliche Info\n",
    "        'assists_per_game': True,  # Assists\n",
    "        'year': True,    # Jahr\n",
    "    },\n",
    "    title=\"Vergleich der Marktwertentwicklung mehrerer Spieler\",\n",
    "    labels={\n",
    "        'name': \"Name\",\n",
    "        'year': 'Jahr',\n",
    "        'goals_per_game': 'Tore pro Spiel',\n",
    "        'assists_per_game':'Assist pro Spiel',\n",
    "        'historical_to_date__market_value': 'Marktwert (in €)'\n",
    "    }\n",
    ")\n",
    "\n",
    "fig.update_layout(\n",
    "    xaxis_title=\"Jahr\",\n",
    "    yaxis_title=\"Marktwert (in €)\",\n",
    "    legend_title=\"Spieler\",\n",
    "    hovermode=\"x unified\"\n",
    ")\n",
    "\n",
    "fig.show()\n"
   ]
  },
  {
   "cell_type": "markdown",
   "metadata": {},
   "source": [
    "Das Diagramm zeigt die Marktwertentwicklung dreier Spieler – Kylian Mbappé, Erling Haaland und Vinícius Júnior – über die Jahre. Alle Spieler zeigen ein konstantes Wachstum ihres Marktwerts, was ihre steigende Leistung und Attraktivität auf dem Transfermarkt widerspiegelt. Besonders Kylian Mbappé sticht hervor: Ab 2017 steigt sein Marktwert rapide an und stabilisiert sich bei ca. 200 Millionen Euro, was seine Stellung als einer der teuersten Spieler der Welt unterstreicht. Im Gegensatz dazu zeigt Erling Haaland erst ab 2019 einen signifikanten Anstieg seines Marktwerts, der mit seinem internationalen Durchbruch korreliert. Vinícius Júnior weist eine stetige, aber weniger drastische Entwicklung auf, was auf eine kontinuierliche Leistungssteigerung hindeutet. Insgesamt spiegelt das Diagramm unterschiedliche Karriereverläufe wider, wobei bei Mbappé eine Stabilisierung und bei Haaland ein starkes Wachstum erkennbar ist."
   ]
  },
  {
   "cell_type": "code",
   "execution_count": 46,
   "metadata": {},
   "outputs": [],
   "source": [
    "fig = px.scatter(\n",
    "    lineplot_data,\n",
    "    x='year',\n",
    "    y='historical_to_date__market_value',\n",
    "    color='name',\n",
    "    size='goals_per_game',  # Punktgröße basiert auf Toren pro Spiel\n",
    "    hover_data={\n",
    "        'name': True,\n",
    "        'goals_per_game': True,\n",
    "        'assists_per_game': True,\n",
    "        'height_in_cm': True,\n",
    "        'year': True,\n",
    "        'age': True,\n",
    "    },\n",
    "    title=\"Vergleich der Marktwertentwicklung mit Toren\",\n",
    "    labels={\n",
    "        'name': \"Name\",\n",
    "        'year': 'Jahr',\n",
    "        'historical_to_date__market_value': 'Marktwert (in €)',\n",
    "        'goals_per_game': 'Tore pro Spiel',\n",
    "        'assists_per_game':'Assist pro Spiel',\n",
    "        'age': \"Alter\",\n",
    "        'height_in_cm': \"Größe in cm\"\n",
    "    }\n",
    ")\n",
    "\n",
    "fig.update_traces(mode='lines+markers')  # Linien und Marker\n",
    "fig.update_layout(\n",
    "    legend_title=\"Spieler\",\n",
    "    hovermode=\"x unified\",\n",
    ")\n",
    "\n",
    "fig.show()\n"
   ]
  },
  {
   "cell_type": "markdown",
   "metadata": {},
   "source": [
    "Diese Diagramm erweitert die Analyse, indem es den Marktwert mit der Anzahl der Tore pro Spiel (dargestellt durch die Kreisgrößen) verknüpft. Hier zeigt sich ein klarer Zusammenhang: Spieler mit höheren Torzahlen, wie Erling Haaland ab 2020, tendieren zu einem stark ansteigenden Marktwert. Kylian Mbappé hingegen bleibt unabhängig von seiner Torleistung auf konstant hohem Marktwert, was zeigt, dass sein Status als Starspieler und sein Werbewert eine zentrale Rolle spielen. Vinícius Júnior hat kleinere Kreise (weniger Tore pro Spiel), bleibt aber dennoch stabil im Marktwert. Besonders auffällig ist die Entwicklung Haalands: Seine Leistungssteigerung in Form vieler Tore führt zu einer entsprechenden Steigerung seines Marktwerts. Dieses Diagramm unterstreicht, wie sportliche Leistungen, insbesondere Tore, bei aufstrebenden Spielern den Marktwert beeinflussen, während bei etablierten Stars wie Mbappé andere Faktoren dominieren."
   ]
  },
  {
   "cell_type": "markdown",
   "metadata": {},
   "source": [
    "position in abhängikeit anderer\n",
    "filtern auf postion und dann eda\n",
    "\n",
    "Lables gleich machen\n",
    "\n",
    "noch ein Dataframe für die besten fünf ligen ?"
   ]
  },
  {
   "cell_type": "markdown",
   "metadata": {},
   "source": [
    "##### Analyse nach Postition"
   ]
  },
  {
   "cell_type": "code",
   "execution_count": 47,
   "metadata": {},
   "outputs": [],
   "source": [
    "avg_value = combined_data_agg.groupby(\"position\")[\"current_market_value\"].mean().reset_index()\n",
    "avg_value = avg_value.sort_values(\"current_market_value\", ascending=False)\n",
    "fig = px.bar(avg_value, x=\"position\", y=\"current_market_value\",\n",
    "             title=\"Durchschnittlicher Marktwert pro Position\",\n",
    "             labels={'position': 'Position', 'current_market_value': 'Marktwert (€)'},\n",
    "             color=\"current_market_value\",  \n",
    "             color_continuous_scale=\"magma\" )\n",
    "fig.update_coloraxes(colorbar_title=\"Marktwert (€)\")\n",
    "fig.show()\n"
   ]
  },
  {
   "cell_type": "code",
   "execution_count": 48,
   "metadata": {},
   "outputs": [],
   "source": [
    "fig = px.scatter(combined_data_agg, x=\"height_in_cm\", y=\"current_market_value\", color=\"position\",\n",
    "                 hover_data=[\"name\"], \n",
    "                 labels={'height_in_cm': 'Größe (in cm)', 'current_market_value': 'Marktwert (€)', 'name': \"Name\", \"position\": \"Position\"},\n",
    "                 title=\"Alter vs. Marktwert nach Position\")\n",
    "fig.show()\n"
   ]
  },
  {
   "cell_type": "code",
   "execution_count": 49,
   "metadata": {},
   "outputs": [],
   "source": [
    "fig = px.scatter(combined_data_agg, x=\"total_goals\", y=\"current_market_value\", color=\"position\",\n",
    "                 hover_data=[\"name\"], \n",
    "                 labels={'total_goals': 'Gesamt Tore', 'current_market_value': 'Marktwert (€)', 'name': \"Name\", \"position\": \"Position\"},\n",
    "                 title=\"Alter vs. Marktwert nach Position\")\n",
    "fig.show()"
   ]
  },
  {
   "cell_type": "code",
   "execution_count": 50,
   "metadata": {},
   "outputs": [],
   "source": [
    "fig = px.scatter(combined_data_agg, x=\"total_goals\", y=\"current_market_value\", \n",
    "                 size=\"total_assists\", color=\"position\", hover_name=\"name\",\n",
    "                 labels={'total_goals': 'Gesamt Tore',\"total_assists\":\"Gesamt Assists\", 'current_market_value': 'Marktwert (€)', 'name': \"Name\", \"position\": \"Position\"},\n",
    "                 title=\"Marktwert vs. Tore (Größe: Assists)\")\n",
    "fig.show()\n"
   ]
  },
  {
   "cell_type": "code",
   "execution_count": 51,
   "metadata": {},
   "outputs": [],
   "source": [
    "fig = px.scatter(combined_data_agg, x='total_minutes_played', y='current_market_value', \n",
    "                  title=\"Scatterplot: Current Market Value vs Minutes Played\",\n",
    "                  labels={'minutes_played': 'Gespielte Minuten', 'current_market_value': 'Marktwert (€)'},\n",
    "                  hover_data=[\"name\"])\n",
    "\n",
    "fig.show()"
   ]
  },
  {
   "cell_type": "code",
   "execution_count": 52,
   "metadata": {},
   "outputs": [],
   "source": [
    "combined_data_hist"
   ]
  },
  {
   "cell_type": "code",
   "execution_count": 54,
   "metadata": {},
   "outputs": [],
   "source": [
    "\n",
    "fig_data = combined_data_hist.groupby(['year', 'position'])['historical_to_date__market_value'].mean().reset_index()\n",
    "\n",
    "\n",
    "fig = px.line(fig_data, x='year', y='historical_to_date__market_value', color='position',\n",
    "              title='Entwicklung des durchschnittlichen Marktwerts nach Position',\n",
    "              labels={'year': 'Datum', \n",
    "                      'historical_to_date__market_value': 'Durchschnittlicher Marktwert',\n",
    "                      'position': 'Position'})\n",
    "\n",
    "\n",
    "fig.update_layout(legend_title_text='Position')\n",
    "fig.update_xaxes(title_text='Datum')\n",
    "fig.update_yaxes(title_text='Durchschnittlicher Marktwert (€)')\n",
    "fig.update_layout(\n",
    "    hovermode=\"x unified\"\n",
    ")\n",
    "\n",
    "fig.show()"
   ]
  },
  {
   "cell_type": "code",
   "execution_count": 53,
   "metadata": {},
   "outputs": [],
   "source": [
    "goalkeepers = combined_data_hist[combined_data_hist['position'] == 'Goalkeeper']\n",
    "\n",
    "fig = px.scatter(goalkeepers, \n",
    "                 x='height_in_cm', \n",
    "                 y='current_market_value',\n",
    "                 hover_data=['name', 'age'],\n",
    "                 labels={'current_market_value': 'Marktwert (€)', \"age\":\"Alter\", 'name': \"Name\", \"position\": \"Position\", 'height_in_cm': 'Größe (in cm)'},\n",
    "                 title='Torwart: Größe vs. Marktwert')\n",
    "\n",
    "fig.update_layout(\n",
    "    xaxis_title='Größe (cm)',\n",
    "    yaxis_title='Marktwert (€)'\n",
    ")\n",
    "\n",
    "fig.show()"
   ]
  },
  {
   "cell_type": "code",
   "execution_count": 55,
   "metadata": {},
   "outputs": [],
   "source": [
    "defenders = combined_data_hist[combined_data_hist['sub_position'].isin(['Centre-Back', 'Left-Back', 'Right-Back'])]\n",
    "\n",
    "fig = px.scatter(defenders, \n",
    "                 x='height_in_cm', \n",
    "                 y='current_market_value',\n",
    "                 color='sub_position',\n",
    "                 hover_data=['name', 'age', 'yellow_cards_per_game'],\n",
    "                 labels={'current_market_value': 'Marktwert (€)',\"yellow_cards_per_game\":\"Gelbe Karten Pro Spiel\", \"sub_position\":\"Sub-Position\", \"age\":\"Alter\", 'name': \"Name\", \"position\": \"Position\", 'height_in_cm': 'Größe (in cm)'},\n",
    "                 title='Verteidiger: Größe vs. Marktwert')\n",
    "\n",
    "fig.update_layout(\n",
    "    xaxis_title='Größe (cm)',\n",
    "    yaxis_title='Marktwert (€)',\n",
    "    legend_title='Position'\n",
    ")\n",
    "\n",
    "fig.show()"
   ]
  },
  {
   "cell_type": "code",
   "execution_count": 56,
   "metadata": {},
   "outputs": [],
   "source": [
    "midfielders = combined_data_agg[combined_data_agg['sub_position'].isin(['Defensive Midfield', 'Central Midfield', 'Attacking Midfield'])]\n",
    "\n",
    "fig = px.scatter(midfielders, \n",
    "                 x='total_assists', \n",
    "                 y='current_market_value',\n",
    "                 color='sub_position',\n",
    "                 hover_data=['name', 'age', 'total_goals'],\n",
    "                 labels={'current_market_value': 'Marktwert (€)',\"total_goals\":\"Gesamte Tore\", \"sub_position\":\"Sub-Position\", \"age\":\"Alter\", 'name': \"Name\", \"total_assists\": \"Gesamte Assists\", 'height_in_cm': 'Größe (in cm)'},\n",
    "                 title='Mittelfeldspieler: Vorlagen pro Spiel vs. Marktwert')\n",
    "\n",
    "fig.update_layout(\n",
    "    xaxis_title='Vorlagen pro Spiel',\n",
    "    yaxis_title='Marktwert (€)',\n",
    "    legend_title='Position'\n",
    ")\n",
    "\n",
    "fig.show()"
   ]
  },
  {
   "cell_type": "code",
   "execution_count": 57,
   "metadata": {},
   "outputs": [],
   "source": [
    "forwards = combined_data_agg[combined_data_agg['sub_position'].isin(['Centre-Forward', 'Second Striker', 'Left Winger', 'Right Winger'])]\n",
    "\n",
    "fig = px.scatter(forwards, \n",
    "                 x='total_goals', \n",
    "                 y='current_market_value',\n",
    "                 color='sub_position',\n",
    "                 hover_data=['name', 'age', 'total_assists'],\n",
    "                 labels={'current_market_value': 'Marktwert (€)',\"total_goals\":\"Gesamte Tore\", \"sub_position\":\"Sub-Position\", \"age\":\"Alter\", 'name': \"Name\", \"total_assists\": \"Gesamte Assists\", 'height_in_cm': 'Größe (in cm)'},\n",
    "                 title='Stürmer: Tore pro Spiel vs. Marktwert')\n",
    "\n",
    "fig.update_layout(\n",
    "    xaxis_title='Tore pro Spiel',\n",
    "    yaxis_title='Marktwert (€)',\n",
    "    legend_title='Position'\n",
    ")\n",
    "\n",
    "fig.show()"
   ]
  },
  {
   "cell_type": "code",
   "execution_count": 58,
   "metadata": {},
   "outputs": [],
   "source": [
    "fig = px.box(combined_data_agg, x=\"foot\", y=\"current_market_value\", color=\"position\",\n",
    "             title=\"Marktwert nach bevorzugtem Fuß und Position\",\n",
    "             labels={'current_market_value': 'Marktwert (€)',\"foot\":\"Fuß\", \"position\":\"Position\"})\n",
    "\n",
    "fig.update_layout(\n",
    "    xaxis_title=\"Bevorzugter Fuß\",\n",
    "    yaxis_title=\"Marktwert (€)\",\n",
    "    legend_title=\"Position\"\n",
    ")\n",
    "\n",
    "fig.show()"
   ]
  },
  {
   "cell_type": "code",
   "execution_count": 59,
   "metadata": {},
   "outputs": [],
   "source": [
    "fig = px.box(combined_data_agg_no_outliers, x=\"foot\", y=\"current_market_value\", color=\"position\",\n",
    "             title=\"Marktwert nach bevorzugtem Fuß und Position\",\n",
    "             labels={'current_market_value': 'Marktwert (€)',\"foot\":\"Fuß\", \"position\":\"Position\"})\n",
    "\n",
    "fig.update_layout(\n",
    "    xaxis_title=\"Bevorzugter Fuß\",\n",
    "    yaxis_title=\"Marktwert (€)\",\n",
    "    legend_title=\"Position\"\n",
    ")\n",
    "\n",
    "fig.show()"
   ]
  },
  {
   "cell_type": "code",
   "execution_count": 60,
   "metadata": {},
   "outputs": [],
   "source": [
    "\n",
    "top_5_leagues = ['GB1', 'ES1', 'FR1', 'IT1', 'L1']\n",
    "\n",
    "\n",
    "filtered_data = combined_data_agg[combined_data_agg['league_id'].isin(top_5_leagues)]\n",
    "\n",
    "fig = px.box(filtered_data, x=\"foot\", y=\"current_market_value\", color=\"position\",\n",
    "             facet_col=\"league_id\",\n",
    "             title=\"Marktwert nach bevorzugtem Fuß, Position und Liga\",\n",
    "             labels={'current_market_value': 'Marktwert (€)',\"foot\":\"Fuß\", \"position\":\"Position\", \"league_id\":\"Liga\"})\n",
    "\n",
    "fig.update_layout(\n",
    "    xaxis_title=\"Bevorzugter Fuß\",\n",
    "    yaxis_title=\"Marktwert (€)\",\n",
    "    legend_title=\"Position\"\n",
    ")\n",
    "\n",
    "fig.for_each_annotation(lambda a: a.update(text=a.text.split(\"=\")[-1]))\n",
    "\n",
    "fig.show()\n"
   ]
  },
  {
   "cell_type": "code",
   "execution_count": 61,
   "metadata": {},
   "outputs": [],
   "source": [
    "\n",
    "\n",
    "top_5_leagues = ['GB1', 'ES1', 'FR1', 'IT1', 'L1']\n",
    "\n",
    "\n",
    "active_players = combined_data_agg[(combined_data_agg[\"is_retired\"] == False) & (combined_data_agg[\"league_id\"].isin(top_5_leagues))]\n",
    "\n",
    "\n",
    "top_countries = active_players.groupby(\"country_of_citizenship\").agg({\n",
    "    \"current_market_value\": \"mean\",\n",
    "    \"player_id\": \"count\"\n",
    "}).reset_index()\n",
    "\n",
    "min_players = 50\n",
    "top_countries_filtered = top_countries[top_countries[\"player_id\"] >= min_players]\n",
    "\n",
    "top_10_countries = top_countries_filtered.sort_values(\"current_market_value\", ascending=False).head(10)\n",
    "\n",
    "fig = px.bar(top_10_countries, \n",
    "             x=\"country_of_citizenship\", \n",
    "             y=\"current_market_value\",\n",
    "             color=\"player_id\",  # Farbkodierung basierend auf der Anzahl der Spieler\n",
    "             text=\"player_id\",\n",
    "             labels={'current_market_value': 'Marktwert (€)',\"foot\":\"Fuß\", \"country_of_citizenship\":\"Staatsbügerschaft\", \"league_id\":\"Liga\"},\n",
    "             title=f\"Top 10 Länder nach durchschnittlichem Marktwert (nur aktive Spieler in Top 5 Ligen, mind. {min_players} Spieler)\")\n",
    "\n",
    "fig.update_layout(\n",
    "    xaxis_title=\"Land der Staatsbürgerschaft\",\n",
    "    yaxis_title=\"Durchschnittlicher Marktwert (€)\",\n",
    "    xaxis_tickangle=-45,\n",
    "    coloraxis_colorbar_title=\"Anzahl der Spieler\"\n",
    ")\n",
    "\n",
    "\n",
    "fig.update_traces(texttemplate='%{text} Spieler', textposition='outside')\n",
    "\n",
    "fig.show()\n",
    "\n"
   ]
  },
  {
   "cell_type": "markdown",
   "metadata": {},
   "source": [
    "#### Relationships"
   ]
  },
  {
   "cell_type": "markdown",
   "metadata": {},
   "source": [
    "Frage welche Bedeutung hat Multikorrelation hier"
   ]
  },
  {
   "cell_type": "code",
   "execution_count": 62,
   "metadata": {},
   "outputs": [],
   "source": [
    "correlation_matrix = numeric_combined_data.corr()\n",
    "\n",
    "plt.figure(figsize=(18, 16)) \n",
    "sns.set_theme(style=\"white\", font_scale=1.1)\n",
    "\n",
    "# Heatmap zeichnen\n",
    "sns.heatmap(\n",
    "    correlation_matrix, \n",
    "    annot=True, \n",
    "    fmt=\".2f\", \n",
    "    cmap=\"coolwarm\", \n",
    "    cbar_kws={'shrink': 0.8},  \n",
    "    linewidths=0.5, \n",
    "    square=True\n",
    ")\n",
    "\n",
    "# Titel und Anzeige\n",
    "plt.title(\"Korrelation der Merkmale\", fontsize=20, pad=30)\n",
    "plt.xticks(rotation=45, ha=\"right\")  \n",
    "plt.yticks(rotation=0)  \n",
    "plt.tight_layout()  \n",
    "plt.show()"
   ]
  },
  {
   "cell_type": "markdown",
   "metadata": {},
   "source": [
    "Die Korrelationsmatrix zeigt die linearen Zusammenhänge zwischen den verschiedenen numerischen Merkmalen des Datensatzes, die zur Vorhersage des Marktwertes von Fußballspielern verwendet werden. Werte nahe 1 oder -1 deuten auf starke positive bzw. negative Korrelationen hin, während Werte nahe 0 auf geringe oder keine Korrelation hinweisen. Beispielsweise zeigt die Variable \"highest_market_value_in_eur\" mit 0.72 eine starke positive Korrelation mit dem aktuellen Marktwert (\"current_market_value\"), was intuitiv Sinn ergibt, da der bisher höchste Marktwert eines Spielers ein guter Indikator für dessen aktuellen Marktwert ist. Variablen wie \"age\" und \"red_cards\" zeigen eher geringe oder negative Korrelationen, was darauf schließen lässt, dass diese Faktoren weniger stark mit dem Marktwert in Zusammenhang stehen."
   ]
  },
  {
   "cell_type": "code",
   "execution_count": 63,
   "metadata": {},
   "outputs": [],
   "source": [
    "import statsmodels.api as sm\n",
    "from statsmodels.stats.outliers_influence import variance_inflation_factor\n",
    "\n",
    "# Features auswählen\n",
    "features = numeric_combined_data\n",
    "\n",
    "# Entfernen von fehlenden Werten\n",
    "features = features.dropna()\n",
    "\n",
    "# Konstanten hinzufügen\n",
    "features_with_constant = sm.add_constant(features)\n",
    "\n",
    "# VIF berechnen\n",
    "vif_data = pd.DataFrame()\n",
    "vif_data['Variable'] = features_with_constant.columns\n",
    "vif_data['VIF'] = [variance_inflation_factor(features_with_constant.values, i) for i in range(features_with_constant.shape[1])]\n",
    "\n",
    "print(vif_data)\n"
   ]
  },
  {
   "cell_type": "markdown",
   "metadata": {},
   "source": [
    "anova"
   ]
  },
  {
   "cell_type": "code",
   "execution_count": 67,
   "metadata": {},
   "outputs": [],
   "source": [
    "# Kopiere die Daten für die Bereinigung\n",
    "data_cleaned = numeric_combined_data\n",
    "\n",
    "# Entferne problematische oder redundante Variablen\n",
    "data_cleaned = data_cleaned.drop(columns=[\n",
    "    #'transfer_fee',              \n",
    "    #'transfer_market_value',     \n",
    "    #'transfer_fee_gap',          \n",
    "    'total_minutes_played',      \n",
    "    'total_goals',               \n",
    "    'total_assists',             \n",
    "    'total_yellow_cards',        \n",
    "    'total_red_cards',           \n",
    "    'total_matches'              \n",
    "])\n",
    "\n",
    "features = data_cleaned.dropna()\n",
    "\n",
    "# Konstanten hinzufügen\n",
    "features_with_constant = sm.add_constant(features)\n",
    "\n",
    "# VIF berechnen\n",
    "vif_data = pd.DataFrame()\n",
    "vif_data['Variable'] = features_with_constant.columns\n",
    "vif_data['VIF'] = [variance_inflation_factor(features_with_constant.values, i) for i in range(features_with_constant.shape[1])]\n",
    "\n",
    "print(vif_data)"
   ]
  },
  {
   "cell_type": "markdown",
   "metadata": {},
   "source": [
    "Der Variance Inflation Factor (VIF) misst die Multikollinearität zwischen unabhängigen Variablen in einem Datensatz. Ein hoher VIF-Wert weist darauf hin, dass eine Variable stark mit anderen korreliert ist, was in Modellen wie der linearen Regression zu Verzerrungen führen kann. In diesem Schritt wurden die VIF-Werte für alle Variablen berechnet, problematische Variablen mit sehr hohen VIF-Werten identifiziert und entweder entfernt oder so transformiert, dass die Multikollinearität reduziert wurde. Ziel war es, ein Dataframe mit unabhängigen Prädiktoren zu erstellen."
   ]
  },
  {
   "cell_type": "code",
   "execution_count": 65,
   "metadata": {},
   "outputs": [],
   "source": [
    "data_cleaned"
   ]
  },
  {
   "cell_type": "code",
   "execution_count": null,
   "metadata": {},
   "outputs": [],
   "source": [
    "correlation_matrix = numeric_combined_data.corr()\n",
    "\n",
    "plt.figure(figsize=(18, 16)) \n",
    "sns.set_theme(style=\"white\", font_scale=1.1)\n",
    "\n",
    "\n",
    "sns.heatmap(\n",
    "    correlation_matrix, \n",
    "    annot=True, \n",
    "    fmt=\".2f\", \n",
    "    cmap=\"coolwarm\", \n",
    "    cbar_kws={'shrink': 0.8},  \n",
    "    linewidths=0.5, \n",
    "    square=True\n",
    ")\n",
    "\n",
    "\n",
    "plt.title(\"Korrelation der Merkmale\", fontsize=20, pad=30)\n",
    "plt.xticks(rotation=45, ha=\"right\")  \n",
    "plt.yticks(rotation=0)  \n",
    "plt.tight_layout()  \n",
    "plt.show()"
   ]
  },
  {
   "cell_type": "code",
   "execution_count": 66,
   "metadata": {},
   "outputs": [],
   "source": [
    "import statsmodels.api as sm\n",
    "from statsmodels.stats.outliers_influence import variance_inflation_factor\n",
    "\n",
    "# Features auswählen\n",
    "features = numeric_combined_data\n",
    "\n",
    "# Entfernen von fehlenden Werten\n",
    "features = features.dropna()\n",
    "\n",
    "# Konstanten hinzufügen\n",
    "features_with_constant = sm.add_constant(features)\n",
    "\n",
    "# VIF berechnen\n",
    "vif_data = pd.DataFrame()\n",
    "vif_data['Variable'] = features_with_constant.columns\n",
    "vif_data['VIF'] = [variance_inflation_factor(features_with_constant.values, i) for i in range(features_with_constant.shape[1])]\n",
    "\n",
    "print(vif_data)"
   ]
  },
  {
   "cell_type": "markdown",
   "metadata": {},
   "source": [
    "## Methodology"
   ]
  },
  {
   "cell_type": "markdown",
   "metadata": {},
   "source": [
    "> REMOVE THE FOLLOWING TEXT\n",
    "\n",
    "This section includes a brief description of your modeling process.\n",
    "\n",
    "Explain the reasoning for the type of model you're fitting, predictor variables considered for the model.\n",
    "\n",
    "Additionally, show how you arrived at the final model by describing the model selection process, variable transformations (if needed), assessment of conditions and diagnostics, and any other relevant considerations that were part of the model fitting process."
   ]
  },
  {
   "cell_type": "markdown",
   "metadata": {},
   "source": [
    "#### Variable lists"
   ]
  },
  {
   "cell_type": "code",
   "execution_count": 130,
   "metadata": {},
   "outputs": [],
   "source": [
    "combined_data_filtered.columns"
   ]
  },
  {
   "cell_type": "markdown",
   "metadata": {},
   "source": [
    "doppelte rausmachen"
   ]
  },
  {
   "cell_type": "code",
   "execution_count": 131,
   "metadata": {},
   "outputs": [],
   "source": [
    "features = [\n",
    "    \"height_in_cm\", \"age\", \"minutes_played\", \"goals\", \"assists\", \n",
    "    \"yellow_cards\", \"red_cards\", \"transfer_fee\", \"transfer_fee_gap\", \n",
    "    \"country_of_citizenship\", \"foot\", \"last_season\", \"position\", 'goals_per_game',\n",
    "       'assists_per_game', 'yellow_cards_per_game', 'red_cards_per_game',\n",
    "       'minutes_played_per_game','age', 'is_retired'\n",
    "]\n",
    "\n",
    "target = \"current_market_value\""
   ]
  },
  {
   "cell_type": "markdown",
   "metadata": {},
   "source": [
    "features = [\n",
    "    \"height_in_cm\", \"age\", \"minutes_played\", \"goals\", \"assists\", \n",
    "    \"yellow_cards\", \"red_cards\", \"transfer_fee\", \"transfer_fee_gap\", \n",
    "    \"country_of_citizenship\", \"foot\"\n",
    "]"
   ]
  },
  {
   "cell_type": "markdown",
   "metadata": {},
   "source": [
    "### Select model"
   ]
  },
  {
   "cell_type": "code",
   "execution_count": 146,
   "metadata": {},
   "outputs": [],
   "source": [
    "rf_model = RandomForestRegressor(n_estimators=100, max_depth=10, random_state=42)\n",
    "lr_model = LinearRegression()"
   ]
  },
  {
   "cell_type": "markdown",
   "metadata": {},
   "source": [
    "### Modell mit Ausreißer"
   ]
  },
  {
   "cell_type": "markdown",
   "metadata": {},
   "source": [
    "#### Data splitting"
   ]
  },
  {
   "cell_type": "code",
   "execution_count": 185,
   "metadata": {},
   "outputs": [],
   "source": [
    "X = pd.get_dummies(combined_data_filtered[features], drop_first=True)\n",
    "y = combined_data_filtered[target]\n",
    "X_train, X_test, y_train, y_test = train_test_split(X, y, test_size=0.2, random_state=42)"
   ]
  },
  {
   "cell_type": "code",
   "execution_count": 186,
   "metadata": {},
   "outputs": [],
   "source": [
    "print(X.shape)\n",
    "print(y.shape)"
   ]
  },
  {
   "cell_type": "markdown",
   "metadata": {},
   "source": [
    "#### Training and validation"
   ]
  },
  {
   "cell_type": "markdown",
   "metadata": {},
   "source": [
    "##### Lineare Regression"
   ]
  },
  {
   "cell_type": "code",
   "execution_count": 187,
   "metadata": {},
   "outputs": [],
   "source": [
    "print(X_train.isnull().sum())\n",
    "print(X_test.isnull().sum())"
   ]
  },
  {
   "cell_type": "code",
   "execution_count": 188,
   "metadata": {},
   "outputs": [],
   "source": [
    "X_train_filled = X_train.fillna(X.median())\n",
    "X_test_filled = X_test.fillna(X.median())"
   ]
  },
  {
   "cell_type": "code",
   "execution_count": 190,
   "metadata": {},
   "outputs": [],
   "source": [
    "print(f\"Länge von X_train_filled: {len(X_train_filled)}\")\n",
    "print(f\"Länge von y_train: {len(y_train)}\")"
   ]
  },
  {
   "cell_type": "code",
   "execution_count": 191,
   "metadata": {},
   "outputs": [],
   "source": [
    "lr_model.fit(X_train_filled, y_train)"
   ]
  },
  {
   "cell_type": "markdown",
   "metadata": {},
   "source": [
    "##### RandomForestRegressor"
   ]
  },
  {
   "cell_type": "code",
   "execution_count": 192,
   "metadata": {},
   "outputs": [],
   "source": [
    "rf_model.fit(X_train, y_train)"
   ]
  },
  {
   "cell_type": "markdown",
   "metadata": {},
   "source": [
    "### Modell ohne Ausreißer"
   ]
  },
  {
   "cell_type": "markdown",
   "metadata": {},
   "source": [
    "#### Data splitting"
   ]
  },
  {
   "cell_type": "code",
   "execution_count": 163,
   "metadata": {},
   "outputs": [],
   "source": [
    "X_no = pd.get_dummies(combined_data_no_outliers[features], drop_first=True)\n",
    "y_no = combined_data_no_outliers[target]\n",
    "X_train_no, X_test_no, y_train_no, y_test_no = train_test_split(X_no, y_no, test_size=0.2, random_state=42)"
   ]
  },
  {
   "cell_type": "markdown",
   "metadata": {},
   "source": [
    "#### Training and validation"
   ]
  },
  {
   "cell_type": "markdown",
   "metadata": {},
   "source": [
    "##### Lineare Regression"
   ]
  },
  {
   "cell_type": "code",
   "execution_count": 164,
   "metadata": {},
   "outputs": [],
   "source": [
    "print(X_train_no.isnull().sum())\n",
    "print(X_test_no.isnull().sum())"
   ]
  },
  {
   "cell_type": "code",
   "execution_count": 165,
   "metadata": {},
   "outputs": [],
   "source": [
    "X_train_filled_no = X_train_no.fillna(X.median())\n",
    "X_test_filled_no = X_test_no.fillna(X.median())"
   ]
  },
  {
   "cell_type": "code",
   "execution_count": 166,
   "metadata": {},
   "outputs": [],
   "source": [
    "print(f\"Länge von X__train_filled: {len(X_train_filled_no)}\")\n",
    "print(f\"Länge von y_train: {len(y_train_no)}\")"
   ]
  },
  {
   "cell_type": "code",
   "execution_count": 176,
   "metadata": {},
   "outputs": [],
   "source": [
    "lr_model_no = lr_model.fit(X_train_filled_no, y_train_no)"
   ]
  },
  {
   "cell_type": "markdown",
   "metadata": {},
   "source": [
    "##### RandomForestRegressor"
   ]
  },
  {
   "cell_type": "code",
   "execution_count": 173,
   "metadata": {},
   "outputs": [],
   "source": [
    "rf_model_no = rf_model.fit(X_train_no, y_train_no)"
   ]
  },
  {
   "cell_type": "markdown",
   "metadata": {},
   "source": [
    "### Fit model"
   ]
  },
  {
   "cell_type": "code",
   "execution_count": 193,
   "metadata": {},
   "outputs": [],
   "source": [
    "lr_predictions = lr_model.predict(X_test_filled)\n",
    "lr_predictions_no = lr_model_no.predict(X_test_filled_no)"
   ]
  },
  {
   "cell_type": "code",
   "execution_count": 194,
   "metadata": {},
   "outputs": [],
   "source": [
    "rf_predictions = rf_model.predict(X_test)\n",
    "rf_predictions_no = rf_model_no.predict(X_test_no)"
   ]
  },
  {
   "cell_type": "markdown",
   "metadata": {},
   "source": [
    "## Results"
   ]
  },
  {
   "cell_type": "markdown",
   "metadata": {},
   "source": [
    "> REMOVE THE FOLLOWING TEXT\n",
    "\n",
    "This is where you will output the final model with any relevant model fit statistics.\n",
    "\n",
    "Describe the key results from the model.\n",
    "The goal is not to interpret every single variable in the model but rather to show that you are proficient in using the model output to address the research questions, using the interpretations to support your conclusions.\n",
    "\n",
    "Focus on the variables that help you answer the research question and that provide relevant context for the reader.\n"
   ]
  },
  {
   "cell_type": "markdown",
   "metadata": {},
   "source": [
    "### Evaluation on test set"
   ]
  },
  {
   "cell_type": "code",
   "execution_count": 195,
   "metadata": {},
   "outputs": [],
   "source": [
    "lr_mse = mean_squared_error(y_test, lr_predictions)\n",
    "lr_r2 = r2_score(y_test, lr_predictions)\n",
    "print(\"Linear Regression - Mean Squared Error:\", lr_mse)\n",
    "print(\"Linear Regression - R-squared:\", lr_r2)\n",
    "\n",
    "lr_mse_no = mean_squared_error(y_test_no, lr_predictions_no)\n",
    "lr_r2_no = r2_score(y_test_no, lr_predictions_no)\n",
    "print(\"Linear Regression No Outliers - Mean Squared Error:\", lr_mse_no)\n",
    "print(\"Linear Regression No Outliers - R-squared:\", lr_r2_no)"
   ]
  },
  {
   "cell_type": "code",
   "execution_count": 196,
   "metadata": {},
   "outputs": [],
   "source": [
    "# Evaluating the models using Mean Squared Error and R-squared.\n",
    "rf_mse = mean_squared_error(y_test, rf_predictions)\n",
    "rf_r2 = r2_score(y_test, rf_predictions)\n",
    "print(\"Random Forest - Mean Squared Error:\", rf_mse)\n",
    "print(\"Random Forest - R-squared:\", rf_r2)\n",
    "\n",
    "rf_mse_no = mean_squared_error(y_test_no, rf_predictions_no)\n",
    "rf_r2_no = r2_score(y_test_no, rf_predictions_no)\n",
    "print(\"Random Forest No Outliers - Mean Squared Error:\", rf_mse_no)\n",
    "print(\"Random Forest No Outliers - R-squared:\", rf_r2_no)"
   ]
  },
  {
   "cell_type": "markdown",
   "metadata": {},
   "source": [
    "Warum ist das Ergebnis so schlecht ohne Ausreißer"
   ]
  },
  {
   "cell_type": "markdown",
   "metadata": {},
   "source": [
    "Der hohe MSE resultiert vor allem aus der Skalierung der Zielvariable, den Marktwerten von Fußballspielern, die teilweise extrem hoch ausfallen. Da der MSE die Fehlerwerte quadriert, wirken sich auch kleinere Abweichungen bei hohen Marktwerten überproportional stark auf das Gesamtergebnis aus. Zusätzlich tragen die große Varianz in den Daten und das Vorhandensein von Outliern – also Spielern mit außergewöhnlich hohen Marktwerten – dazu bei, dass die Fehlerspanne weiter ansteigt. Diese extremen Werte sind schwer vorherzusagen und führen zu einer Verschlechterung des MSE."
   ]
  },
  {
   "cell_type": "code",
   "execution_count": null,
   "metadata": {},
   "outputs": [],
   "source": [
    "residuals = y_test - lr_predictions\n",
    "\n",
    "plt.figure(figsize=(10, 6))\n",
    "plt.hist(residuals, bins=50, edgecolor='k', alpha=0.7)\n",
    "plt.title(\"Verteilung der Residuen (Linear Regression)\")\n",
    "plt.xlabel(\"Residuum\")\n",
    "plt.ylabel(\"Häufigkeit\")\n",
    "plt.grid(True)\n",
    "plt.show()"
   ]
  },
  {
   "cell_type": "code",
   "execution_count": 197,
   "metadata": {},
   "outputs": [],
   "source": [
    "residuals = y_test - lr_predictions\n",
    "\n",
    "plt.figure(figsize=(10, 6))\n",
    "plt.hist(residuals, bins=50, edgecolor='k', alpha=0.7)\n",
    "plt.title(\"Verteilung der Residuen (Linear Regression)\")\n",
    "plt.xlabel(\"Residuum\")\n",
    "plt.ylabel(\"Häufigkeit\")\n",
    "plt.grid(True)\n",
    "plt.show()"
   ]
  },
  {
   "cell_type": "markdown",
   "metadata": {},
   "source": [
    "Die Verteilung der Residuen zeigt, wie genau ein Modell die tatsächlichen Werte vorhersagen kann. Bei der Linearen Regression ist die Fehlerverteilung zwar symmetrisch um den Wert Null, jedoch deutlich breiter. Dies bedeutet, dass die Lineare Regression größere Fehler (Residuen) produziert. Insbesondere zeigt der rechte Rand der Verteilung, dass das Modell einige Vorhersagen erheblich überschätzt hat. Die Häufigkeit von Residuen nahe Null ist zwar hoch, dennoch führen die großen Fehler dazu, dass die Leistung des Modells beeinträchtigt wird. Diese breitere Streuung deutet darauf hin, dass die Lineare Regression die nichtlinearen und komplexen Zusammenhänge in den Daten nicht ausreichend abbilden kann."
   ]
  },
  {
   "cell_type": "code",
   "execution_count": null,
   "metadata": {},
   "outputs": [],
   "source": [
    "residuals = y_test - rf_predictions\n",
    "\n",
    "plt.figure(figsize=(10, 6))\n",
    "plt.hist(residuals, bins=50, edgecolor='k', alpha=0.7)\n",
    "plt.title(\"Verteilung der Residuen (Random Forest Regression)\")\n",
    "plt.xlabel(\"Residuum\")\n",
    "plt.ylabel(\"Häufigkeit\")\n",
    "plt.grid(True)\n",
    "plt.show()"
   ]
  },
  {
   "cell_type": "code",
   "execution_count": 198,
   "metadata": {},
   "outputs": [],
   "source": [
    "residuals = y_test - rf_predictions\n",
    "\n",
    "plt.figure(figsize=(10, 6))\n",
    "plt.hist(residuals, bins=50, edgecolor='k', alpha=0.7)\n",
    "plt.title(\"Verteilung der Residuen (Random Forest Regression)\")\n",
    "plt.xlabel(\"Residuum\")\n",
    "plt.ylabel(\"Häufigkeit\")\n",
    "plt.grid(True)\n",
    "plt.show()"
   ]
  },
  {
   "cell_type": "code",
   "execution_count": 199,
   "metadata": {},
   "outputs": [],
   "source": [
    "residuals = y_test_no - rf_predictions_no\n",
    "\n",
    "plt.figure(figsize=(10, 6))\n",
    "plt.hist(residuals, bins=50, edgecolor='k', alpha=0.7)\n",
    "plt.title(\"Verteilung der Residuen (Random Forest Regression)\")\n",
    "plt.xlabel(\"Residuum\")\n",
    "plt.ylabel(\"Häufigkeit\")\n",
    "plt.grid(True)\n",
    "plt.show()"
   ]
  },
  {
   "cell_type": "markdown",
   "metadata": {},
   "source": [
    "Im Vergleich dazu zeigt die Random Forest Regression eine wesentlich engere Fehlerverteilung, bei der die meisten Residuen deutlich näher an Null liegen. Dies verdeutlicht, dass die Vorhersagen des Random Forest Modells genauer sind und der Marktwert der Spieler besser approximiert wurde. Die Random Forest Regression ist ein nichtlineares Modell, das in der Lage ist, komplexe Muster und Beziehungen in den Daten besser zu erfassen. Dadurch reduziert es die Anzahl großer Fehler und zeigt eine insgesamt konzentriertere Residuenverteilung mit weniger Ausreißern."
   ]
  },
  {
   "cell_type": "markdown",
   "metadata": {},
   "source": [
    "## Discussion + Conclusion\n"
   ]
  },
  {
   "cell_type": "markdown",
   "metadata": {},
   "source": [
    "Emotionen"
   ]
  },
  {
   "cell_type": "markdown",
   "metadata": {},
   "source": [
    "> REMOVE THE FOLLOWING TEXT\n",
    "\n",
    "In this section you'll include a summary of what you have learned about your research question along with statistical arguments supporting your conclusions.\n",
    "In addition, discuss the limitations of your analysis and provide suggestions on ways the analysis could be improved.\n",
    "Any potential issues pertaining to the reliability and validity of your data and appropriateness of the statistical analysis should also be discussed here.\n",
    "Lastly, this section will include ideas for future work."
   ]
  },
  {
   "cell_type": "markdown",
   "metadata": {},
   "source": []
  }
 ],
 "metadata": {
  "kernelspec": {
   "display_name": "project",
   "language": "python",
   "name": "python3"
  },
  "language_info": {
   "codemirror_mode": {
    "name": "ipython",
    "version": 3
   },
   "file_extension": ".py",
   "mimetype": "text/x-python",
   "name": "python",
   "nbconvert_exporter": "python",
   "pygments_lexer": "ipython3",
   "version": "3.12.8"
  },
  "orig_nbformat": 4
 },
 "nbformat": 4,
 "nbformat_minor": 2
}
