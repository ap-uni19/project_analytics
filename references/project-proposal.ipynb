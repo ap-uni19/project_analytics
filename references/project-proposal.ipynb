{
 "cells": [
  {
   "cell_type": "markdown",
   "metadata": {},
   "source": [
    "# Project proposal\n",
    "\n",
    "---\n",
    "\n",
    "Group name: Antonino Piloro\n",
    "\n",
    "---\n"
   ]
  },
  {
   "cell_type": "markdown",
   "metadata": {},
   "source": [
    "## Introduction\n",
    "\n",
    "The introduction section includes\n",
    "\n",
    "-   an introduction to the subject matter you're investigating\n",
    "-   the motivation for your research question (citing any relevant literature)\n",
    "-   the general research question you wish to explore\n",
    "-   your hypotheses regarding the research question of interest."
   ]
  },
  {
   "cell_type": "markdown",
   "metadata": {},
   "source": [
    "Die Welt des Fußballs ist nicht nur ein sportliches Phänomen, sondern auch ein komplexes wirtschaftliches und soziales System. Einer der zentralen Aspekte im Profifußball ist der Marktwert von Spielern, der zahlreiche Faktoren wie Leistung, Alter, Position und Transferhistorie widerspiegelt. Der Marktwert ist dabei nicht nur ein Indikator für den individuellen Wert eines Spielers, sondern beeinflusst auch strategische Entscheidungen von Vereinen, wie Transferpolitik und Teamzusammenstellung. Das Hauptinteresse dieser Analyse liegt darin, herauszufinden, welche Faktoren den Marktwert eines Spielers am stärksten beeinflussen. \n",
    "\n",
    "Zusätzlich motiviert der Zugang zu detaillierten Daten aus Transfermarkt.de, diese Fragen auf einer bisher nicht dagewesenen Granularität zu untersuchen, um neue Einsichten in die Mechanismen hinter Marktwerten zu gewinnen.\n",
    "\n",
    "### Forschungsfrage\n",
    "Welche Faktoren beeinflussen den Marktwert eines Fußballspielers am meisten? Sind diese primär leistungsbezogen (z. B. Tore, Assists), demografisch (z. B. Alter, Größe), oder durch externe Faktoren wie Wettbewerb und Liga geprägt?\n",
    "\n",
    "Hypothesen\n",
    "Leistungsbezogene Faktoren: Spieler mit höheren Tor- und Assistzahlen haben einen signifikant höheren Marktwert.\n",
    "Demografische Merkmale: Jüngere Spieler, insbesondere Stürmer, erzielen tendenziell höhere Marktwerte.\n",
    "Externe Faktoren: Spieler in hochrangigen Ligen oder populären Wettbewerben haben im Durchschnitt einen höheren Marktwert, unabhängig von individuellen Leistungen."
   ]
  },
  {
   "cell_type": "markdown",
   "metadata": {},
   "source": [
    "\n",
    "## Data description\n",
    "\n",
    "In this section, you will describe the data set you wish to explore. This includes\n",
    "\n",
    "-   description of the observations in the data set,\n",
    "-   description of how the data was originally collected (not how you found the data but how the original curator of the data collected it)."
   ]
  },
  {
   "cell_type": "markdown",
   "metadata": {},
   "source": [
    "Die Daten stammen aus den regelmäßig aktualisierten Datensätzen von Transfermarkt.de, die über einen automatisierten Scraper erstellt werden. Sie enthalten Informationen aus der gesamten Fußballwelt, einschließlich:\n",
    "\n",
    "Spieler: Alter, Größe, Position, Marktwert, bevorzugter Fuß, Nationalität\n",
    "Vereine: Mannschaftsgröße, Netto-Transferbilanz, Stadionkapazität\n",
    "Spiele: Tore, Assists, Karten, Aufstellungen, Spielzeit\n",
    "Wettbewerbe: Ligenniveau, Turniere\n",
    "Transfers: Transfergebühren, vorheriger und neuer Verein\n",
    "Der vollständige Datensatz ist in mehreren CSV-Dateien organisiert und umfasst mehr als 10 Spalten und über 100 Beobachtungen pro Tabelle, wobei die Tabellen durch ID-Spalten verknüpft werden können.\n",
    "\n",
    "Die Originaldaten wurden über die öffentliche Website Transfermarkt.de mithilfe eines Scrapers gesammelt und auf Kaggle freigegeben. Dieser Prozess ermöglicht es, regelmäßig (wöchentlich) aktualisierte Daten aus einer etablierten Quelle zu extrahieren. Die Daten sind daher qualitativ hochwertig und für die Analyse gut geeignet."
   ]
  },
  {
   "cell_type": "markdown",
   "metadata": {},
   "source": [
    "\n",
    "## Analysis approach\n",
    "\n",
    "In this section, you will provide a brief overview of your analysis approach. This includes:\n",
    "\n",
    "-   Description of the response variable.\n",
    "-   Visualization and summary statistics for the response variable.\n",
    "-   List of variables that will be considered as predictors\n",
    "-   Your model type (what kind of model(s) will you use ... e.g. linear regression)"
   ]
  },
  {
   "cell_type": "markdown",
   "metadata": {},
   "source": [
    "#### Response Variable\n",
    "Die Antwortvariable ist der Marktwert eines Spielers (in Millionen Euro). Sie wird als numerische, kontinuierliche Variable behandelt.\n",
    "\n",
    "#### Visualisierung und Zusammenfassung der Antwortvariablen\n",
    "Um den Marktwert besser zu verstehen, werden:\n",
    "\n",
    "- Histogramme erstellt, um die Verteilung des Marktwerts zu visualisieren.\n",
    "- Zusammenfassungsstatistiken wie Mittelwert, Median und Standardabweichung berechnet.\n",
    "- Boxplots für verschiedene Spielerpositionen gezeichnet.\n",
    "\n",
    "#### Prädiktoren\n",
    "Die folgenden Variablen werden als Prädiktoren betrachtet:\n",
    "\n",
    "Leistungsbezogene Variablen: Tore, Assists, Spielzeit, Karten\n",
    "Demografische Merkmale: Alter, Größe, bevorzugter Fuß, Nationalität\n",
    "Externe Faktoren: Ligenniveau, Wettbewerbe, Transferhistorie\n",
    "Modelltyp\n",
    "Ein lineares Regressionsmodell wird verwendet, um die Beziehung zwischen den Prädiktoren und der Antwortvariablen zu untersuchen. Gegebenenfalls werden polynomiale Terme und Interaktionseffekte hinzugefügt, um nicht-lineare Beziehungen und Wechselwirkungen zu berücksichtigen. Modelle wie Random Forests oder Gradient Boosting Machines könnten alternativ getestet werden, um komplexe Zusammenhänge zu modellieren."
   ]
  },
  {
   "cell_type": "markdown",
   "metadata": {},
   "source": [
    "Hier wird ein kleiner Ausschnitt der deskriptive Statistik des Dataframes spieler_df geziegt"
   ]
  },
  {
   "cell_type": "code",
   "execution_count": null,
   "metadata": {},
   "outputs": [
    {
     "data": {
      "text/html": [
       "<div>\n",
       "<style scoped>\n",
       "    .dataframe tbody tr th:only-of-type {\n",
       "        vertical-align: middle;\n",
       "    }\n",
       "\n",
       "    .dataframe tbody tr th {\n",
       "        vertical-align: top;\n",
       "    }\n",
       "\n",
       "    .dataframe thead th {\n",
       "        text-align: right;\n",
       "    }\n",
       "</style>\n",
       "<table border=\"1\" class=\"dataframe\">\n",
       "  <thead>\n",
       "    <tr style=\"text-align: right;\">\n",
       "      <th></th>\n",
       "      <th>player_id</th>\n",
       "      <th>last_season</th>\n",
       "      <th>current_club_id</th>\n",
       "      <th>height_in_cm</th>\n",
       "      <th>market_value_in_eur</th>\n",
       "      <th>highest_market_value_in_eur</th>\n",
       "    </tr>\n",
       "  </thead>\n",
       "  <tbody>\n",
       "    <tr>\n",
       "      <th>count</th>\n",
       "      <td>32407.00</td>\n",
       "      <td>32407.00</td>\n",
       "      <td>32407.00</td>\n",
       "      <td>30067.00</td>\n",
       "      <td>30872.00</td>\n",
       "      <td>30872.00</td>\n",
       "    </tr>\n",
       "    <tr>\n",
       "      <th>mean</th>\n",
       "      <td>344613.82</td>\n",
       "      <td>2019.34</td>\n",
       "      <td>4808.36</td>\n",
       "      <td>182.30</td>\n",
       "      <td>1614420.19</td>\n",
       "      <td>3683324.53</td>\n",
       "    </tr>\n",
       "    <tr>\n",
       "      <th>std</th>\n",
       "      <td>280698.74</td>\n",
       "      <td>3.97</td>\n",
       "      <td>11601.16</td>\n",
       "      <td>6.91</td>\n",
       "      <td>6359720.38</td>\n",
       "      <td>9665478.52</td>\n",
       "    </tr>\n",
       "    <tr>\n",
       "      <th>min</th>\n",
       "      <td>10.00</td>\n",
       "      <td>2012.00</td>\n",
       "      <td>3.00</td>\n",
       "      <td>18.00</td>\n",
       "      <td>10000.00</td>\n",
       "      <td>10000.00</td>\n",
       "    </tr>\n",
       "    <tr>\n",
       "      <th>25%</th>\n",
       "      <td>106752.00</td>\n",
       "      <td>2016.00</td>\n",
       "      <td>403.00</td>\n",
       "      <td>178.00</td>\n",
       "      <td>100000.00</td>\n",
       "      <td>275000.00</td>\n",
       "    </tr>\n",
       "    <tr>\n",
       "      <th>50%</th>\n",
       "      <td>282428.00</td>\n",
       "      <td>2020.00</td>\n",
       "      <td>1063.00</td>\n",
       "      <td>183.00</td>\n",
       "      <td>250000.00</td>\n",
       "      <td>800000.00</td>\n",
       "    </tr>\n",
       "    <tr>\n",
       "      <th>75%</th>\n",
       "      <td>524287.50</td>\n",
       "      <td>2023.00</td>\n",
       "      <td>3060.00</td>\n",
       "      <td>187.00</td>\n",
       "      <td>700000.00</td>\n",
       "      <td>3000000.00</td>\n",
       "    </tr>\n",
       "    <tr>\n",
       "      <th>max</th>\n",
       "      <td>1309800.00</td>\n",
       "      <td>2024.00</td>\n",
       "      <td>110302.00</td>\n",
       "      <td>207.00</td>\n",
       "      <td>200000000.00</td>\n",
       "      <td>200000000.00</td>\n",
       "    </tr>\n",
       "  </tbody>\n",
       "</table>\n",
       "</div>"
      ],
      "text/plain": [
       "       player_id  last_season  current_club_id  height_in_cm  \\\n",
       "count   32407.00     32407.00         32407.00      30067.00   \n",
       "mean   344613.82      2019.34          4808.36        182.30   \n",
       "std    280698.74         3.97         11601.16          6.91   \n",
       "min        10.00      2012.00             3.00         18.00   \n",
       "25%    106752.00      2016.00           403.00        178.00   \n",
       "50%    282428.00      2020.00          1063.00        183.00   \n",
       "75%    524287.50      2023.00          3060.00        187.00   \n",
       "max   1309800.00      2024.00        110302.00        207.00   \n",
       "\n",
       "       market_value_in_eur  highest_market_value_in_eur  \n",
       "count             30872.00                     30872.00  \n",
       "mean            1614420.19                   3683324.53  \n",
       "std             6359720.38                   9665478.52  \n",
       "min               10000.00                     10000.00  \n",
       "25%              100000.00                    275000.00  \n",
       "50%              250000.00                    800000.00  \n",
       "75%              700000.00                   3000000.00  \n",
       "max           200000000.00                 200000000.00  "
      ]
     },
     "metadata": {},
     "output_type": "display_data"
    }
   ],
   "source": [
    "spieler_df.describe()"
   ]
  },
  {
   "cell_type": "markdown",
   "metadata": {},
   "source": [
    "#### Modelltyp\n",
    "Ein lineares Regressionsmodell wird verwendet, um die Beziehung zwischen den Prädiktoren und der Antwortvariablen zu untersuchen. Gegebenenfalls werden polynomiale Terme und Interaktionseffekte hinzugefügt, um nicht-lineare Beziehungen und Wechselwirkungen zu berücksichtigen. Modelle wie Random Forests oder Gradient Boosting Machines könnten alternativ getestet werden, um komplexe Zusammenhänge zu modellieren."
   ]
  },
  {
   "cell_type": "markdown",
   "metadata": {},
   "source": [
    "## Data dictionary\n",
    "\n",
    "*Create a data dictionary for all the variables in your data set. You may fill out the data description table or create your own table with Pandas:*\n",
    "\n",
    "<br>\n",
    "\n",
    "\n",
    "| Name  |   Description\t| Role   \t| Type   \t|  Format \t|\n",
    "|---\t|---\t        |---    \t|---\t    |---\t|\n",
    "|   \t|   \t        |   \t    |   \t    |   \t|\n",
    "|   \t|   \t        |   \t    |   \t    |   \t|\n",
    "|   \t|   \t        |   \t    |   \t    |   \t|\n",
    "\n",
    "\n",
    "<br>\n",
    "\n",
    "- `Role`: response, predictor, ID (ID columns are not used in a model but can help to better understand the data)\n",
    "\n",
    "- `Type`: nominal, ordinal or numeric\n",
    "\n",
    "- `Format`: int, float, string, category, date or object"
   ]
  },
  {
   "cell_type": "markdown",
   "metadata": {},
   "source": [
    "| Name               | Description                                   | Role       | Type       | Format   |\n",
    "|--------------------|-----------------------------------------------|------------|------------|----------|\n",
    "| player_id          | Eindeutige Spieler-ID                        | ID         | nominal    | string   |\n",
    "| player_name        | Name des Spielers                            | ID         | string     | string   |\n",
    "| market_value       | Marktwert des Spielers (in Mio. Euro)         | Response   | numeric    | float    |\n",
    "| age                | Alter des Spielers                           | Predictor  | numeric    | int      |\n",
    "| height             | Größe des Spielers (in cm)                   | Predictor  | numeric    | int      |\n",
    "| preferred_foot     | Bevorzugter Fuß (links/rechts)                | Predictor  | nominal    | string   |\n",
    "| nationality        | Nationalität des Spielers                    | Predictor  | nominal    | string   |\n",
    "| position           | Position des Spielers auf dem Spielfeld      | Predictor  | nominal    | string   |\n",
    "| goals              | Anzahl erzielter Tore                        | Predictor  | numeric    | int      |\n",
    "| assists            | Anzahl gegebener Assists                     | Predictor  | numeric    | int      |\n",
    "| minutes_played     | Spielzeit in Minuten                         | Predictor  | numeric    | int      |\n",
    "| league             | Ligenniveau                                  | Predictor  | ordinal    | string   |\n",
    "| transfer_fee       | Transfergebühr (in Mio. Euro)                | Predictor  | numeric    | float    |\n",
    "| club_size          | Mannschaftsgröße                             | Predictor  | numeric    | int      |\n",
    "| stadium_capacity   | Kapazität des Vereinsstadions                | Predictor  | numeric    | int      |\n"
   ]
  },
  {
   "cell_type": "markdown",
   "metadata": {},
   "source": []
  }
 ],
 "metadata": {
  "kernelspec": {
   "display_name": "Python 3.9.12 ('base')",
   "language": "python",
   "name": "python3"
  },
  "language_info": {
   "name": "python",
   "version": "3.9.12"
  },
  "orig_nbformat": 4,
  "vscode": {
   "interpreter": {
    "hash": "463226f144cc21b006ce6927bfc93dd00694e52c8bc6857abb6e555b983749e9"
   }
  }
 },
 "nbformat": 4,
 "nbformat_minor": 2
}
